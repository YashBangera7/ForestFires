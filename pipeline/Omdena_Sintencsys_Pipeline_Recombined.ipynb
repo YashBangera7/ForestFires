{
  "nbformat": 4,
  "nbformat_minor": 0,
  "metadata": {
    "colab": {
      "name": "Omdena_Sintencsys_Pipeline_Recombined.ipynb",
      "provenance": []
    },
    "kernelspec": {
      "name": "python3",
      "display_name": "Python 3"
    }
  },
  "cells": [
    {
      "cell_type": "code",
      "metadata": {
        "id": "BxYTgvgrRr07",
        "colab_type": "code",
        "colab": {
          "base_uri": "https://localhost:8080/",
          "height": 124
        },
        "outputId": "4af1a019-1018-419e-ac59-0917516da1e9"
      },
      "source": [
        "from google.colab import drive\n",
        "drive.mount('/content/drive', force_remount = True)"
      ],
      "execution_count": 1,
      "outputs": [
        {
          "output_type": "stream",
          "text": [
            "Go to this URL in a browser: https://accounts.google.com/o/oauth2/auth?client_id=947318989803-6bn6qk8qdgf4n4g3pfee6491hc0brc4i.apps.googleusercontent.com&redirect_uri=urn%3aietf%3awg%3aoauth%3a2.0%3aoob&response_type=code&scope=email%20https%3a%2f%2fwww.googleapis.com%2fauth%2fdocs.test%20https%3a%2f%2fwww.googleapis.com%2fauth%2fdrive%20https%3a%2f%2fwww.googleapis.com%2fauth%2fdrive.photos.readonly%20https%3a%2f%2fwww.googleapis.com%2fauth%2fpeopleapi.readonly\n",
            "\n",
            "Enter your authorization code:\n",
            "··········\n",
            "Mounted at /content/drive\n"
          ],
          "name": "stdout"
        }
      ]
    },
    {
      "cell_type": "code",
      "metadata": {
        "id": "Ul_SdAN7V0kW",
        "colab_type": "code",
        "colab": {}
      },
      "source": [
        "import pandas as pd"
      ],
      "execution_count": 0,
      "outputs": []
    },
    {
      "cell_type": "code",
      "metadata": {
        "id": "Iwvc5p_EUaPF",
        "colab_type": "code",
        "colab": {}
      },
      "source": [
        "import pickle\n",
        "infile = open('/content/drive/My Drive/forestfire/test20191128.pickle','rb')\n",
        "df1 = pickle.load(infile)\n",
        "infile.close()"
      ],
      "execution_count": 0,
      "outputs": []
    },
    {
      "cell_type": "code",
      "metadata": {
        "id": "PKGC9tePVSOs",
        "colab_type": "code",
        "colab": {}
      },
      "source": [
        "import pickle\n",
        "infile = open('/content/drive/My Drive/forestfire/validation20191128.pickle','rb')\n",
        "df2 = pickle.load(infile)\n",
        "infile.close()"
      ],
      "execution_count": 0,
      "outputs": []
    },
    {
      "cell_type": "code",
      "metadata": {
        "id": "WW5llNTSVcX7",
        "colab_type": "code",
        "colab": {}
      },
      "source": [
        "import pickle\n",
        "infile = open('/content/drive/My Drive/forestfire/train20191128.pickle','rb')\n",
        "df3 = pickle.load(infile)\n",
        "infile.close()"
      ],
      "execution_count": 0,
      "outputs": []
    },
    {
      "cell_type": "code",
      "metadata": {
        "id": "d7Q4LzEIVhPX",
        "colab_type": "code",
        "colab": {}
      },
      "source": [
        "df_labeled = pd.concat([df1, df2, df3], axis = 0)"
      ],
      "execution_count": 0,
      "outputs": []
    },
    {
      "cell_type": "code",
      "metadata": {
        "id": "uTVMuSYMVyHu",
        "colab_type": "code",
        "colab": {
          "base_uri": "https://localhost:8080/",
          "height": 35
        },
        "outputId": "cf3c0418-cbbc-4f00-eb01-26cc24858048"
      },
      "source": [
        "df_labeled.shape, df1.shape, df2.shape, df3.shape, train_len"
      ],
      "execution_count": 20,
      "outputs": [
        {
          "output_type": "execute_result",
          "data": {
            "text/plain": [
              "((8553, 6), (1147, 6), (1511, 6), (5895, 6), 1147)"
            ]
          },
          "metadata": {
            "tags": []
          },
          "execution_count": 20
        }
      ]
    },
    {
      "cell_type": "code",
      "metadata": {
        "id": "vF2lAaUcZQLu",
        "colab_type": "code",
        "colab": {}
      },
      "source": [
        "df_shuffled = df_labeled.sample(frac=1, random_state = 42)"
      ],
      "execution_count": 0,
      "outputs": []
    },
    {
      "cell_type": "code",
      "metadata": {
        "id": "uqqNaCXnWqqd",
        "colab_type": "code",
        "colab": {}
      },
      "source": [
        "train_ind = int(round(df_shuffled.shape[0]*0.6))\n",
        "val_ind = int(round(df_shuffled.shape[0]*0.8))"
      ],
      "execution_count": 0,
      "outputs": []
    },
    {
      "cell_type": "code",
      "metadata": {
        "id": "bJG_EpP2V9Bo",
        "colab_type": "code",
        "colab": {}
      },
      "source": [
        "df_train = df_shuffled[0:train_ind]\n",
        "df_val = df_shuffled[train_ind : val_ind]\n",
        "df_test = df_shuffled[val_ind :]"
      ],
      "execution_count": 0,
      "outputs": []
    },
    {
      "cell_type": "code",
      "metadata": {
        "id": "XJwWFSe2Wgew",
        "colab_type": "code",
        "colab": {
          "base_uri": "https://localhost:8080/",
          "height": 35
        },
        "outputId": "a7003dfa-f31f-4709-934f-4476dbdf5a57"
      },
      "source": [
        "df_train.shape, df_val.shape, df_test.shape"
      ],
      "execution_count": 37,
      "outputs": [
        {
          "output_type": "execute_result",
          "data": {
            "text/plain": [
              "((5132, 6), (1710, 6), (1711, 6))"
            ]
          },
          "metadata": {
            "tags": []
          },
          "execution_count": 37
        }
      ]
    },
    {
      "cell_type": "code",
      "metadata": {
        "id": "M54n6cf_WikE",
        "colab_type": "code",
        "colab": {}
      },
      "source": [
        "date = '20191215'"
      ],
      "execution_count": 0,
      "outputs": []
    },
    {
      "cell_type": "code",
      "metadata": {
        "id": "TPSWHqzNXKBm",
        "colab_type": "code",
        "colab": {}
      },
      "source": [
        "with open('drive/My Drive/forestfire/train' + date + '.pickle', 'wb') as handle:\n",
        "    pickle.dump(df_train, handle, protocol=pickle.HIGHEST_PROTOCOL)"
      ],
      "execution_count": 0,
      "outputs": []
    },
    {
      "cell_type": "code",
      "metadata": {
        "id": "-_XtDnBXXS5B",
        "colab_type": "code",
        "colab": {}
      },
      "source": [
        "with open('drive/My Drive/forestfire/validation' + date + '.pickle', 'wb') as handle:\n",
        "    pickle.dump(df_val, handle, protocol=pickle.HIGHEST_PROTOCOL)"
      ],
      "execution_count": 0,
      "outputs": []
    },
    {
      "cell_type": "code",
      "metadata": {
        "id": "DrzPZ8sfXkSB",
        "colab_type": "code",
        "colab": {}
      },
      "source": [
        "with open('drive/My Drive/forestfire/test' + date + '.pickle', 'wb') as handle:\n",
        "    pickle.dump(df_test, handle, protocol=pickle.HIGHEST_PROTOCOL)"
      ],
      "execution_count": 0,
      "outputs": []
    },
    {
      "cell_type": "code",
      "metadata": {
        "id": "xMuMeb0BX289",
        "colab_type": "code",
        "colab": {}
      },
      "source": [
        ""
      ],
      "execution_count": 0,
      "outputs": []
    }
  ]
}