{
 "cells": [
  {
   "cell_type": "code",
   "execution_count": 1,
   "metadata": {},
   "outputs": [],
   "source": [
    "# Add base directory for forestfire project to path to allow use of utils\n",
    "import os\n",
    "import sys\n",
    "nb_dir = os.path.split(os.getcwd())[0]\n",
    "if nb_dir not in sys.path:\n",
    "    sys.path.append(nb_dir)"
   ]
  },
  {
   "cell_type": "code",
   "execution_count": 2,
   "metadata": {},
   "outputs": [],
   "source": [
    "import cv2\n",
    "from skimage.metrics import structural_similarity\n",
    "from os import listdir\n",
    "from os.path import isdir\n",
    "import numpy as np\n",
    "import PIL\n",
    "import numpy as np\n",
    "import cv2\n",
    "import matplotlib.pyplot as plt\n",
    "\n",
    "from IPython.display import Image\n",
    "from IPython.display import display\n",
    "\n",
    "import seaborn as sns\n",
    "import gc\n",
    "from multiprocessing import Pool\n",
    "from utils.image_utils import rmse, ssim_score, video_iterator, blur_score"
   ]
  },
  {
   "cell_type": "code",
   "execution_count": 3,
   "metadata": {},
   "outputs": [],
   "source": [
    "def list_files_with_extension(directory, extension):\n",
    "    return (f for f in listdir(directory) if f.endswith('.' + extension))"
   ]
  },
  {
   "cell_type": "code",
   "execution_count": 4,
   "metadata": {},
   "outputs": [],
   "source": [
    "def generate_significant_frames(input_path, input_file, output_image_path, compare_function, threshold,\n",
    "                                downsample_size, greyscale, frames_per_second, show_frames=False):\n",
    "    \n",
    "    vid_frame_list = list(video_iterator(input_path, input_file, frames_per_second))\n",
    "    \n",
    "    if vid_frame_list is None:\n",
    "        return []\n",
    "    \n",
    "    sig_frames = []\n",
    "    last_sig_frame = None\n",
    "    for i in range(len(vid_frame_list) - 1):\n",
    "        curr_frame = vid_frame_list[i + 1]\n",
    "        \n",
    "        if last_sig_frame is None:\n",
    "            _blur_score = blur_score(curr_frame, downsample_size)\n",
    "            if _blur_score >= 75:\n",
    "                last_sig_frame = curr_frame\n",
    "                sig_frames += [(curr_frame, input_file + \"_\" + str(i))]\n",
    "\n",
    "        else:\n",
    "            score = compare_function(last_sig_frame, curr_frame, downsample_size=downsample_size, greyscale=greyscale)\n",
    "            if score <= threshold:\n",
    "                if blur_score(curr_frame, downsample_size) >= 200:\n",
    "                    last_sig_frame = curr_frame\n",
    "                    sig_frames += [(curr_frame, input_file + \"_\" + str(i))]\n",
    "    \n",
    "    for img in sig_frames:\n",
    "        if show_frames:\n",
    "            plt.imshow(cv2.cvtColor(img, cv2.COLOR_BGR2RGB))\n",
    "            plt.show()\n",
    "        cv2.imwrite(output_image_path + \"/\" + str(img[1])  + \".jpg\", img[0])\n",
    "    \n",
    "    print(\"Frame generation for\", input_file, \"complete - \", len(vid_frame_list), \"frames reduced to\", len(sig_frames))"
   ]
  },
  {
   "cell_type": "code",
   "execution_count": 33,
   "metadata": {},
   "outputs": [],
   "source": [
    "# Change this to suit your environment\n",
    "base_path = \"/notebooks/storage/forestfire/data\"\n",
    "input_path = base_path + \"/new_videos/\"\n",
    "output_image_path = base_path + \"/videos/frame_extracts_new_periodic/\"\n",
    "video_zip_path = \"https://sintecsys-omdena.s3.amazonaws.com/new_videos/\"\n",
    "video_zip_name = \"new_videos.zip\""
   ]
  },
  {
   "cell_type": "code",
   "execution_count": 34,
   "metadata": {},
   "outputs": [],
   "source": [
    "# if isdir(input_path) == False:\n",
    "#     !mkdir $input_path\n",
    "# if isdir(output_image_path) == False:\n",
    "#     !mkdir $output_image_path\n",
    "# !cd {input_path} \\\n",
    "#     && curl -O {video_zip_path + video_zip_name}"
   ]
  },
  {
   "cell_type": "code",
   "execution_count": 35,
   "metadata": {},
   "outputs": [],
   "source": [
    "# !cd {input_path} && \\\n",
    "#     sudo unzip -o -q {video_zip_name} && \\\n",
    "#     sudo chmod -R u+rw  ./ && \\\n",
    "#     sudo mv -f {\"./\" + video_zip_name.split(\".\")[0] + \"/*.mp4\"} ./ && \\\n",
    "#     sudo rm -Rf {\"./\" +video_zip_name.split(\".\")[0]} ./__*"
   ]
  },
  {
   "cell_type": "code",
   "execution_count": 36,
   "metadata": {},
   "outputs": [],
   "source": [
    "video_list = sorted(list(list_files_with_extension(input_path, \"mp4\")) + list(list_files_with_extension(input_path, \"dav\")))"
   ]
  },
  {
   "cell_type": "code",
   "execution_count": 37,
   "metadata": {},
   "outputs": [
    {
     "data": {
      "text/plain": [
       "['20191104140000_20191104143000_100_F_Main.dav',\n",
       " '20191104140000_20191104143000_200_F_Main.dav',\n",
       " '20191104140000_20191104143000_400_F_Main.dav',\n",
       " '20191104140000_20191104143000_800_F_Main.dav',\n",
       " '20191104140000_20191104144000_1000_F_Main.dav',\n",
       " '20191104140000_20191104144000_800_F_Main.dav',\n",
       " 'T1_15h.mp4',\n",
       " 'T3_15h30.mp4',\n",
       " 'T4_15h47.mp4']"
      ]
     },
     "execution_count": 37,
     "metadata": {},
     "output_type": "execute_result"
    }
   ],
   "source": [
    "video_list"
   ]
  },
  {
   "cell_type": "code",
   "execution_count": 38,
   "metadata": {},
   "outputs": [],
   "source": [
    "# def gsf_for_pool(video):\n",
    "#     return generate_significant_frames(input_path, str(video), output_image_path, compare_function=ssim_score,\n",
    "#                                                       threshold=0.275, downsample_size=(1080//4, 1920//4),\n",
    "#                                                       greyscale=True, frames_per_second=2, show_frames=False)"
   ]
  },
  {
   "cell_type": "code",
   "execution_count": 39,
   "metadata": {},
   "outputs": [],
   "source": [
    "def gsf_for_pool(video):\n",
    "    return generate_significant_frames(input_path, str(video), output_image_path, compare_function=ssim_score,\n",
    "                                                      threshold=1, downsample_size=(1080//4, 1920//4),\n",
    "                                                      greyscale=True, frames_per_second=1, show_frames=False)"
   ]
  },
  {
   "cell_type": "code",
   "execution_count": 40,
   "metadata": {},
   "outputs": [
    {
     "name": "stdout",
     "output_type": "stream",
     "text": [
      "Frame generation for 20191104140000_20191104143000_200_F_Main.dav complete -  0 frames reduced to 0\n",
      "Frame generation for 20191104140000_20191104143000_400_F_Main.dav complete -  1 frames reduced to 0\n",
      "Frame generation for 20191104140000_20191104143000_800_F_Main.dav complete -  1 frames reduced to 0\n",
      "Frame generation for T1_15h.mp4 complete -  302 frames reduced to 301\n",
      "Frame generation for T4_15h47.mp4 complete -  302 frames reduced to 301\n",
      "Frame generation for T3_15h30.mp4 complete -  302 frames reduced to 301\n",
      "Frame generation for 20191104140000_20191104143000_100_F_Main.dav complete -  1798 frames reduced to 1797\n",
      "Frame generation for 20191104140000_20191104144000_1000_F_Main.dav complete -  600 frames reduced to 597\n",
      "Frame generation for 20191104140000_20191104144000_800_F_Main.dav complete -  2398 frames reduced to 2287\n"
     ]
    }
   ],
   "source": [
    "if __name__ == '__main__':\n",
    "    p = Pool(8)\n",
    "    p.map(gsf_for_pool, video_list)"
   ]
  },
  {
   "cell_type": "code",
   "execution_count": null,
   "metadata": {},
   "outputs": [],
   "source": []
  }
 ],
 "metadata": {
  "kernelspec": {
   "display_name": "Python 3",
   "language": "python",
   "name": "python3"
  },
  "language_info": {
   "codemirror_mode": {
    "name": "ipython",
    "version": 3
   },
   "file_extension": ".py",
   "mimetype": "text/x-python",
   "name": "python",
   "nbconvert_exporter": "python",
   "pygments_lexer": "ipython3",
   "version": "3.6.8"
  }
 },
 "nbformat": 4,
 "nbformat_minor": 4
}
