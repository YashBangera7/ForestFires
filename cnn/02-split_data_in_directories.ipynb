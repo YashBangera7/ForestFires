{
 "cells": [
  {
   "cell_type": "markdown",
   "metadata": {},
   "source": [
    "In this notebook the daytime images selected by using the previous notebook \"01-moving_files.ipynb\" are separated in train, validation, and test directories."
   ]
  },
  {
   "cell_type": "code",
   "execution_count": 1,
   "metadata": {
    "ExecuteTime": {
     "end_time": "2019-12-14T13:39:15.858524Z",
     "start_time": "2019-12-14T13:39:15.191172Z"
    }
   },
   "outputs": [],
   "source": [
    "import pandas as pd \n",
    "import numpy as np\n",
    "import os\n",
    "import glob\n",
    "import shutil"
   ]
  },
  {
   "cell_type": "code",
   "execution_count": 2,
   "metadata": {
    "ExecuteTime": {
     "end_time": "2019-12-14T13:39:15.865366Z",
     "start_time": "2019-12-14T13:39:15.858524Z"
    }
   },
   "outputs": [],
   "source": [
    "# folders where daytime images SIM and NAO are\n",
    "\n",
    "base_dir = \"../data/TTG_TUR/\"\n",
    "base_dir_SIM = \"../data/TTG_TUR/SIM/\"\n",
    "base_dir_NAO = \"../data/TTG_TUR/NAO/\""
   ]
  },
  {
   "cell_type": "code",
   "execution_count": 3,
   "metadata": {
    "ExecuteTime": {
     "end_time": "2019-12-14T13:39:16.165564Z",
     "start_time": "2019-12-14T13:39:15.869357Z"
    }
   },
   "outputs": [
    {
     "name": "stdout",
     "output_type": "stream",
     "text": [
      "Number of images with label SIM :  1504\n",
      "Number of images with label NAO :  4821\n",
      "SIM:24.0 %\n",
      "NAO:76.0 %\n"
     ]
    }
   ],
   "source": [
    "# How many images SIM and NAO\n",
    "\n",
    "from os import listdir\n",
    "from os.path import isfile, join\n",
    "\n",
    "list_SIM = [f for f in listdir(base_dir_SIM) if isfile(join(base_dir_SIM, f))]\n",
    "list_NAO = [f for f in listdir(base_dir_NAO) if isfile(join(base_dir_NAO, f))]\n",
    "\n",
    "print(\"Number of images with label SIM : \", len(list_SIM))\n",
    "print(\"Number of images with label NAO : \", len(list_NAO))\n",
    "\n",
    "print(\"SIM:{} %\".format(round(len(list_SIM)/(len(list_SIM)+len(list_NAO)),2)*100))\n",
    "print(\"NAO:{} %\".format(round(len(list_NAO)/(len(list_SIM)+len(list_NAO)),2)*100))\n"
   ]
  },
  {
   "cell_type": "markdown",
   "metadata": {},
   "source": [
    "As we can see the data is imbalanced **24% SIM** and **76% NAO**."
   ]
  },
  {
   "cell_type": "markdown",
   "metadata": {},
   "source": [
    "# Create directories to copy images splitted by train, validation, and test"
   ]
  },
  {
   "cell_type": "code",
   "execution_count": 4,
   "metadata": {
    "ExecuteTime": {
     "end_time": "2019-12-14T13:39:16.186539Z",
     "start_time": "2019-12-14T13:39:16.168555Z"
    }
   },
   "outputs": [],
   "source": [
    "# Directories for our training,\n",
    "# validation and test splits\n",
    "\n",
    "train_dir = os.path.join(base_dir, 'train')\n",
    "if not os.path.exists(train_dir):\n",
    "    os.mkdir(train_dir)\n",
    "\n",
    "validation_dir = os.path.join(base_dir, 'validation')\n",
    "if not os.path.exists(validation_dir):\n",
    "    os.mkdir(validation_dir)\n",
    "\n",
    "test_dir = os.path.join(base_dir, 'test')\n",
    "if not os.path.exists(test_dir):\n",
    "    os.mkdir(test_dir)\n",
    "\n",
    "\n",
    "# Directory with our training images\n",
    "train_SIM_dir = os.path.join(train_dir, 'SIM')\n",
    "if not os.path.exists(train_SIM_dir):\n",
    "    os.mkdir(train_SIM_dir)\n",
    "\n",
    "# Directory with our training images\n",
    "train_NAO_dir = os.path.join(train_dir, 'NAO')\n",
    "if not os.path.exists(train_NAO_dir):\n",
    "    os.mkdir(train_NAO_dir)\n",
    "\n",
    "# Directory with our validation images\n",
    "validation_SIM_dir = os.path.join(validation_dir, 'SIM')\n",
    "if not os.path.exists(validation_SIM_dir):\n",
    "    os.mkdir(validation_SIM_dir)\n",
    "\n",
    "# Directory with our validation images\n",
    "validation_NAO_dir = os.path.join(validation_dir, 'NAO')\n",
    "if not os.path.exists(validation_NAO_dir):\n",
    "    os.mkdir(validation_NAO_dir)\n",
    "\n",
    "# Directory with our test images\n",
    "test_SIM_dir = os.path.join(test_dir, 'SIM')\n",
    "if not os.path.exists(test_SIM_dir):\n",
    "    os.mkdir(test_SIM_dir)\n",
    "\n",
    "# Directory with our test images\n",
    "test_NAO_dir = os.path.join(test_dir, 'NAO')\n",
    "if not os.path.exists(test_NAO_dir):\n",
    "    os.mkdir(test_NAO_dir)\n"
   ]
  },
  {
   "cell_type": "markdown",
   "metadata": {},
   "source": [
    "# Create a dataframe with name of the images and labels (0=NAO, 1=SIM)"
   ]
  },
  {
   "cell_type": "code",
   "execution_count": 5,
   "metadata": {
    "ExecuteTime": {
     "end_time": "2019-12-14T13:39:16.204523Z",
     "start_time": "2019-12-14T13:39:16.190496Z"
    }
   },
   "outputs": [],
   "source": [
    "# build dataframe\n",
    "\n",
    "list_images = list_SIM.copy()\n",
    "list_images.extend(list_NAO)\n",
    "\n",
    "list_images = [name.split('.')[-2] for name in list_images]\n",
    "\n",
    "df = pd.DataFrame({'image_name':list_images})"
   ]
  },
  {
   "cell_type": "code",
   "execution_count": 6,
   "metadata": {
    "ExecuteTime": {
     "end_time": "2019-12-14T13:39:16.223438Z",
     "start_time": "2019-12-14T13:39:16.206476Z"
    }
   },
   "outputs": [],
   "source": [
    "def create_labels(image):\n",
    "    \n",
    "    if image.split('.')[0].split('_')[-1] == 'SIM':\n",
    "        return 1\n",
    "    else:\n",
    "        return 0\n",
    "    \n",
    "df['label'] = df['image_name'].apply(create_labels) "
   ]
  },
  {
   "cell_type": "code",
   "execution_count": 7,
   "metadata": {
    "ExecuteTime": {
     "end_time": "2019-12-14T13:39:16.266294Z",
     "start_time": "2019-12-14T13:39:16.224407Z"
    }
   },
   "outputs": [
    {
     "data": {
      "text/html": [
       "<div>\n",
       "<style scoped>\n",
       "    .dataframe tbody tr th:only-of-type {\n",
       "        vertical-align: middle;\n",
       "    }\n",
       "\n",
       "    .dataframe tbody tr th {\n",
       "        vertical-align: top;\n",
       "    }\n",
       "\n",
       "    .dataframe thead th {\n",
       "        text-align: right;\n",
       "    }\n",
       "</style>\n",
       "<table border=\"1\" class=\"dataframe\">\n",
       "  <thead>\n",
       "    <tr style=\"text-align: right;\">\n",
       "      <th></th>\n",
       "      <th>image_name</th>\n",
       "      <th>label</th>\n",
       "    </tr>\n",
       "  </thead>\n",
       "  <tbody>\n",
       "    <tr>\n",
       "      <th>1504</th>\n",
       "      <td>2017-12-12 11-54-05_NAO</td>\n",
       "      <td>0</td>\n",
       "    </tr>\n",
       "    <tr>\n",
       "      <th>1505</th>\n",
       "      <td>2017-12-12 11-56-30_NAO</td>\n",
       "      <td>0</td>\n",
       "    </tr>\n",
       "    <tr>\n",
       "      <th>1506</th>\n",
       "      <td>2017-12-12 11-56-38_NAO</td>\n",
       "      <td>0</td>\n",
       "    </tr>\n",
       "    <tr>\n",
       "      <th>1507</th>\n",
       "      <td>2017-12-12 13-00-22_NAO</td>\n",
       "      <td>0</td>\n",
       "    </tr>\n",
       "    <tr>\n",
       "      <th>1508</th>\n",
       "      <td>2017-12-18 09-27-14_NAO</td>\n",
       "      <td>0</td>\n",
       "    </tr>\n",
       "  </tbody>\n",
       "</table>\n",
       "</div>"
      ],
      "text/plain": [
       "                   image_name  label\n",
       "1504  2017-12-12 11-54-05_NAO      0\n",
       "1505  2017-12-12 11-56-30_NAO      0\n",
       "1506  2017-12-12 11-56-38_NAO      0\n",
       "1507  2017-12-12 13-00-22_NAO      0\n",
       "1508  2017-12-18 09-27-14_NAO      0"
      ]
     },
     "execution_count": 7,
     "metadata": {},
     "output_type": "execute_result"
    }
   ],
   "source": [
    "df[df.label == 0].head()"
   ]
  },
  {
   "cell_type": "code",
   "execution_count": 8,
   "metadata": {
    "ExecuteTime": {
     "end_time": "2019-12-14T13:39:16.280289Z",
     "start_time": "2019-12-14T13:39:16.268321Z"
    }
   },
   "outputs": [
    {
     "data": {
      "text/html": [
       "<div>\n",
       "<style scoped>\n",
       "    .dataframe tbody tr th:only-of-type {\n",
       "        vertical-align: middle;\n",
       "    }\n",
       "\n",
       "    .dataframe tbody tr th {\n",
       "        vertical-align: top;\n",
       "    }\n",
       "\n",
       "    .dataframe thead th {\n",
       "        text-align: right;\n",
       "    }\n",
       "</style>\n",
       "<table border=\"1\" class=\"dataframe\">\n",
       "  <thead>\n",
       "    <tr style=\"text-align: right;\">\n",
       "      <th></th>\n",
       "      <th>image_name</th>\n",
       "      <th>label</th>\n",
       "    </tr>\n",
       "  </thead>\n",
       "  <tbody>\n",
       "    <tr>\n",
       "      <th>0</th>\n",
       "      <td>2017-12-12 11-53-41_SIM</td>\n",
       "      <td>1</td>\n",
       "    </tr>\n",
       "    <tr>\n",
       "      <th>1</th>\n",
       "      <td>2017-12-12 11-54-15_SIM</td>\n",
       "      <td>1</td>\n",
       "    </tr>\n",
       "    <tr>\n",
       "      <th>2</th>\n",
       "      <td>2017-12-12 11-55-28_SIM</td>\n",
       "      <td>1</td>\n",
       "    </tr>\n",
       "    <tr>\n",
       "      <th>3</th>\n",
       "      <td>2017-12-12 11-56-54_SIM</td>\n",
       "      <td>1</td>\n",
       "    </tr>\n",
       "    <tr>\n",
       "      <th>4</th>\n",
       "      <td>2017-12-12 12-58-24_SIM</td>\n",
       "      <td>1</td>\n",
       "    </tr>\n",
       "  </tbody>\n",
       "</table>\n",
       "</div>"
      ],
      "text/plain": [
       "                image_name  label\n",
       "0  2017-12-12 11-53-41_SIM      1\n",
       "1  2017-12-12 11-54-15_SIM      1\n",
       "2  2017-12-12 11-55-28_SIM      1\n",
       "3  2017-12-12 11-56-54_SIM      1\n",
       "4  2017-12-12 12-58-24_SIM      1"
      ]
     },
     "execution_count": 8,
     "metadata": {},
     "output_type": "execute_result"
    }
   ],
   "source": [
    "df[df.label == 1].head()"
   ]
  },
  {
   "cell_type": "code",
   "execution_count": 9,
   "metadata": {
    "ExecuteTime": {
     "end_time": "2019-12-14T13:39:16.320150Z",
     "start_time": "2019-12-14T13:39:16.282283Z"
    }
   },
   "outputs": [
    {
     "data": {
      "text/plain": [
       "True"
      ]
     },
     "execution_count": 9,
     "metadata": {},
     "output_type": "execute_result"
    }
   ],
   "source": [
    "# open existing file to compare\n",
    "\n",
    "df2 = pd.read_csv(\"../data/info_day_images.csv\")\n",
    "\n",
    "# rearranging before comparing\n",
    "\n",
    "df=df.sort_values(\"image_name\").reset_index(drop=True)\n",
    "df2=df2.sort_values(\"image_name\").reset_index(drop=True)\n",
    "\n",
    "#comparing with dataframe generated while selecting daytime images \n",
    "\n",
    "df2.equals(df)"
   ]
  },
  {
   "cell_type": "markdown",
   "metadata": {},
   "source": [
    "# Split data in train, validation, and test"
   ]
  },
  {
   "cell_type": "code",
   "execution_count": 10,
   "metadata": {
    "ExecuteTime": {
     "end_time": "2019-12-14T13:39:16.328134Z",
     "start_time": "2019-12-14T13:39:16.321149Z"
    }
   },
   "outputs": [
    {
     "name": "stdout",
     "output_type": "stream",
     "text": [
      "['2017-12-12 11-53-41_SIM.jpeg', '2017-12-12 11-54-15_SIM.jpeg', '2017-12-12 11-55-28_SIM.jpeg', '2017-12-12 11-56-54_SIM.jpeg', '2017-12-12 12-58-24_SIM.jpeg', '2017-12-18 08-56-16_SIM.jpeg', '2017-12-18 09-29-10_SIM.jpeg', '2018-01-09 15-31-06_SIM.jpeg', '2018-01-09 15-33-26_SIM.jpeg', '2018-01-09 15-34-22_SIM.jpeg']\n",
      "['2018-01-09 15-34-22_SIM.jpeg', '2018-02-25 11-58-05_SIM.jpeg', '2018-03-21 12-34-12_SIM.jpeg', '2018-12-02 08-48-12_SIM.jpeg', '2018-03-17 17-42-13_SIM.jpeg', '2018-01-30 16-12-12_SIM.jpeg', '2018-01-30 11-22-07_SIM.jpeg', '2018-02-25 14-41-51_SIM.jpeg', '2019-02-02 08-21-03_SIM.jpeg', '2019-03-10 08-30-52_SIM.jpeg']\n"
     ]
    }
   ],
   "source": [
    "# randomly shuffling list_SIM and list_NAO before spliting images in train, validation, and test\n",
    "\n",
    "import random\n",
    "\n",
    "random.seed(123)\n",
    "\n",
    "list_SIM_shuffled = list_SIM.copy()\n",
    "\n",
    "random.shuffle(list_SIM_shuffled)\n",
    "\n",
    "print(list_SIM[:10])\n",
    "print(list_SIM_shuffled[:10])"
   ]
  },
  {
   "cell_type": "code",
   "execution_count": 11,
   "metadata": {
    "ExecuteTime": {
     "end_time": "2019-12-14T13:39:16.355056Z",
     "start_time": "2019-12-14T13:39:16.331121Z"
    }
   },
   "outputs": [
    {
     "name": "stdout",
     "output_type": "stream",
     "text": [
      "['2017-12-12 11-54-05_NAO.jpeg', '2017-12-12 11-56-30_NAO.jpeg', '2017-12-12 11-56-38_NAO.jpeg', '2017-12-12 13-00-22_NAO.jpeg', '2017-12-18 09-27-14_NAO.jpeg', '2018-01-09 15-42-26_NAO.jpeg', '2018-01-09 16-17-15_NAO.jpeg', '2018-01-09 16-22-07_NAO.jpeg', '2018-01-09 16-26-53_NAO.jpeg', '2018-01-09 16-56-54_NAO.jpeg']\n",
      "['2018-03-16 08-42-18_NAO.jpeg', '2018-03-18 07-42-46_NAO.jpeg', '2018-03-17 14-30-18_NAO.jpeg', '2018-03-08 08-51-43_NAO.jpeg', '2018-03-20 07-36-46_NAO.jpeg', '2018-03-20 09-33-16_NAO.jpeg', '2018-03-14 15-53-35_NAO.jpeg', '2018-03-18 14-29-10_NAO.jpeg', '2018-03-18 11-06-22_NAO.jpeg', '2018-03-17 10-50-50_NAO.jpeg']\n"
     ]
    }
   ],
   "source": [
    "random.seed(123)\n",
    "\n",
    "list_NAO_shuffled = list_NAO.copy()\n",
    "\n",
    "random.shuffle(list_NAO_shuffled)\n",
    "\n",
    "print(list_NAO[:10])\n",
    "print(list_NAO_shuffled[:10])"
   ]
  },
  {
   "cell_type": "code",
   "execution_count": 12,
   "metadata": {
    "ExecuteTime": {
     "end_time": "2019-12-14T13:39:16.373024Z",
     "start_time": "2019-12-14T13:39:16.356054Z"
    }
   },
   "outputs": [],
   "source": [
    "import math\n",
    "\n",
    "def split_data(list_data, base_dir, train_dir, validation_dir, test_dir, percentage_train = 0.8):\n",
    "    \"\"\" Split data in train, validation, and test directories.\n",
    "    \n",
    "    Input:\n",
    "        - list_data: list with name of images\n",
    "        - base_dir: main directory that contains train, validation, and test directory\n",
    "        - train_dir: diretory containing images that will be used to train model\n",
    "        - validation_dir: diretory containing images that will be used to validate model\n",
    "        - test_dir: diretory containing images that will be used to test final model\n",
    "        - percentage_train : If not defined 0.8\n",
    "    \n",
    "    \"\"\"\n",
    "    \n",
    "    n_samples = len(list_data)\n",
    "    \n",
    "    pos1 = math.ceil(percentage_train*n_samples)\n",
    "    print(pos1)\n",
    "\n",
    "    pos2 = pos1 + math.ceil((n_samples - pos1)/2)\n",
    "    print(pos2)\n",
    "    \n",
    "    fnames = list_data[:pos1]\n",
    "\n",
    "    for fname in fnames:\n",
    "        scr = os.path.join(base_dir,fname)\n",
    "        dst = os.path.join(train_dir, fname)\n",
    "        shutil.copyfile(scr,dst)\n",
    "\n",
    "    fnames = list_data[pos1:pos2]\n",
    "\n",
    "    for fname in fnames:\n",
    "        scr = os.path.join(base_dir,fname)\n",
    "        dst = os.path.join(validation_dir, fname)\n",
    "        shutil.copyfile(scr,dst)\n",
    "\n",
    "    fnames = list_data[pos2:]\n",
    "\n",
    "    for fname in fnames:\n",
    "        scr = os.path.join(base_dir,fname)\n",
    "        dst = os.path.join(test_dir, fname)\n",
    "        shutil.copyfile(scr,dst)\n"
   ]
  },
  {
   "cell_type": "code",
   "execution_count": 13,
   "metadata": {
    "ExecuteTime": {
     "end_time": "2019-12-14T13:39:18.953166Z",
     "start_time": "2019-12-14T13:39:16.377003Z"
    }
   },
   "outputs": [
    {
     "name": "stdout",
     "output_type": "stream",
     "text": [
      "1204\n",
      "1354\n"
     ]
    }
   ],
   "source": [
    "# splitting data with label SIM in training, validation and test\n",
    "\n",
    "list_data = list_SIM_shuffled\n",
    "base_dir = base_dir_SIM\n",
    "train_dir = train_SIM_dir\n",
    "validation_dir = validation_SIM_dir\n",
    "test_dir = test_SIM_dir\n",
    "\n",
    "split_data(list_data, base_dir, train_dir, validation_dir, test_dir, percentage_train = 0.8)"
   ]
  },
  {
   "cell_type": "code",
   "execution_count": 14,
   "metadata": {
    "ExecuteTime": {
     "end_time": "2019-12-14T13:39:28.164224Z",
     "start_time": "2019-12-14T13:39:18.953166Z"
    }
   },
   "outputs": [
    {
     "name": "stdout",
     "output_type": "stream",
     "text": [
      "3857\n",
      "4339\n"
     ]
    }
   ],
   "source": [
    "# splitting data with label NAO in training, validation and test\n",
    "\n",
    "list_data = list_NAO_shuffled\n",
    "base_dir = base_dir_NAO\n",
    "train_dir = train_NAO_dir\n",
    "validation_dir = validation_NAO_dir\n",
    "test_dir = test_NAO_dir\n",
    "\n",
    "split_data(list_data, base_dir, train_dir, validation_dir, test_dir, percentage_train = 0.8)"
   ]
  },
  {
   "cell_type": "code",
   "execution_count": 15,
   "metadata": {
    "ExecuteTime": {
     "end_time": "2019-12-14T13:39:28.217082Z",
     "start_time": "2019-12-14T13:39:28.167217Z"
    }
   },
   "outputs": [
    {
     "name": "stdout",
     "output_type": "stream",
     "text": [
      "total training SIM images: 1204\n",
      "total training NAO images: 3857\n",
      "total validation SIM images: 150\n",
      "total validation NAO images: 482\n",
      "total test SIM images: 150\n",
      "total test NAO images: 482\n"
     ]
    }
   ],
   "source": [
    "print('total training SIM images:', len(os.listdir(train_SIM_dir)))\n",
    "print('total training NAO images:', len(os.listdir(train_NAO_dir)))\n",
    "\n",
    "print('total validation SIM images:', len(os.listdir(validation_SIM_dir)))\n",
    "print('total validation NAO images:', len(os.listdir(validation_NAO_dir)))\n",
    "\n",
    "print('total test SIM images:', len(os.listdir(test_SIM_dir)))\n",
    "print('total test NAO images:', len(os.listdir(test_NAO_dir)))"
   ]
  },
  {
   "cell_type": "code",
   "execution_count": 16,
   "metadata": {
    "ExecuteTime": {
     "end_time": "2019-12-14T13:39:28.259970Z",
     "start_time": "2019-12-14T13:39:28.220073Z"
    }
   },
   "outputs": [
    {
     "data": {
      "text/plain": [
       "'../data/TTG_TUR/train\\\\SIM'"
      ]
     },
     "execution_count": 16,
     "metadata": {},
     "output_type": "execute_result"
    }
   ],
   "source": [
    "train_SIM_dir"
   ]
  },
  {
   "cell_type": "code",
   "execution_count": 17,
   "metadata": {
    "ExecuteTime": {
     "end_time": "2019-12-14T13:39:28.340752Z",
     "start_time": "2019-12-14T13:39:28.263959Z"
    }
   },
   "outputs": [
    {
     "data": {
      "text/plain": [
       "'C:\\\\PROJECTS_2019\\\\project_omdena_firebreak_detection_REVIEW\\\\notebooks'"
      ]
     },
     "execution_count": 17,
     "metadata": {},
     "output_type": "execute_result"
    }
   ],
   "source": [
    "os.getcwd()"
   ]
  }
 ],
 "metadata": {
  "hide_input": false,
  "kernelspec": {
   "display_name": "Python 3",
   "language": "python",
   "name": "python3"
  },
  "language_info": {
   "codemirror_mode": {
    "name": "ipython",
    "version": 3
   },
   "file_extension": ".py",
   "mimetype": "text/x-python",
   "name": "python",
   "nbconvert_exporter": "python",
   "pygments_lexer": "ipython3",
   "version": "3.7.2"
  },
  "toc": {
   "base_numbering": 1,
   "nav_menu": {},
   "number_sections": true,
   "sideBar": true,
   "skip_h1_title": false,
   "title_cell": "Table of Contents",
   "title_sidebar": "Contents",
   "toc_cell": false,
   "toc_position": {
    "height": "calc(100% - 180px)",
    "left": "10px",
    "top": "150px",
    "width": "256px"
   },
   "toc_section_display": true,
   "toc_window_display": true
  },
  "varInspector": {
   "cols": {
    "lenName": 16,
    "lenType": 16,
    "lenVar": 40
   },
   "kernels_config": {
    "python": {
     "delete_cmd_postfix": "",
     "delete_cmd_prefix": "del ",
     "library": "var_list.py",
     "varRefreshCmd": "print(var_dic_list())"
    },
    "r": {
     "delete_cmd_postfix": ") ",
     "delete_cmd_prefix": "rm(",
     "library": "var_list.r",
     "varRefreshCmd": "cat(var_dic_list()) "
    }
   },
   "types_to_exclude": [
    "module",
    "function",
    "builtin_function_or_method",
    "instance",
    "_Feature"
   ],
   "window_display": false
  }
 },
 "nbformat": 4,
 "nbformat_minor": 2
}
