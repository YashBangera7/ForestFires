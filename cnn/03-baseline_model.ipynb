{
 "cells": [
  {
   "cell_type": "markdown",
   "metadata": {},
   "source": [
    "In this notebook a simple model is applied in daytime images extracted from images in TTG_TUR folder.\n",
    "\n",
    "Images were selected using notebook \"01-moving_files.ipynb\" and split in train, validation, and test images using notebook \"02-baseline_model.ipynb\".\n"
   ]
  },
  {
   "cell_type": "markdown",
   "metadata": {},
   "source": [
    "# Import libraries"
   ]
  },
  {
   "cell_type": "code",
   "execution_count": 1,
   "metadata": {
    "ExecuteTime": {
     "end_time": "2019-12-14T16:13:46.998449Z",
     "start_time": "2019-12-14T16:13:43.874900Z"
    }
   },
   "outputs": [
    {
     "name": "stderr",
     "output_type": "stream",
     "text": [
      "Using TensorFlow backend.\n"
     ]
    },
    {
     "data": {
      "text/plain": [
       "'2.3.1'"
      ]
     },
     "execution_count": 1,
     "metadata": {},
     "output_type": "execute_result"
    }
   ],
   "source": [
    "import pandas as pd \n",
    "import numpy as np\n",
    "import os\n",
    "\n",
    "import keras\n",
    "keras.__version__"
   ]
  },
  {
   "cell_type": "markdown",
   "metadata": {},
   "source": [
    "# Data pre-processing\n",
    "\n",
    "* Read picture files.\n",
    "* Decode the JPEG content to RBG grids of pixels.\n",
    "* Convert these into floating point tensors.\n",
    "* Rescale the pixel values (between 0 and 255) to the [0, 1] interval (as you know, neural networks prefer to deal with small input values).\n",
    "\n",
    "For these pre-processing we used the class `ImageDataGenerator` that is part of the Keras image processing helper tools, located at `keras.preprocessing.image`. `ImageDataGenerator` allows to quickly set up Python generators that can automatically turn image files on disk into batches of pre-processed tensors. "
   ]
  },
  {
   "cell_type": "code",
   "execution_count": 2,
   "metadata": {
    "ExecuteTime": {
     "end_time": "2019-12-14T16:13:47.631764Z",
     "start_time": "2019-12-14T16:13:47.001442Z"
    }
   },
   "outputs": [
    {
     "name": "stdout",
     "output_type": "stream",
     "text": [
      "Found 5061 images belonging to 2 classes.\n",
      "Found 632 images belonging to 2 classes.\n",
      "Found 632 images belonging to 2 classes.\n"
     ]
    }
   ],
   "source": [
    "base_dir = \"../data/TTG_TUR/\"\n",
    "\n",
    "train_dir = os.path.join(base_dir, 'train')\n",
    "\n",
    "validation_dir = os.path.join(base_dir, 'validation')\n",
    "\n",
    "test_dir = os.path.join(base_dir, 'test')\n",
    "\n",
    "\n",
    "\n",
    "from keras.preprocessing.image import ImageDataGenerator\n",
    "\n",
    "# All images will be rescaled to 1./255\n",
    "\n",
    "train_datagen = ImageDataGenerator(rescale=1./255)\n",
    "test_datagen = ImageDataGenerator(rescale=1./255)\n",
    "\n",
    "train_generator = train_datagen.flow_from_directory(\n",
    "                    # target directory\n",
    "                    train_dir,\n",
    "                    # All images will be resized to 128 x 128 (a somewhat arbitrary choice)\n",
    "                    target_size = (128,128),\n",
    "                    batch_size = 20,\n",
    "                    # Since we use binary cross entropy we need binary labels\n",
    "                    class_mode = 'binary',shuffle=False)\n",
    "\n",
    "validation_generator = test_datagen.flow_from_directory(\n",
    "                    # target directory\n",
    "                    validation_dir,\n",
    "                    # All images will be resized to 128 x 128 (a somewhat arbitrary choice)\n",
    "                    target_size = (128,128),\n",
    "                    batch_size = 20,\n",
    "                    # Since we use binary cross entropy we need binary labels\n",
    "                    class_mode = 'binary',shuffle=False)\n",
    "\n",
    "test_generator = test_datagen.flow_from_directory(\n",
    "                    # target directory\n",
    "                    test_dir,\n",
    "                    # All images will be resized to 128 x 128 (a somewhat arbitrary choice)\n",
    "                    target_size = (128,128),\n",
    "                    batch_size = 20,\n",
    "                    # Since we use binary cross entropy we need binary labels\n",
    "                    class_mode = 'binary',shuffle=False)\n"
   ]
  },
  {
   "cell_type": "code",
   "execution_count": 3,
   "metadata": {
    "ExecuteTime": {
     "end_time": "2019-12-14T16:13:47.640235Z",
     "start_time": "2019-12-14T16:13:47.632762Z"
    }
   },
   "outputs": [
    {
     "name": "stdout",
     "output_type": "stream",
     "text": [
      "632\n",
      "20\n"
     ]
    }
   ],
   "source": [
    "nb_validation_samples = validation_generator.samples\n",
    "batch_size = validation_generator.batch_size\n",
    "\n",
    "print(nb_validation_samples)\n",
    "print(batch_size)\n"
   ]
  },
  {
   "cell_type": "code",
   "execution_count": 4,
   "metadata": {
    "ExecuteTime": {
     "end_time": "2019-12-14T16:13:47.963902Z",
     "start_time": "2019-12-14T16:13:47.646219Z"
    }
   },
   "outputs": [
    {
     "name": "stdout",
     "output_type": "stream",
     "text": [
      "data batch shape: (20, 128, 128, 3)\n",
      "(128, 128, 3)\n",
      "labels batch shape: (20,)\n"
     ]
    }
   ],
   "source": [
    "for data_batch, labels_batch in train_generator:\n",
    "    print('data batch shape:', data_batch.shape)\n",
    "    input_shape = (data_batch.shape[1],data_batch.shape[2],data_batch.shape[3])\n",
    "    print(input_shape)\n",
    "    print('labels batch shape:', labels_batch.shape)\n",
    "    break\n"
   ]
  },
  {
   "cell_type": "code",
   "execution_count": 5,
   "metadata": {
    "ExecuteTime": {
     "end_time": "2019-12-14T16:13:48.243890Z",
     "start_time": "2019-12-14T16:13:47.967892Z"
    }
   },
   "outputs": [
    {
     "name": "stdout",
     "output_type": "stream",
     "text": [
      "data batch shape: (20, 128, 128, 3)\n",
      "data batch [[[[0.654902   0.68235296 0.7137255 ]\n",
      "   [0.61960787 0.64705884 0.6784314 ]\n",
      "   [0.6156863  0.6431373  0.6745098 ]\n",
      "   ...\n",
      "   [0.654902   0.6862745  0.69803923]\n",
      "   [0.64705884 0.6784314  0.6901961 ]\n",
      "   [0.65882355 0.6901961  0.7019608 ]]\n",
      "\n",
      "  [[0.6313726  0.65882355 0.6901961 ]\n",
      "   [0.6117647  0.6392157  0.67058825]\n",
      "   [0.61960787 0.64705884 0.6784314 ]\n",
      "   ...\n",
      "   [0.6313726  0.6627451  0.6745098 ]\n",
      "   [0.64705884 0.6784314  0.6901961 ]\n",
      "   [0.6666667  0.69803923 0.70980394]]\n",
      "\n",
      "  [[0.64705884 0.6745098  0.7058824 ]\n",
      "   [0.62352943 0.6509804  0.68235296]\n",
      "   [0.61960787 0.64705884 0.6784314 ]\n",
      "   ...\n",
      "   [0.6509804  0.6901961  0.69803923]\n",
      "   [0.6627451  0.7019608  0.70980394]\n",
      "   [0.6509804  0.6901961  0.69803923]]\n",
      "\n",
      "  ...\n",
      "\n",
      "  [[0.10980393 0.10196079 0.10588236]\n",
      "   [0.03137255 0.01176471 0.        ]\n",
      "   [0.05882353 0.01176471 0.01176471]\n",
      "   ...\n",
      "   [0.49411768 0.50980395 0.5137255 ]\n",
      "   [0.10980393 0.12941177 0.14117648]\n",
      "   [0.6862745  0.7019608  0.69803923]]\n",
      "\n",
      "  [[0.427451   0.41960788 0.42352945]\n",
      "   [0.03529412 0.01568628 0.        ]\n",
      "   [0.10980393 0.06666667 0.05882353]\n",
      "   ...\n",
      "   [0.28627452 0.32156864 0.30980393]\n",
      "   [0.18039216 0.21568629 0.19607845]\n",
      "   [0.3019608  0.31764707 0.3137255 ]]\n",
      "\n",
      "  [[0.03921569 0.03921569 0.04705883]\n",
      "   [0.01568628 0.         0.00392157]\n",
      "   [0.6666667  0.6509804  0.6392157 ]\n",
      "   ...\n",
      "   [0.1254902  0.12941177 0.13725491]\n",
      "   [0.68235296 0.6901961  0.6862745 ]\n",
      "   [0.29803923 0.3019608  0.32156864]]]\n",
      "\n",
      "\n",
      " [[[0.69803923 0.7294118  0.7372549 ]\n",
      "   [0.6627451  0.69411767 0.7019608 ]\n",
      "   [0.6666667  0.69803923 0.7058824 ]\n",
      "   ...\n",
      "   [0.69803923 0.7176471  0.7294118 ]\n",
      "   [0.7137255  0.73333335 0.74509805]\n",
      "   [0.6784314  0.69803923 0.70980394]]\n",
      "\n",
      "  [[0.67058825 0.7019608  0.70980394]\n",
      "   [0.6392157  0.67058825 0.6784314 ]\n",
      "   [0.6666667  0.69803923 0.7058824 ]\n",
      "   ...\n",
      "   [0.6862745  0.7058824  0.7176471 ]\n",
      "   [0.7019608  0.72156864 0.73333335]\n",
      "   [0.7137255  0.73333335 0.74509805]]\n",
      "\n",
      "  [[0.7019608  0.73333335 0.7411765 ]\n",
      "   [0.6666667  0.69803923 0.7058824 ]\n",
      "   [0.6509804  0.68235296 0.6901961 ]\n",
      "   ...\n",
      "   [0.7058824  0.7254902  0.7372549 ]\n",
      "   [0.6862745  0.7058824  0.7176471 ]\n",
      "   [0.69411767 0.7137255  0.7254902 ]]\n",
      "\n",
      "  ...\n",
      "\n",
      "  [[0.6156863  0.4784314  0.4039216 ]\n",
      "   [0.21960786 0.04705883 0.00392157]\n",
      "   [0.37254903 0.23529413 0.14901961]\n",
      "   ...\n",
      "   [0.5529412  0.54509807 0.44705886]\n",
      "   [0.64705884 0.6431373  0.5254902 ]\n",
      "   [0.6        0.5764706  0.47450984]]\n",
      "\n",
      "  [[0.05490196 0.         0.        ]\n",
      "   [0.08235294 0.01176471 0.00392157]\n",
      "   [0.46274513 0.34509805 0.3372549 ]\n",
      "   ...\n",
      "   [0.40000004 0.3647059  0.34509805]\n",
      "   [0.14901961 0.1137255  0.09411766]\n",
      "   [0.10588236 0.06666667 0.0627451 ]]\n",
      "\n",
      "  [[0.05882353 0.         0.        ]\n",
      "   [0.61960787 0.47450984 0.43921572]\n",
      "   [0.5254902  0.427451   0.40784317]\n",
      "   ...\n",
      "   [0.64705884 0.61960787 0.54509807]\n",
      "   [0.54509807 0.5137255  0.43137258]\n",
      "   [0.62352943 0.5921569  0.50980395]]]\n",
      "\n",
      "\n",
      " [[[0.67058825 0.7019608  0.70980394]\n",
      "   [0.654902   0.6862745  0.69411767]\n",
      "   [0.6509804  0.68235296 0.6901961 ]\n",
      "   ...\n",
      "   [0.69803923 0.7137255  0.70980394]\n",
      "   [0.7372549  0.75294125 0.7490196 ]\n",
      "   [0.7137255  0.7294118  0.7254902 ]]\n",
      "\n",
      "  [[0.65882355 0.6901961  0.69803923]\n",
      "   [0.67058825 0.7019608  0.70980394]\n",
      "   [0.65882355 0.6901961  0.69803923]\n",
      "   ...\n",
      "   [0.6862745  0.7019608  0.69803923]\n",
      "   [0.7176471  0.73333335 0.7294118 ]\n",
      "   [0.72156864 0.7372549  0.73333335]]\n",
      "\n",
      "  [[0.67058825 0.7019608  0.70980394]\n",
      "   [0.65882355 0.6901961  0.69803923]\n",
      "   [0.627451   0.65882355 0.6666667 ]\n",
      "   ...\n",
      "   [0.69803923 0.7137255  0.70980394]\n",
      "   [0.7137255  0.7294118  0.7254902 ]\n",
      "   [0.67058825 0.6862745  0.68235296]]\n",
      "\n",
      "  ...\n",
      "\n",
      "  [[0.69411767 0.5372549  0.4901961 ]\n",
      "   [0.54901963 0.4666667  0.44705886]\n",
      "   [0.09411766 0.         0.        ]\n",
      "   ...\n",
      "   [0.6        0.5803922  0.46274513]\n",
      "   [0.5176471  0.48627454 0.41176474]\n",
      "   [0.6156863  0.58431375 0.50980395]]\n",
      "\n",
      "  [[0.07843138 0.03529412 0.02745098]\n",
      "   [0.2392157  0.13333334 0.09803922]\n",
      "   [0.10588236 0.01176471 0.        ]\n",
      "   ...\n",
      "   [0.65882355 0.62352943 0.59607846]\n",
      "   [0.2509804  0.20784315 0.19215688]\n",
      "   [0.05490196 0.01176471 0.        ]]\n",
      "\n",
      "  [[0.44705886 0.37254903 0.34901962]\n",
      "   [0.09019608 0.         0.        ]\n",
      "   [0.25882354 0.14509805 0.12941177]\n",
      "   ...\n",
      "   [0.49411768 0.44705886 0.40000004]\n",
      "   [0.5372549  0.4901961  0.43529415]\n",
      "   [0.5686275  0.52156866 0.47450984]]]\n",
      "\n",
      "\n",
      " ...\n",
      "\n",
      "\n",
      " [[[0.6784314  0.74509805 0.72156864]\n",
      "   [0.67058825 0.7372549  0.7137255 ]\n",
      "   [0.67058825 0.7372549  0.7137255 ]\n",
      "   ...\n",
      "   [0.7019608  0.7607844  0.7411765 ]\n",
      "   [0.7137255  0.7725491  0.75294125]\n",
      "   [0.72156864 0.7803922  0.7607844 ]]\n",
      "\n",
      "  [[0.69411767 0.7607844  0.7372549 ]\n",
      "   [0.6784314  0.74509805 0.72156864]\n",
      "   [0.6666667  0.73333335 0.70980394]\n",
      "   ...\n",
      "   [0.7058824  0.76470596 0.74509805]\n",
      "   [0.7058824  0.76470596 0.74509805]\n",
      "   [0.7254902  0.7843138  0.76470596]]\n",
      "\n",
      "  [[0.67058825 0.7372549  0.7137255 ]\n",
      "   [0.6901961  0.7568628  0.73333335]\n",
      "   [0.65882355 0.7254902  0.7019608 ]\n",
      "   ...\n",
      "   [0.69803923 0.7568628  0.7372549 ]\n",
      "   [0.7019608  0.7607844  0.7411765 ]\n",
      "   [0.6862745  0.74509805 0.7254902 ]]\n",
      "\n",
      "  ...\n",
      "\n",
      "  [[0.01960784 0.         0.        ]\n",
      "   [0.12156864 0.08235294 0.08627451]\n",
      "   [0.04313726 0.00392157 0.00784314]\n",
      "   ...\n",
      "   [0.627451   0.6156863  0.5568628 ]\n",
      "   [0.38431376 0.36862746 0.32156864]\n",
      "   [0.5529412  0.5372549  0.49411768]]\n",
      "\n",
      "  [[0.0509804  0.02745098 0.02745098]\n",
      "   [0.4666667  0.427451   0.43137258]\n",
      "   [0.38823533 0.34901962 0.3529412 ]\n",
      "   ...\n",
      "   [0.31764707 0.29411766 0.30980393]\n",
      "   [0.01960784 0.         0.00392157]\n",
      "   [0.06666667 0.04705883 0.03137255]]\n",
      "\n",
      "  [[0.47058827 0.43137258 0.427451  ]\n",
      "   [0.37254903 0.3254902  0.3254902 ]\n",
      "   [0.06666667 0.02745098 0.03137255]\n",
      "   ...\n",
      "   [0.48235297 0.44705886 0.41176474]\n",
      "   [0.45098042 0.43529415 0.40000004]\n",
      "   [0.54901963 0.5294118  0.5058824 ]]]\n",
      "\n",
      "\n",
      " [[[0.6509804  0.7176471  0.69411767]\n",
      "   [0.6392157  0.7058824  0.68235296]\n",
      "   [0.65882355 0.7254902  0.7019608 ]\n",
      "   ...\n",
      "   [0.6627451  0.72156864 0.7019608 ]\n",
      "   [0.6784314  0.7372549  0.7176471 ]\n",
      "   [0.69411767 0.75294125 0.73333335]]\n",
      "\n",
      "  [[0.6509804  0.7176471  0.69411767]\n",
      "   [0.6431373  0.70980394 0.6862745 ]\n",
      "   [0.65882355 0.7254902  0.7019608 ]\n",
      "   ...\n",
      "   [0.6745098  0.73333335 0.7137255 ]\n",
      "   [0.6862745  0.74509805 0.7254902 ]\n",
      "   [0.6901961  0.7490196  0.7294118 ]]\n",
      "\n",
      "  [[0.67058825 0.7372549  0.7137255 ]\n",
      "   [0.65882355 0.7254902  0.7019608 ]\n",
      "   [0.6509804  0.7176471  0.69411767]\n",
      "   ...\n",
      "   [0.67058825 0.7294118  0.70980394]\n",
      "   [0.6784314  0.7372549  0.7176471 ]\n",
      "   [0.68235296 0.7411765  0.72156864]]\n",
      "\n",
      "  ...\n",
      "\n",
      "  [[0.27058825 0.23137257 0.23529413]\n",
      "   [0.48627454 0.43921572 0.44705886]\n",
      "   [0.02745098 0.         0.        ]\n",
      "   ...\n",
      "   [0.02352941 0.00392157 0.        ]\n",
      "   [0.01568628 0.         0.        ]\n",
      "   [0.10588236 0.08627451 0.07450981]]\n",
      "\n",
      "  [[0.36078432 0.32156864 0.3254902 ]\n",
      "   [0.06666667 0.01960784 0.02745098]\n",
      "   [0.3019608  0.2627451  0.26666668]\n",
      "   ...\n",
      "   [0.47450984 0.46274513 0.39607847]\n",
      "   [0.6039216  0.59607846 0.5137255 ]\n",
      "   [0.31764707 0.30588236 0.2392157 ]]\n",
      "\n",
      "  [[0.0627451  0.02352941 0.01960784]\n",
      "   [0.1137255  0.07058824 0.0627451 ]\n",
      "   [0.2509804  0.21568629 0.21960786]\n",
      "   ...\n",
      "   [0.2392157  0.21960786 0.20784315]\n",
      "   [0.0509804  0.03921569 0.01960784]\n",
      "   [0.0509804  0.03529412 0.02352941]]]\n",
      "\n",
      "\n",
      " [[[0.6392157  0.7137255  0.7058824 ]\n",
      "   [0.6313726  0.7058824  0.69803923]\n",
      "   [0.6431373  0.7176471  0.70980394]\n",
      "   ...\n",
      "   [0.654902   0.7294118  0.72156864]\n",
      "   [0.6666667  0.7411765  0.73333335]\n",
      "   [0.7019608  0.77647066 0.7686275 ]]\n",
      "\n",
      "  [[0.64705884 0.72156864 0.7137255 ]\n",
      "   [0.6392157  0.7137255  0.7058824 ]\n",
      "   [0.6431373  0.7176471  0.70980394]\n",
      "   ...\n",
      "   [0.6666667  0.7411765  0.73333335]\n",
      "   [0.64705884 0.72156864 0.7137255 ]\n",
      "   [0.6784314  0.75294125 0.74509805]]\n",
      "\n",
      "  [[0.6431373  0.7176471  0.70980394]\n",
      "   [0.6627451  0.7372549  0.7294118 ]\n",
      "   [0.63529414 0.70980394 0.7019608 ]\n",
      "   ...\n",
      "   [0.654902   0.7294118  0.72156864]\n",
      "   [0.67058825 0.74509805 0.7372549 ]\n",
      "   [0.69803923 0.7725491  0.76470596]]\n",
      "\n",
      "  ...\n",
      "\n",
      "  [[0.38431376 0.34117648 0.3254902 ]\n",
      "   [0.2627451  0.21568629 0.21568629]\n",
      "   [0.37254903 0.3254902  0.33333334]\n",
      "   ...\n",
      "   [0.16470589 0.15294118 0.11764707]\n",
      "   [0.32941177 0.3254902  0.25490198]\n",
      "   [0.6        0.6        0.5058824 ]]\n",
      "\n",
      "  [[0.03137255 0.         0.        ]\n",
      "   [0.23529413 0.18823531 0.18823531]\n",
      "   [0.12941177 0.08235294 0.09019608]\n",
      "   ...\n",
      "   [0.64705884 0.61960787 0.5882353 ]\n",
      "   [0.3372549  0.30980393 0.28627452]\n",
      "   [0.04313726 0.01176471 0.00392157]]\n",
      "\n",
      "  [[0.2901961  0.24313727 0.2509804 ]\n",
      "   [0.41176474 0.3647059  0.3647059 ]\n",
      "   [0.22352943 0.16078432 0.16470589]\n",
      "   ...\n",
      "   [0.4901961  0.48627454 0.4156863 ]\n",
      "   [0.64705884 0.64705884 0.5529412 ]\n",
      "   [0.57254905 0.5647059  0.47450984]]]]\n",
      "labels batch shape: (20,)\n",
      "labels_batch [0. 0. 0. 0. 0. 0. 0. 0. 0. 0. 0. 0. 0. 0. 0. 0. 0. 0. 0. 0.]\n"
     ]
    }
   ],
   "source": [
    "for data_batch, labels_batch in train_generator:\n",
    "    print('data batch shape:', data_batch.shape)\n",
    "    print('data batch',data_batch)\n",
    "    print('labels batch shape:', labels_batch.shape)\n",
    "    print('labels_batch', labels_batch)\n",
    "    break"
   ]
  },
  {
   "cell_type": "markdown",
   "metadata": {},
   "source": [
    "# The baseline model"
   ]
  },
  {
   "cell_type": "markdown",
   "metadata": {},
   "source": [
    "## Specifying architecture"
   ]
  },
  {
   "cell_type": "code",
   "execution_count": 6,
   "metadata": {
    "ExecuteTime": {
     "end_time": "2019-12-14T16:13:48.372558Z",
     "start_time": "2019-12-14T16:13:48.245915Z"
    }
   },
   "outputs": [],
   "source": [
    "from keras import layers\n",
    "from keras import models\n",
    "\n",
    "model = models.Sequential()\n",
    "model.add(layers.Conv2D(32, (3,3), activation = 'relu', input_shape = input_shape ))\n",
    "model.add(layers.MaxPool2D((2,2)))\n",
    "model.add(layers.Conv2D(64, (3, 3), activation='relu'))\n",
    "model.add(layers.MaxPooling2D((2, 2)))\n",
    "model.add(layers.Conv2D(128, (3, 3), activation='relu'))\n",
    "model.add(layers.MaxPooling2D((2, 2)))\n",
    "model.add(layers.Conv2D(128, (3, 3), activation='relu'))\n",
    "model.add(layers.MaxPooling2D((2, 2)))\n",
    "model.add(layers.Flatten())\n",
    "model.add(layers.Dense(512, activation='relu'))\n",
    "model.add(layers.Dense(1, activation='sigmoid'))"
   ]
  },
  {
   "cell_type": "code",
   "execution_count": 7,
   "metadata": {
    "ExecuteTime": {
     "end_time": "2019-12-14T16:13:48.381522Z",
     "start_time": "2019-12-14T16:13:48.374541Z"
    }
   },
   "outputs": [
    {
     "name": "stdout",
     "output_type": "stream",
     "text": [
      "Model: \"sequential_1\"\n",
      "_________________________________________________________________\n",
      "Layer (type)                 Output Shape              Param #   \n",
      "=================================================================\n",
      "conv2d_1 (Conv2D)            (None, 126, 126, 32)      896       \n",
      "_________________________________________________________________\n",
      "max_pooling2d_1 (MaxPooling2 (None, 63, 63, 32)        0         \n",
      "_________________________________________________________________\n",
      "conv2d_2 (Conv2D)            (None, 61, 61, 64)        18496     \n",
      "_________________________________________________________________\n",
      "max_pooling2d_2 (MaxPooling2 (None, 30, 30, 64)        0         \n",
      "_________________________________________________________________\n",
      "conv2d_3 (Conv2D)            (None, 28, 28, 128)       73856     \n",
      "_________________________________________________________________\n",
      "max_pooling2d_3 (MaxPooling2 (None, 14, 14, 128)       0         \n",
      "_________________________________________________________________\n",
      "conv2d_4 (Conv2D)            (None, 12, 12, 128)       147584    \n",
      "_________________________________________________________________\n",
      "max_pooling2d_4 (MaxPooling2 (None, 6, 6, 128)         0         \n",
      "_________________________________________________________________\n",
      "flatten_1 (Flatten)          (None, 4608)              0         \n",
      "_________________________________________________________________\n",
      "dense_1 (Dense)              (None, 512)               2359808   \n",
      "_________________________________________________________________\n",
      "dense_2 (Dense)              (None, 1)                 513       \n",
      "=================================================================\n",
      "Total params: 2,601,153\n",
      "Trainable params: 2,601,153\n",
      "Non-trainable params: 0\n",
      "_________________________________________________________________\n"
     ]
    }
   ],
   "source": [
    "model.summary()"
   ]
  },
  {
   "cell_type": "markdown",
   "metadata": {},
   "source": [
    "## Compile "
   ]
  },
  {
   "cell_type": "code",
   "execution_count": 8,
   "metadata": {
    "ExecuteTime": {
     "end_time": "2019-12-14T16:13:48.479621Z",
     "start_time": "2019-12-14T16:13:48.383517Z"
    }
   },
   "outputs": [],
   "source": [
    "from keras import optimizers\n",
    "\n",
    "model.compile(loss='binary_crossentropy',\n",
    "              optimizer=optimizers.RMSprop(lr=2e-5),\n",
    "              metrics=['acc'])"
   ]
  },
  {
   "cell_type": "markdown",
   "metadata": {},
   "source": [
    "## Fitting the model\n",
    "\n",
    "Let's fit our model to the data using the generator (train_generator, validation_generator). We do it using the `fit_generator` method, the equivalent of `fit` for data generators like ours. It expects as first argument a Python generator that will yield batches of inputs and targets indefinitely, like ours does. \n",
    "\n",
    "Because the data is being generated endlessly, the generator needs to know example how many samples to draw from the generator before declaring an epoch over. This is the role of the `steps_per_epoch` argument: after having drawn `steps_per_epoch` batches from the generator, i.e. after having run for `steps_per_epoch` gradient descent steps, the fitting process will go to the next epoch. In our case, batches are 20-sample large, so it will take 100 batches until we see our target of 2000 samples.\n",
    "\n",
    "When using `fit_generator`, one may pass a `validation_data` argument, much like with the `fit` method. Importantly, this argument is allowed to be a data generator itself, but it could be a tuple of Numpy arrays as well. If you pass a generator as `validation_data`, then this generator is expected to yield batches of validation data endlessly, and thus you should also specify the `validation_steps` argument, which tells the process how many batches to draw from the validation generator for evaluation."
   ]
  },
  {
   "cell_type": "code",
   "execution_count": 9,
   "metadata": {
    "ExecuteTime": {
     "end_time": "2019-12-14T16:13:48.496576Z",
     "start_time": "2019-12-14T16:13:48.485606Z"
    }
   },
   "outputs": [
    {
     "name": "stdout",
     "output_type": "stream",
     "text": [
      "2019-12-14 17:13:48.487600\n"
     ]
    }
   ],
   "source": [
    "import datetime\n",
    "\n",
    "# print(datetime.datetime.now())\n",
    "t1 = datetime.datetime.now()\n",
    "print(t1)"
   ]
  },
  {
   "cell_type": "code",
   "execution_count": 10,
   "metadata": {
    "ExecuteTime": {
     "end_time": "2019-12-14T17:00:01.128446Z",
     "start_time": "2019-12-14T16:13:48.499084Z"
    }
   },
   "outputs": [
    {
     "name": "stdout",
     "output_type": "stream",
     "text": [
      "Epoch 1/30\n",
      "100/100 [==============================] - 92s 918ms/step - loss: 0.6313 - acc: 0.6951 - val_loss: 0.3161 - val_acc: 0.8488\n",
      "Epoch 2/30\n",
      "100/100 [==============================] - 94s 939ms/step - loss: 0.5261 - acc: 0.7900 - val_loss: 0.2309 - val_acc: 0.6951\n",
      "Epoch 3/30\n",
      "100/100 [==============================] - 96s 963ms/step - loss: 0.6121 - acc: 0.7085 - val_loss: 0.3682 - val_acc: 0.8488\n",
      "Epoch 4/30\n",
      "100/100 [==============================] - 94s 937ms/step - loss: 0.5061 - acc: 0.7976 - val_loss: 0.1268 - val_acc: 0.6951\n",
      "Epoch 5/30\n",
      "100/100 [==============================] - 92s 925ms/step - loss: 0.5028 - acc: 0.8085 - val_loss: 1.7678 - val_acc: 0.8105\n",
      "Epoch 6/30\n",
      "100/100 [==============================] - 105s 1s/step - loss: 0.5566 - acc: 0.7600 - val_loss: 0.1646 - val_acc: 0.7337\n",
      "Epoch 7/30\n",
      "100/100 [==============================] - 90s 900ms/step - loss: 0.5757 - acc: 0.7557 - val_loss: 1.1616 - val_acc: 0.7298\n",
      "Epoch 8/30\n",
      "100/100 [==============================] - 89s 893ms/step - loss: 0.5204 - acc: 0.7976 - val_loss: 0.2055 - val_acc: 0.8150\n",
      "Epoch 9/30\n",
      "100/100 [==============================] - 90s 903ms/step - loss: 0.5095 - acc: 0.7985 - val_loss: 0.2227 - val_acc: 0.6951\n",
      "Epoch 10/30\n",
      "100/100 [==============================] - 89s 894ms/step - loss: 0.6365 - acc: 0.6800 - val_loss: 0.3311 - val_acc: 0.8488\n",
      "Epoch 11/30\n",
      "100/100 [==============================] - 90s 901ms/step - loss: 0.5492 - acc: 0.7700 - val_loss: 0.3207 - val_acc: 0.6951\n",
      "Epoch 12/30\n",
      "100/100 [==============================] - 88s 875ms/step - loss: 0.5277 - acc: 0.7875 - val_loss: 0.3312 - val_acc: 0.8488\n",
      "Epoch 13/30\n",
      "100/100 [==============================] - 88s 885ms/step - loss: 0.5429 - acc: 0.7658 - val_loss: 0.2711 - val_acc: 0.6951\n",
      "Epoch 14/30\n",
      "100/100 [==============================] - 88s 878ms/step - loss: 0.5488 - acc: 0.7700 - val_loss: 1.5950 - val_acc: 0.7702\n",
      "Epoch 15/30\n",
      "100/100 [==============================] - 89s 889ms/step - loss: 0.5689 - acc: 0.7400 - val_loss: 0.2272 - val_acc: 0.7744\n",
      "Epoch 16/30\n",
      "100/100 [==============================] - 88s 879ms/step - loss: 0.5283 - acc: 0.7870 - val_loss: 1.7383 - val_acc: 0.6951\n",
      "Epoch 17/30\n",
      "100/100 [==============================] - 88s 879ms/step - loss: 0.5536 - acc: 0.7572 - val_loss: 0.3019 - val_acc: 0.8488\n",
      "Epoch 18/30\n",
      "100/100 [==============================] - 88s 885ms/step - loss: 0.5790 - acc: 0.7200 - val_loss: 0.3283 - val_acc: 0.6951\n",
      "Epoch 19/30\n",
      "100/100 [==============================] - 88s 876ms/step - loss: 0.5426 - acc: 0.7673 - val_loss: 0.2695 - val_acc: 0.8488\n",
      "Epoch 20/30\n",
      "100/100 [==============================] - 88s 884ms/step - loss: 0.5797 - acc: 0.7385 - val_loss: 0.2897 - val_acc: 0.6951\n",
      "Epoch 21/30\n",
      "100/100 [==============================] - 88s 881ms/step - loss: 0.5203 - acc: 0.7800 - val_loss: 1.3127 - val_acc: 0.8105\n",
      "Epoch 22/30\n",
      "100/100 [==============================] - 88s 883ms/step - loss: 0.5222 - acc: 0.7860 - val_loss: 0.1208 - val_acc: 0.7337\n",
      "Epoch 23/30\n",
      "100/100 [==============================] - 88s 876ms/step - loss: 0.5431 - acc: 0.7700 - val_loss: 1.3757 - val_acc: 0.7298\n",
      "Epoch 24/30\n",
      "100/100 [==============================] - 94s 936ms/step - loss: 0.6388 - acc: 0.6600 - val_loss: 0.3029 - val_acc: 0.8150\n",
      "Epoch 25/30\n",
      "100/100 [==============================] - 94s 936ms/step - loss: 0.4452 - acc: 0.8274 - val_loss: 0.0959 - val_acc: 0.6951\n",
      "Epoch 26/30\n",
      "100/100 [==============================] - 122s 1s/step - loss: 0.5254 - acc: 0.7800 - val_loss: 0.1851 - val_acc: 0.8488\n",
      "Epoch 27/30\n",
      "100/100 [==============================] - 102s 1s/step - loss: 0.5143 - acc: 0.7885 - val_loss: 0.2439 - val_acc: 0.6951\n",
      "Epoch 28/30\n",
      "100/100 [==============================] - 101s 1s/step - loss: 0.5629 - acc: 0.7269 - val_loss: 0.4438 - val_acc: 0.8468\n",
      "Epoch 29/30\n",
      "100/100 [==============================] - 91s 914ms/step - loss: 0.4892 - acc: 0.7880 - val_loss: 0.2495 - val_acc: 0.6951\n",
      "Epoch 30/30\n",
      "100/100 [==============================] - 89s 894ms/step - loss: 0.5632 - acc: 0.7500 - val_loss: 1.1821 - val_acc: 0.7702\n"
     ]
    }
   ],
   "source": [
    "history = model.fit_generator(\n",
    "      train_generator,\n",
    "      steps_per_epoch=100,\n",
    "      epochs=30,\n",
    "      validation_data=validation_generator,\n",
    "      validation_steps=50)"
   ]
  },
  {
   "cell_type": "markdown",
   "metadata": {},
   "source": [
    "## Save model"
   ]
  },
  {
   "cell_type": "code",
   "execution_count": 11,
   "metadata": {
    "ExecuteTime": {
     "end_time": "2019-12-14T17:00:01.205817Z",
     "start_time": "2019-12-14T17:00:01.130441Z"
    }
   },
   "outputs": [],
   "source": [
    "model.save(\"../models/baseline_model_omdena_v011119.h5\")"
   ]
  },
  {
   "cell_type": "markdown",
   "metadata": {},
   "source": [
    "## Model Evaluation\n",
    "\n",
    "### Learning curves"
   ]
  },
  {
   "cell_type": "code",
   "execution_count": 12,
   "metadata": {
    "ExecuteTime": {
     "end_time": "2019-12-14T17:00:01.221439Z",
     "start_time": "2019-12-14T17:00:01.205817Z"
    }
   },
   "outputs": [],
   "source": [
    "def smooth_curve(points, factor=0.8):\n",
    "    \"\"\" Make curves smoother\"\"\"\n",
    "    smoothed_points = []\n",
    "    for point in points:\n",
    "        if smoothed_points:\n",
    "            previous = smoothed_points[-1]\n",
    "            smoothed_points.append(previous * factor + point * (1 - factor))\n",
    "        else:\n",
    "            smoothed_points.append(point)\n",
    "    return smoothed_points"
   ]
  },
  {
   "cell_type": "code",
   "execution_count": null,
   "metadata": {
    "ExecuteTime": {
     "end_time": "2019-12-14T19:15:44.823595Z",
     "start_time": "2019-12-14T17:17:21.704Z"
    }
   },
   "outputs": [],
   "source": [
    "import matplotlib.pyplot as plt\n",
    "\n",
    "acc = history.history['acc']\n",
    "val_acc = history.history['val_acc']\n",
    "loss = history.history['loss']\n",
    "val_loss = history.history['val_loss']\n",
    "\n",
    "epochs = range(len(acc))\n",
    "\n",
    "plt.plot(epochs, acc, 'r', label='Training acc')\n",
    "plt.plot(epochs, val_acc, 'b', label='Validation acc')\n",
    "plt.title('Training and validation accuracy')\n",
    "plt.legend()\n",
    "\n",
    "plt.figure()\n",
    "\n",
    "plt.plot(epochs, loss, 'r', label='Training loss')\n",
    "plt.plot(epochs, val_loss, 'b', label='Validation loss')\n",
    "plt.title('Training and validation loss')\n",
    "plt.legend()\n",
    "\n",
    "plt.show()"
   ]
  },
  {
   "cell_type": "markdown",
   "metadata": {},
   "source": [
    "Making curves smoother for visualization."
   ]
  },
  {
   "cell_type": "code",
   "execution_count": 14,
   "metadata": {
    "ExecuteTime": {
     "end_time": "2019-12-14T17:00:01.873633Z",
     "start_time": "2019-12-14T17:00:01.480054Z"
    }
   },
   "outputs": [
    {
     "data": {
      "image/png": "[encoded data removed]",
      "text/plain": [
       "<Figure size 432x288 with 1 Axes>"
      ]
     },
     "metadata": {
      "needs_background": "light"
     },
     "output_type": "display_data"
    },
    {
     "data": {
      "image/png": "[encoded data removed]",
      "text/plain": [
       "<Figure size 432x288 with 1 Axes>"
      ]
     },
     "metadata": {
      "needs_background": "light"
     },
     "output_type": "display_data"
    }
   ],
   "source": [
    "plt.plot(epochs,\n",
    "         smooth_curve(acc), 'r', label='Smoothed training acc')\n",
    "plt.plot(epochs,\n",
    "         smooth_curve(val_acc), 'b', label='Smoothed validation acc')\n",
    "plt.title('Training and validation accuracy')\n",
    "plt.legend()\n",
    "\n",
    "plt.figure()\n",
    "\n",
    "plt.plot(epochs,\n",
    "         smooth_curve(loss), 'r', label='Smoothed training loss')\n",
    "plt.plot(epochs,\n",
    "         smooth_curve(val_loss), 'b', label='Smoothed validation loss')\n",
    "plt.title('Training and validation loss')\n",
    "plt.legend()\n",
    "\n",
    "plt.show()"
   ]
  },
  {
   "cell_type": "code",
   "execution_count": 15,
   "metadata": {
    "ExecuteTime": {
     "end_time": "2019-12-14T17:00:01.897488Z",
     "start_time": "2019-12-14T17:00:01.875630Z"
    }
   },
   "outputs": [],
   "source": [
    "#create a dataframe to save the result as .csv\n",
    "\n",
    "df = pd.DataFrame(history.history)\n",
    "\n",
    "df.to_csv(\"../history/baseline_model_omdena_history_v011119.csv\", index = False)"
   ]
  },
  {
   "cell_type": "code",
   "execution_count": 16,
   "metadata": {
    "ExecuteTime": {
     "end_time": "2019-12-14T17:00:01.913033Z",
     "start_time": "2019-12-14T17:00:01.897488Z"
    }
   },
   "outputs": [
    {
     "name": "stdout",
     "output_type": "stream",
     "text": [
      "2019-12-14 18:00:01.897488\n",
      "0:46:13.409888\n"
     ]
    }
   ],
   "source": [
    "t2 = datetime.datetime.now()\n",
    "(print(t2))\n",
    "print(t2-t1)"
   ]
  },
  {
   "cell_type": "code",
   "execution_count": 17,
   "metadata": {
    "ExecuteTime": {
     "end_time": "2019-12-14T17:00:01.946125Z",
     "start_time": "2019-12-14T17:00:01.915564Z"
    }
   },
   "outputs": [
    {
     "data": {
      "text/html": [
       "<div>\n",
       "<style scoped>\n",
       "    .dataframe tbody tr th:only-of-type {\n",
       "        vertical-align: middle;\n",
       "    }\n",
       "\n",
       "    .dataframe tbody tr th {\n",
       "        vertical-align: top;\n",
       "    }\n",
       "\n",
       "    .dataframe thead th {\n",
       "        text-align: right;\n",
       "    }\n",
       "</style>\n",
       "<table border=\"1\" class=\"dataframe\">\n",
       "  <thead>\n",
       "    <tr style=\"text-align: right;\">\n",
       "      <th></th>\n",
       "      <th>val_loss</th>\n",
       "      <th>val_acc</th>\n",
       "      <th>loss</th>\n",
       "      <th>acc</th>\n",
       "    </tr>\n",
       "  </thead>\n",
       "  <tbody>\n",
       "    <tr>\n",
       "      <th>0</th>\n",
       "      <td>0.306190</td>\n",
       "      <td>0.848790</td>\n",
       "      <td>0.612072</td>\n",
       "      <td>0.750000</td>\n",
       "    </tr>\n",
       "    <tr>\n",
       "      <th>1</th>\n",
       "      <td>0.144471</td>\n",
       "      <td>0.695122</td>\n",
       "      <td>0.578078</td>\n",
       "      <td>0.755679</td>\n",
       "    </tr>\n",
       "    <tr>\n",
       "      <th>2</th>\n",
       "      <td>0.172904</td>\n",
       "      <td>0.848790</td>\n",
       "      <td>0.550367</td>\n",
       "      <td>0.780000</td>\n",
       "    </tr>\n",
       "    <tr>\n",
       "      <th>3</th>\n",
       "      <td>0.191076</td>\n",
       "      <td>0.695122</td>\n",
       "      <td>0.573492</td>\n",
       "      <td>0.788500</td>\n",
       "    </tr>\n",
       "    <tr>\n",
       "      <th>4</th>\n",
       "      <td>1.115146</td>\n",
       "      <td>0.810484</td>\n",
       "      <td>0.614423</td>\n",
       "      <td>0.737002</td>\n",
       "    </tr>\n",
       "  </tbody>\n",
       "</table>\n",
       "</div>"
      ],
      "text/plain": [
       "   val_loss   val_acc      loss       acc\n",
       "0  0.306190  0.848790  0.612072  0.750000\n",
       "1  0.144471  0.695122  0.578078  0.755679\n",
       "2  0.172904  0.848790  0.550367  0.780000\n",
       "3  0.191076  0.695122  0.573492  0.788500\n",
       "4  1.115146  0.810484  0.614423  0.737002"
      ]
     },
     "execution_count": 17,
     "metadata": {},
     "output_type": "execute_result"
    }
   ],
   "source": [
    "df_test = pd.read_csv(\"../models/baseline_model_omdena_history_v011119.csv\")\n",
    "df_test.head()"
   ]
  },
  {
   "cell_type": "markdown",
   "metadata": {},
   "source": [
    "# Trying to improve performance by considering that the data is imbalanced\n",
    "\n",
    "The model will include class_weights to try to have the data more in balance and see what is the effect on the performance."
   ]
  },
  {
   "cell_type": "markdown",
   "metadata": {},
   "source": [
    "## Testing some suggestions on how to define the class_weights"
   ]
  },
  {
   "cell_type": "code",
   "execution_count": 18,
   "metadata": {
    "ExecuteTime": {
     "end_time": "2019-12-14T17:00:01.960088Z",
     "start_time": "2019-12-14T17:00:01.954106Z"
    }
   },
   "outputs": [],
   "source": [
    "# ref: https://github.com/keras-team/keras/issues/1875\n",
    "\n",
    "from collections import Counter\n",
    "\n",
    "def get_class_weights(y):\n",
    "    counter = Counter(y)\n",
    "    majority = max(counter.values())\n",
    "    return  {cls: float(majority/count) for cls, count in counter.items()}"
   ]
  },
  {
   "cell_type": "code",
   "execution_count": 19,
   "metadata": {
    "ExecuteTime": {
     "end_time": "2019-12-14T17:00:01.978042Z",
     "start_time": "2019-12-14T17:00:01.968070Z"
    }
   },
   "outputs": [
    {
     "data": {
      "text/plain": [
       "{0: 1.0, 1: 3.203488372093023}"
      ]
     },
     "execution_count": 19,
     "metadata": {},
     "output_type": "execute_result"
    }
   ],
   "source": [
    "class_weights = get_class_weights(train_generator.classes)\n",
    "class_weights"
   ]
  },
  {
   "cell_type": "code",
   "execution_count": 20,
   "metadata": {
    "ExecuteTime": {
     "end_time": "2019-12-14T17:00:01.992035Z",
     "start_time": "2019-12-14T17:00:01.980035Z"
    }
   },
   "outputs": [
    {
     "data": {
      "text/plain": [
       "5061"
      ]
     },
     "execution_count": 20,
     "metadata": {},
     "output_type": "execute_result"
    }
   ],
   "source": [
    "len(train_generator.classes)"
   ]
  },
  {
   "cell_type": "code",
   "execution_count": 21,
   "metadata": {
    "ExecuteTime": {
     "end_time": "2019-12-14T17:45:24.249591Z",
     "start_time": "2019-12-14T17:00:01.994028Z"
    }
   },
   "outputs": [
    {
     "name": "stdout",
     "output_type": "stream",
     "text": [
      "Epoch 1/30\n",
      "100/100 [==============================] - 92s 918ms/step - loss: 0.9668 - acc: 0.7830 - val_loss: 0.3580 - val_acc: 0.8498\n",
      "Epoch 2/30\n",
      "100/100 [==============================] - 89s 890ms/step - loss: 1.0820 - acc: 0.6720 - val_loss: 0.5623 - val_acc: 0.7124\n",
      "Epoch 3/30\n",
      "100/100 [==============================] - 87s 867ms/step - loss: 1.0612 - acc: 0.6172 - val_loss: 0.4697 - val_acc: 0.8065\n",
      "Epoch 4/30\n",
      "100/100 [==============================] - 88s 880ms/step - loss: 1.0106 - acc: 0.6875 - val_loss: 0.5273 - val_acc: 0.6778\n",
      "Epoch 5/30\n",
      "100/100 [==============================] - 87s 875ms/step - loss: 1.0854 - acc: 0.6205 - val_loss: 0.5784 - val_acc: 0.5192\n",
      "Epoch 6/30\n",
      "100/100 [==============================] - 91s 911ms/step - loss: 1.0496 - acc: 0.5895 - val_loss: 0.4410 - val_acc: 0.6911\n",
      "Epoch 7/30\n",
      "100/100 [==============================] - 87s 873ms/step - loss: 0.9658 - acc: 0.7123 - val_loss: 0.7461 - val_acc: 0.7258\n",
      "Epoch 8/30\n",
      "100/100 [==============================] - 89s 889ms/step - loss: 0.9891 - acc: 0.6585 - val_loss: 0.3816 - val_acc: 0.7917\n",
      "Epoch 9/30\n",
      "100/100 [==============================] - 89s 889ms/step - loss: 1.0847 - acc: 0.6040 - val_loss: 0.3711 - val_acc: 0.6921\n",
      "Epoch 10/30\n",
      "100/100 [==============================] - 89s 892ms/step - loss: 0.9928 - acc: 0.6613 - val_loss: 0.2281 - val_acc: 0.8468\n",
      "Epoch 11/30\n",
      "100/100 [==============================] - 89s 887ms/step - loss: 0.9364 - acc: 0.7153 - val_loss: 0.8469 - val_acc: 0.5610\n",
      "Epoch 12/30\n",
      "100/100 [==============================] - 95s 948ms/step - loss: 0.9686 - acc: 0.6405 - val_loss: 0.4410 - val_acc: 0.8407\n",
      "Epoch 13/30\n",
      "100/100 [==============================] - 98s 978ms/step - loss: 0.9916 - acc: 0.6480 - val_loss: 0.6811 - val_acc: 0.6850\n",
      "Epoch 14/30\n",
      "100/100 [==============================] - 98s 981ms/step - loss: 1.1228 - acc: 0.5714 - val_loss: 0.5621 - val_acc: 0.4607\n",
      "Epoch 15/30\n",
      "100/100 [==============================] - 107s 1s/step - loss: 1.0229 - acc: 0.6225 - val_loss: 0.4799 - val_acc: 0.6931\n",
      "Epoch 16/30\n",
      "100/100 [==============================] - 91s 911ms/step - loss: 0.8860 - acc: 0.7445 - val_loss: 1.0483 - val_acc: 0.7307\n",
      "Epoch 17/30\n",
      "100/100 [==============================] - 90s 895ms/step - loss: 1.0521 - acc: 0.6500 - val_loss: 0.4453 - val_acc: 0.6825\n",
      "Epoch 18/30\n",
      "100/100 [==============================] - 88s 881ms/step - loss: 0.9674 - acc: 0.6032 - val_loss: 0.2980 - val_acc: 0.7114\n",
      "Epoch 19/30\n",
      "100/100 [==============================] - 88s 878ms/step - loss: 1.0430 - acc: 0.6976 - val_loss: 0.9956 - val_acc: 0.2742\n",
      "Epoch 20/30\n",
      "100/100 [==============================] - 90s 897ms/step - loss: 0.9719 - acc: 0.6730 - val_loss: 0.6493 - val_acc: 0.5427\n",
      "Epoch 21/30\n",
      "100/100 [==============================] - 88s 885ms/step - loss: 1.0966 - acc: 0.5385 - val_loss: 0.5134 - val_acc: 0.5081\n",
      "Epoch 22/30\n",
      "100/100 [==============================] - 98s 976ms/step - loss: 1.0339 - acc: 0.6200 - val_loss: 0.5202 - val_acc: 0.5793\n",
      "Epoch 23/30\n",
      "100/100 [==============================] - 88s 881ms/step - loss: 0.9003 - acc: 0.7244 - val_loss: 0.5122 - val_acc: 0.6270\n",
      "Epoch 24/30\n",
      "100/100 [==============================] - 91s 906ms/step - loss: 1.0276 - acc: 0.6335 - val_loss: 0.5595 - val_acc: 0.6555\n",
      "Epoch 25/30\n",
      "100/100 [==============================] - 88s 884ms/step - loss: 0.8845 - acc: 0.7385 - val_loss: 0.5178 - val_acc: 0.6687\n",
      "Epoch 26/30\n",
      "100/100 [==============================] - 89s 887ms/step - loss: 1.0779 - acc: 0.5395 - val_loss: 0.4181 - val_acc: 0.7571\n",
      "Epoch 27/30\n",
      "100/100 [==============================] - 89s 889ms/step - loss: 0.9657 - acc: 0.6730 - val_loss: 0.9672 - val_acc: 0.4959\n",
      "Epoch 28/30\n",
      "100/100 [==============================] - 89s 885ms/step - loss: 0.9303 - acc: 0.6734 - val_loss: 0.4732 - val_acc: 0.8196\n",
      "Epoch 29/30\n",
      "100/100 [==============================] - 93s 934ms/step - loss: 1.0373 - acc: 0.6455 - val_loss: 0.9260 - val_acc: 0.5020\n",
      "Epoch 30/30\n",
      "100/100 [==============================] - 88s 884ms/step - loss: 1.0141 - acc: 0.5957 - val_loss: 0.8418 - val_acc: 0.6794\n"
     ]
    }
   ],
   "source": [
    "# Repeat fitting using class_weight\n",
    "\n",
    "history_2 = model.fit_generator(\n",
    "      train_generator,\n",
    "      steps_per_epoch=100,\n",
    "      epochs=30,\n",
    "      validation_data=validation_generator,\n",
    "      validation_steps=50,\n",
    "      class_weight = class_weights)\n"
   ]
  },
  {
   "cell_type": "code",
   "execution_count": 22,
   "metadata": {
    "ExecuteTime": {
     "end_time": "2019-12-14T17:45:24.615218Z",
     "start_time": "2019-12-14T17:45:24.252573Z"
    }
   },
   "outputs": [
    {
     "data": {
      "image/png": "[encoded data removed]",
      "text/plain": [
       "<Figure size 432x288 with 1 Axes>"
      ]
     },
     "metadata": {
      "needs_background": "light"
     },
     "output_type": "display_data"
    },
    {
     "data": {
      "image/png": "[encoded data removed]",
      "text/plain": [
       "<Figure size 432x288 with 1 Axes>"
      ]
     },
     "metadata": {
      "needs_background": "light"
     },
     "output_type": "display_data"
    }
   ],
   "source": [
    "import matplotlib.pyplot as plt\n",
    "\n",
    "acc = history_2.history['acc']\n",
    "val_acc = history_2.history['val_acc']\n",
    "loss = history_2.history['loss']\n",
    "val_loss = history_2.history['val_loss']\n",
    "\n",
    "epochs = range(len(acc))\n",
    "\n",
    "plt.plot(epochs, acc, 'r', label='Training acc')\n",
    "plt.plot(epochs, val_acc, 'b', label='Validation acc')\n",
    "plt.title('Training and validation accuracy')\n",
    "plt.legend()\n",
    "\n",
    "plt.figure()\n",
    "\n",
    "plt.plot(epochs, loss, 'r', label='Training loss')\n",
    "plt.plot(epochs, val_loss, 'b', label='Validation loss')\n",
    "plt.title('Training and validation loss')\n",
    "plt.legend()\n",
    "\n",
    "plt.show()"
   ]
  },
  {
   "cell_type": "code",
   "execution_count": 23,
   "metadata": {
    "ExecuteTime": {
     "end_time": "2019-12-14T17:45:24.643901Z",
     "start_time": "2019-12-14T17:45:24.617212Z"
    }
   },
   "outputs": [],
   "source": [
    "# create a dataframe to save the result as .csv\n",
    "\n",
    "df = pd.DataFrame(history_2.history)\n",
    "\n",
    "df.to_csv(\"../models/baseline_model_omdena_history_using_weights_v011119.csv\", index = False)"
   ]
  },
  {
   "cell_type": "code",
   "execution_count": 24,
   "metadata": {
    "ExecuteTime": {
     "end_time": "2019-12-14T17:45:24.659527Z",
     "start_time": "2019-12-14T17:45:24.643901Z"
    }
   },
   "outputs": [
    {
     "name": "stdout",
     "output_type": "stream",
     "text": [
      "2019-12-14 18:45:24.643901\n",
      "0:45:22.746413\n"
     ]
    }
   ],
   "source": [
    "t3 = datetime.datetime.now()\n",
    "(print(t3))\n",
    "print(t3-t2)"
   ]
  },
  {
   "cell_type": "markdown",
   "metadata": {},
   "source": [
    "## Testing using class_weight from sklearn-utils"
   ]
  },
  {
   "cell_type": "code",
   "execution_count": 25,
   "metadata": {
    "ExecuteTime": {
     "end_time": "2019-12-14T17:45:26.013403Z",
     "start_time": "2019-12-14T17:45:24.662948Z"
    }
   },
   "outputs": [
    {
     "data": {
      "text/plain": [
       "{0: 0.6560798548094374, 1: 2.1017441860465116}"
      ]
     },
     "execution_count": 25,
     "metadata": {},
     "output_type": "execute_result"
    }
   ],
   "source": [
    "# or using sklearn (https://ipfs-sec.stackexchange.cloudflare-ipfs.com/datascience/A/question/13490.html)\n",
    "\n",
    "from sklearn.utils import class_weight\n",
    "\n",
    "y_train = train_generator.classes\n",
    "\n",
    "class_weights2 = class_weight.compute_class_weight('balanced',\n",
    "                                                 np.unique(y_train),\n",
    "                                                 y_train)\n",
    "\n",
    "class_weights2\n",
    "class_weight_dict = dict(enumerate(class_weights2))\n",
    "class_weight_dict\n",
    "\n"
   ]
  },
  {
   "cell_type": "code",
   "execution_count": 26,
   "metadata": {
    "ExecuteTime": {
     "end_time": "2019-12-14T18:30:44.638297Z",
     "start_time": "2019-12-14T17:45:26.016396Z"
    }
   },
   "outputs": [
    {
     "name": "stdout",
     "output_type": "stream",
     "text": [
      "Epoch 1/30\n",
      "100/100 [==============================] - 92s 920ms/step - loss: 0.6793 - acc: 0.6435 - val_loss: 0.8419 - val_acc: 0.2812\n",
      "Epoch 2/30\n",
      "100/100 [==============================] - 88s 882ms/step - loss: 0.5279 - acc: 0.7764 - val_loss: 0.4386 - val_acc: 0.7134\n",
      "Epoch 3/30\n",
      "100/100 [==============================] - 89s 892ms/step - loss: 0.7361 - acc: 0.5295 - val_loss: 0.4274 - val_acc: 0.7692\n",
      "Epoch 4/30\n",
      "100/100 [==============================] - 89s 890ms/step - loss: 0.6324 - acc: 0.6482 - val_loss: 0.2373 - val_acc: 0.6931\n",
      "Epoch 5/30\n",
      "100/100 [==============================] - 99s 990ms/step - loss: 0.5695 - acc: 0.7120 - val_loss: 1.2588 - val_acc: 0.8095\n",
      "Epoch 6/30\n",
      "100/100 [==============================] - 92s 917ms/step - loss: 0.6771 - acc: 0.6325 - val_loss: 0.2438 - val_acc: 0.7348\n",
      "Epoch 7/30\n",
      "100/100 [==============================] - 89s 888ms/step - loss: 0.5689 - acc: 0.7395 - val_loss: 0.6949 - val_acc: 0.7419\n",
      "Epoch 8/30\n",
      "100/100 [==============================] - 90s 902ms/step - loss: 0.6901 - acc: 0.6245 - val_loss: 0.6900 - val_acc: 0.5010\n",
      "Epoch 9/30\n",
      "100/100 [==============================] - 89s 888ms/step - loss: 0.6654 - acc: 0.6300 - val_loss: 0.5826 - val_acc: 0.6311\n",
      "Epoch 10/30\n",
      "100/100 [==============================] - 89s 894ms/step - loss: 0.6200 - acc: 0.6665 - val_loss: 0.5625 - val_acc: 0.6109\n",
      "Epoch 11/30\n",
      "100/100 [==============================] - 89s 888ms/step - loss: 0.6714 - acc: 0.6539 - val_loss: 0.8576 - val_acc: 0.5681\n",
      "Epoch 12/30\n",
      "100/100 [==============================] - 90s 905ms/step - loss: 0.6486 - acc: 0.6370 - val_loss: 1.1200 - val_acc: 0.4879\n",
      "Epoch 13/30\n",
      "100/100 [==============================] - 90s 898ms/step - loss: 0.6080 - acc: 0.6735 - val_loss: 0.7138 - val_acc: 0.6850\n",
      "Epoch 14/30\n",
      "100/100 [==============================] - 89s 887ms/step - loss: 0.6620 - acc: 0.6300 - val_loss: 0.7781 - val_acc: 0.6351\n",
      "Epoch 15/30\n",
      "100/100 [==============================] - 90s 896ms/step - loss: 0.6423 - acc: 0.6421 - val_loss: 0.3969 - val_acc: 0.7368\n",
      "Epoch 16/30\n",
      "100/100 [==============================] - 92s 915ms/step - loss: 0.6608 - acc: 0.6585 - val_loss: 0.5031 - val_acc: 0.5803\n",
      "Epoch 17/30\n",
      "100/100 [==============================] - 100s 1s/step - loss: 0.6267 - acc: 0.6765 - val_loss: 0.3930 - val_acc: 0.6825\n",
      "Epoch 18/30\n",
      "100/100 [==============================] - 91s 907ms/step - loss: 0.5739 - acc: 0.7042 - val_loss: 0.3977 - val_acc: 0.7165\n",
      "Epoch 19/30\n",
      "100/100 [==============================] - 93s 931ms/step - loss: 0.6576 - acc: 0.6583 - val_loss: 0.3061 - val_acc: 0.8236\n",
      "Epoch 20/30\n",
      "100/100 [==============================] - 90s 901ms/step - loss: 0.6301 - acc: 0.7030 - val_loss: 0.6338 - val_acc: 0.5600\n",
      "Epoch 21/30\n",
      "100/100 [==============================] - 89s 888ms/step - loss: 0.6141 - acc: 0.6517 - val_loss: 1.3252 - val_acc: 0.8095\n",
      "Epoch 22/30\n",
      "100/100 [==============================] - 90s 900ms/step - loss: 0.6533 - acc: 0.6920 - val_loss: 0.3590 - val_acc: 0.6697\n",
      "Epoch 23/30\n",
      "100/100 [==============================] - 90s 897ms/step - loss: 0.6250 - acc: 0.6400 - val_loss: 0.8193 - val_acc: 0.7470\n",
      "Epoch 24/30\n",
      "100/100 [==============================] - 90s 903ms/step - loss: 0.6854 - acc: 0.6555 - val_loss: 0.3217 - val_acc: 0.8018\n",
      "Epoch 25/30\n",
      "100/100 [==============================] - 95s 953ms/step - loss: 0.6265 - acc: 0.6759 - val_loss: 0.6243 - val_acc: 0.6087\n",
      "Epoch 26/30\n",
      "100/100 [==============================] - 89s 891ms/step - loss: 0.6445 - acc: 0.6985 - val_loss: 0.2966 - val_acc: 0.8327\n",
      "Epoch 27/30\n",
      "100/100 [==============================] - 89s 886ms/step - loss: 0.6698 - acc: 0.6451 - val_loss: 0.9139 - val_acc: 0.5620\n",
      "Epoch 28/30\n",
      "100/100 [==============================] - 88s 881ms/step - loss: 0.5703 - acc: 0.6901 - val_loss: 0.6953 - val_acc: 0.8155\n",
      "Epoch 29/30\n",
      "100/100 [==============================] - 90s 897ms/step - loss: 0.5656 - acc: 0.7435 - val_loss: 0.6947 - val_acc: 0.7022\n",
      "Epoch 30/30\n",
      "100/100 [==============================] - 90s 897ms/step - loss: 0.6909 - acc: 0.5970 - val_loss: 0.7582 - val_acc: 0.6149\n"
     ]
    }
   ],
   "source": [
    "# Repeat fitting using class_weight\n",
    "\n",
    "history_3 = model.fit_generator(\n",
    "      train_generator,\n",
    "      steps_per_epoch=100,\n",
    "      epochs=30,\n",
    "      validation_data=validation_generator,\n",
    "      validation_steps=50,\n",
    "      class_weight = class_weight_dict)"
   ]
  },
  {
   "cell_type": "code",
   "execution_count": 27,
   "metadata": {
    "ExecuteTime": {
     "end_time": "2019-12-14T18:30:45.096753Z",
     "start_time": "2019-12-14T18:30:44.642187Z"
    }
   },
   "outputs": [
    {
     "data": {
      "image/png": "[encoded data removed]",
      "text/plain": [
       "<Figure size 432x288 with 1 Axes>"
      ]
     },
     "metadata": {
      "needs_background": "light"
     },
     "output_type": "display_data"
    },
    {
     "data": {
      "image/png": "[encoded data removed]",
      "text/plain": [
       "<Figure size 432x288 with 1 Axes>"
      ]
     },
     "metadata": {
      "needs_background": "light"
     },
     "output_type": "display_data"
    }
   ],
   "source": [
    "import matplotlib.pyplot as plt\n",
    "\n",
    "acc = history_3.history['acc']\n",
    "val_acc = history_3.history['val_acc']\n",
    "loss = history_3.history['loss']\n",
    "val_loss = history_3.history['val_loss']\n",
    "\n",
    "epochs = range(len(acc))\n",
    "\n",
    "plt.plot(epochs, acc, 'r', label='Training acc')\n",
    "plt.plot(epochs, val_acc, 'b', label='Validation acc')\n",
    "plt.title('Training and validation accuracy')\n",
    "plt.legend()\n",
    "\n",
    "plt.figure()\n",
    "\n",
    "plt.plot(epochs, loss, 'r', label='Training loss')\n",
    "plt.plot(epochs, val_loss, 'b', label='Validation loss')\n",
    "plt.title('Training and validation loss')\n",
    "plt.legend()\n",
    "\n",
    "plt.show()"
   ]
  },
  {
   "cell_type": "code",
   "execution_count": 28,
   "metadata": {
    "ExecuteTime": {
     "end_time": "2019-12-14T18:30:45.120853Z",
     "start_time": "2019-12-14T18:30:45.100742Z"
    }
   },
   "outputs": [],
   "source": [
    "# create a dataframe to save the result as .csv\n",
    "\n",
    "df = pd.DataFrame(history_3.history)\n",
    "\n",
    "df.to_csv(\"../history/baseline_model_omdena_history_using_weights_sklearn_v01119.csv\", index = False)"
   ]
  },
  {
   "cell_type": "code",
   "execution_count": 29,
   "metadata": {
    "ExecuteTime": {
     "end_time": "2019-12-14T18:30:45.130830Z",
     "start_time": "2019-12-14T18:30:45.123845Z"
    }
   },
   "outputs": [
    {
     "name": "stdout",
     "output_type": "stream",
     "text": [
      "2019-12-14 19:30:45.124845\n",
      "0:45:20.480944\n"
     ]
    }
   ],
   "source": [
    "t4 = datetime.datetime.now()\n",
    "(print(t4))\n",
    "print(t4-t3)"
   ]
  },
  {
   "cell_type": "markdown",
   "metadata": {},
   "source": [
    "It seems that using the class_weight from sklearn.utils has a positive effect. However, it is clear that there is overfitting. Let's use from now on a implementation with and one without class_weight (using sklearn class_weight) to compare. Let's check also what happens when class_weight = 'auto' is used."
   ]
  },
  {
   "cell_type": "markdown",
   "metadata": {},
   "source": [
    "## Testing using class_weight = 'auto'"
   ]
  },
  {
   "cell_type": "code",
   "execution_count": 30,
   "metadata": {
    "ExecuteTime": {
     "end_time": "2019-12-14T19:15:43.566785Z",
     "start_time": "2019-12-14T18:30:45.133819Z"
    }
   },
   "outputs": [
    {
     "name": "stdout",
     "output_type": "stream",
     "text": [
      "Epoch 1/30\n",
      "100/100 [==============================] - 95s 948ms/step - loss: 0.4846 - acc: 0.7845 - val_loss: 0.1088 - val_acc: 0.8558\n",
      "Epoch 2/30\n",
      "100/100 [==============================] - 92s 923ms/step - loss: 0.5244 - acc: 0.7602 - val_loss: 0.1823 - val_acc: 0.7063\n",
      "Epoch 3/30\n",
      "100/100 [==============================] - 91s 908ms/step - loss: 0.4669 - acc: 0.7930 - val_loss: 0.1969 - val_acc: 0.8679\n",
      "Epoch 4/30\n",
      "100/100 [==============================] - 90s 897ms/step - loss: 0.4884 - acc: 0.7910 - val_loss: 0.0855 - val_acc: 0.6982\n",
      "Epoch 5/30\n",
      "100/100 [==============================] - 88s 881ms/step - loss: 0.5500 - acc: 0.7562 - val_loss: 1.7277 - val_acc: 0.8145\n",
      "Epoch 6/30\n",
      "100/100 [==============================] - 91s 909ms/step - loss: 0.5229 - acc: 0.7567 - val_loss: 0.2225 - val_acc: 0.7815\n",
      "Epoch 7/30\n",
      "100/100 [==============================] - 89s 891ms/step - loss: 0.4250 - acc: 0.8105 - val_loss: 1.0101 - val_acc: 0.7702\n",
      "Epoch 8/30\n",
      "100/100 [==============================] - 91s 910ms/step - loss: 0.5231 - acc: 0.7880 - val_loss: 0.1057 - val_acc: 0.8262\n",
      "Epoch 9/30\n",
      "100/100 [==============================] - 89s 887ms/step - loss: 0.4351 - acc: 0.8112 - val_loss: 0.1667 - val_acc: 0.7297\n",
      "Epoch 10/30\n",
      "100/100 [==============================] - 89s 894ms/step - loss: 0.5250 - acc: 0.7550 - val_loss: 0.2732 - val_acc: 0.8589\n",
      "Epoch 11/30\n",
      "100/100 [==============================] - 90s 905ms/step - loss: 0.4683 - acc: 0.8000 - val_loss: 0.5424 - val_acc: 0.7317\n",
      "Epoch 12/30\n",
      "100/100 [==============================] - 89s 892ms/step - loss: 0.4574 - acc: 0.8130 - val_loss: 0.3057 - val_acc: 0.8538\n",
      "Epoch 13/30\n",
      "100/100 [==============================] - 89s 894ms/step - loss: 0.5632 - acc: 0.7284 - val_loss: 0.3835 - val_acc: 0.7449\n",
      "Epoch 14/30\n",
      "100/100 [==============================] - 89s 889ms/step - loss: 0.5171 - acc: 0.7520 - val_loss: 1.2475 - val_acc: 0.7903\n",
      "Epoch 15/30\n",
      "100/100 [==============================] - 95s 952ms/step - loss: 0.4216 - acc: 0.8304 - val_loss: 0.0974 - val_acc: 0.7856\n",
      "Epoch 16/30\n",
      "100/100 [==============================] - 89s 893ms/step - loss: 0.5293 - acc: 0.7755 - val_loss: 1.0767 - val_acc: 0.7449\n",
      "Epoch 17/30\n",
      "100/100 [==============================] - 89s 892ms/step - loss: 0.4800 - acc: 0.7850 - val_loss: 0.1418 - val_acc: 0.8639\n",
      "Epoch 18/30\n",
      "100/100 [==============================] - 89s 886ms/step - loss: 0.4695 - acc: 0.8100 - val_loss: 0.1899 - val_acc: 0.7337\n",
      "Epoch 19/30\n",
      "100/100 [==============================] - 89s 893ms/step - loss: 0.4888 - acc: 0.7865 - val_loss: 0.1744 - val_acc: 0.8710\n",
      "Epoch 20/30\n",
      "100/100 [==============================] - 89s 892ms/step - loss: 0.4745 - acc: 0.7971 - val_loss: 0.2348 - val_acc: 0.7510\n",
      "Epoch 21/30\n",
      "100/100 [==============================] - 89s 887ms/step - loss: 0.4943 - acc: 0.7900 - val_loss: 1.5659 - val_acc: 0.8266\n",
      "Epoch 22/30\n",
      "100/100 [==============================] - 91s 909ms/step - loss: 0.4579 - acc: 0.8015 - val_loss: 0.0717 - val_acc: 0.7480\n",
      "Epoch 23/30\n",
      "100/100 [==============================] - 89s 892ms/step - loss: 0.5277 - acc: 0.7610 - val_loss: 1.1035 - val_acc: 0.7641\n",
      "Epoch 24/30\n",
      "100/100 [==============================] - 90s 899ms/step - loss: 0.4297 - acc: 0.8445 - val_loss: 0.1009 - val_acc: 0.8303\n",
      "Epoch 25/30\n",
      "100/100 [==============================] - 89s 889ms/step - loss: 0.4362 - acc: 0.7975 - val_loss: 0.1015 - val_acc: 0.7134\n",
      "Epoch 26/30\n",
      "100/100 [==============================] - 90s 899ms/step - loss: 0.5073 - acc: 0.7760 - val_loss: 0.0503 - val_acc: 0.8498\n",
      "Epoch 27/30\n",
      "100/100 [==============================] - 89s 885ms/step - loss: 0.4839 - acc: 0.7860 - val_loss: 0.1615 - val_acc: 0.7012\n",
      "Epoch 28/30\n",
      "100/100 [==============================] - 90s 901ms/step - loss: 0.5192 - acc: 0.7540 - val_loss: 0.4774 - val_acc: 0.8589\n",
      "Epoch 29/30\n",
      "100/100 [==============================] - 90s 897ms/step - loss: 0.4289 - acc: 0.8102 - val_loss: 0.4194 - val_acc: 0.7642\n",
      "Epoch 30/30\n",
      "100/100 [==============================] - 89s 891ms/step - loss: 0.5132 - acc: 0.7545 - val_loss: 1.6703 - val_acc: 0.8115\n"
     ]
    }
   ],
   "source": [
    "# Repeat fitting using class_weight\n",
    "\n",
    "history_4 = model.fit_generator(\n",
    "      train_generator,\n",
    "      steps_per_epoch=100,\n",
    "      epochs=30,\n",
    "      validation_data=validation_generator,\n",
    "      validation_steps=50,\n",
    "      class_weight = 'auto')\n"
   ]
  },
  {
   "cell_type": "code",
   "execution_count": 31,
   "metadata": {
    "ExecuteTime": {
     "end_time": "2019-12-14T19:15:43.971898Z",
     "start_time": "2019-12-14T19:15:43.569777Z"
    }
   },
   "outputs": [
    {
     "data": {
      "image/png": "[encoded data removed]",
      "text/plain": [
       "<Figure size 432x288 with 1 Axes>"
      ]
     },
     "metadata": {
      "needs_background": "light"
     },
     "output_type": "display_data"
    },
    {
     "data": {
      "image/png": "[encoded data removed]",
      "text/plain": [
       "<Figure size 432x288 with 1 Axes>"
      ]
     },
     "metadata": {
      "needs_background": "light"
     },
     "output_type": "display_data"
    }
   ],
   "source": [
    "import matplotlib.pyplot as plt\n",
    "\n",
    "acc = history_4.history['acc']\n",
    "val_acc = history_4.history['val_acc']\n",
    "loss = history_4.history['loss']\n",
    "val_loss = history_4.history['val_loss']\n",
    "\n",
    "epochs = range(len(acc))\n",
    "\n",
    "plt.plot(epochs, acc, 'r', label='Training acc')\n",
    "plt.plot(epochs, val_acc, 'b', label='Validation acc')\n",
    "plt.title('Training and validation accuracy')\n",
    "plt.legend()\n",
    "\n",
    "plt.figure()\n",
    "\n",
    "plt.plot(epochs, loss, 'r', label='Training loss')\n",
    "plt.plot(epochs, val_loss, 'b', label='Validation loss')\n",
    "plt.title('Training and validation loss')\n",
    "plt.legend()\n",
    "\n",
    "plt.show()"
   ]
  },
  {
   "cell_type": "code",
   "execution_count": 32,
   "metadata": {
    "ExecuteTime": {
     "end_time": "2019-12-14T19:15:43.986991Z",
     "start_time": "2019-12-14T19:15:43.973892Z"
    }
   },
   "outputs": [],
   "source": [
    "# create a dataframe to save the result as .csv\n",
    "\n",
    "df = pd.DataFrame(history_4.history)\n",
    "\n",
    "df.to_csv(\"../history/baseline_model_omdena_history_using_class_weight_auto_v011119.csv\", index = False)"
   ]
  },
  {
   "cell_type": "code",
   "execution_count": 33,
   "metadata": {
    "ExecuteTime": {
     "end_time": "2019-12-14T19:15:44.002851Z",
     "start_time": "2019-12-14T19:15:43.986991Z"
    }
   },
   "outputs": [
    {
     "name": "stdout",
     "output_type": "stream",
     "text": [
      "2019-12-14 20:15:43.986991\n",
      "0:44:58.862146\n"
     ]
    }
   ],
   "source": [
    "t5 = datetime.datetime.now()\n",
    "(print(t5))\n",
    "print(t5-t4)"
   ]
  }
 ],
 "metadata": {
  "hide_input": false,
  "kernelspec": {
   "display_name": "Python 3",
   "language": "python",
   "name": "python3"
  },
  "language_info": {
   "codemirror_mode": {
    "name": "ipython",
    "version": 3
   },
   "file_extension": ".py",
   "mimetype": "text/x-python",
   "name": "python",
   "nbconvert_exporter": "python",
   "pygments_lexer": "ipython3",
   "version": "3.7.2"
  },
  "toc": {
   "base_numbering": 1,
   "nav_menu": {},
   "number_sections": true,
   "sideBar": true,
   "skip_h1_title": false,
   "title_cell": "Table of Contents",
   "title_sidebar": "Contents",
   "toc_cell": false,
   "toc_position": {
    "height": "calc(100% - 180px)",
    "left": "10px",
    "top": "150px",
    "width": "256px"
   },
   "toc_section_display": true,
   "toc_window_display": true
  },
  "varInspector": {
   "cols": {
    "lenName": 16,
    "lenType": 16,
    "lenVar": 40
   },
   "kernels_config": {
    "python": {
     "delete_cmd_postfix": "",
     "delete_cmd_prefix": "del ",
     "library": "var_list.py",
     "varRefreshCmd": "print(var_dic_list())"
    },
    "r": {
     "delete_cmd_postfix": ") ",
     "delete_cmd_prefix": "rm(",
     "library": "var_list.r",
     "varRefreshCmd": "cat(var_dic_list()) "
    }
   },
   "types_to_exclude": [
    "module",
    "function",
    "builtin_function_or_method",
    "instance",
    "_Feature"
   ],
   "window_display": false
  }
 },
 "nbformat": 4,
 "nbformat_minor": 2
}
