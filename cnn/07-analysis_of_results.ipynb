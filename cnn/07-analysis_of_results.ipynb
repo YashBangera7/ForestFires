{
 "cells": [
  {
   "cell_type": "markdown",
   "metadata": {},
   "source": [
    "This notebook presents summary and comparison of the results obtained by applying baseline model (03-baseline_model.ipynb), VGG16 (04-Fighting overfitting using data augmentation from keras.ipynb) and Gausian Noise in the classifier (05-models_using_gaussian_noise.ipynb)."
   ]
  },
  {
   "cell_type": "code",
   "execution_count": 1,
   "metadata": {
    "ExecuteTime": {
     "end_time": "2019-11-14T15:39:08.619435Z",
     "start_time": "2019-11-14T15:39:08.282486Z"
    }
   },
   "outputs": [],
   "source": [
    "import pandas as pd"
   ]
  },
  {
   "cell_type": "markdown",
   "metadata": {},
   "source": [
    "# Baseline model"
   ]
  },
  {
   "cell_type": "code",
   "execution_count": 2,
   "metadata": {
    "ExecuteTime": {
     "end_time": "2019-11-14T15:39:12.725211Z",
     "start_time": "2019-11-14T15:39:09.688955Z"
    },
    "scrolled": false
   },
   "outputs": [
    {
     "name": "stderr",
     "output_type": "stream",
     "text": [
      "Using TensorFlow backend.\n"
     ]
    },
    {
     "name": "stdout",
     "output_type": "stream",
     "text": [
      "Model: \"sequential_1\"\n",
      "_________________________________________________________________\n",
      "Layer (type)                 Output Shape              Param #   \n",
      "=================================================================\n",
      "conv2d_1 (Conv2D)            (None, 126, 126, 32)      896       \n",
      "_________________________________________________________________\n",
      "max_pooling2d_1 (MaxPooling2 (None, 63, 63, 32)        0         \n",
      "_________________________________________________________________\n",
      "conv2d_2 (Conv2D)            (None, 61, 61, 64)        18496     \n",
      "_________________________________________________________________\n",
      "max_pooling2d_2 (MaxPooling2 (None, 30, 30, 64)        0         \n",
      "_________________________________________________________________\n",
      "conv2d_3 (Conv2D)            (None, 28, 28, 128)       73856     \n",
      "_________________________________________________________________\n",
      "max_pooling2d_3 (MaxPooling2 (None, 14, 14, 128)       0         \n",
      "_________________________________________________________________\n",
      "conv2d_4 (Conv2D)            (None, 12, 12, 128)       147584    \n",
      "_________________________________________________________________\n",
      "max_pooling2d_4 (MaxPooling2 (None, 6, 6, 128)         0         \n",
      "_________________________________________________________________\n",
      "flatten_1 (Flatten)          (None, 4608)              0         \n",
      "_________________________________________________________________\n",
      "dense_1 (Dense)              (None, 512)               2359808   \n",
      "_________________________________________________________________\n",
      "dense_2 (Dense)              (None, 1)                 513       \n",
      "=================================================================\n",
      "Total params: 2,601,153\n",
      "Trainable params: 2,601,153\n",
      "Non-trainable params: 0\n",
      "_________________________________________________________________\n"
     ]
    }
   ],
   "source": [
    "from keras.models import load_model\n",
    "\n",
    "load_model(\"../models/baseline_model_omdena_v011119.h5\").summary()"
   ]
  },
  {
   "cell_type": "code",
   "execution_count": 3,
   "metadata": {
    "ExecuteTime": {
     "end_time": "2019-11-14T15:39:12.791045Z",
     "start_time": "2019-11-14T15:39:12.762113Z"
    }
   },
   "outputs": [],
   "source": [
    "df_baseline = pd.read_csv(\"../models/baseline_model_omdena_history_v011119.csv\")"
   ]
  },
  {
   "cell_type": "code",
   "execution_count": 4,
   "metadata": {
    "ExecuteTime": {
     "end_time": "2019-11-14T15:39:12.898751Z",
     "start_time": "2019-11-14T15:39:12.866835Z"
    }
   },
   "outputs": [],
   "source": [
    "df_baseline['diff_loss'] = abs(df_baseline['loss']-df_baseline['val_loss'])\n",
    "df_baseline['diff_acc'] = abs(df_baseline['acc']-df_baseline['val_acc'])\n",
    "df_baseline = df_baseline[['acc', 'loss', 'val_acc', 'val_loss', 'diff_loss', 'diff_acc']]"
   ]
  },
  {
   "cell_type": "code",
   "execution_count": 5,
   "metadata": {
    "ExecuteTime": {
     "end_time": "2019-11-14T15:39:13.010447Z",
     "start_time": "2019-11-14T15:39:12.987509Z"
    },
    "scrolled": true
   },
   "outputs": [
    {
     "data": {
      "text/html": [
       "<div>\n",
       "<style scoped>\n",
       "    .dataframe tbody tr th:only-of-type {\n",
       "        vertical-align: middle;\n",
       "    }\n",
       "\n",
       "    .dataframe tbody tr th {\n",
       "        vertical-align: top;\n",
       "    }\n",
       "\n",
       "    .dataframe thead th {\n",
       "        text-align: right;\n",
       "    }\n",
       "</style>\n",
       "<table border=\"1\" class=\"dataframe\">\n",
       "  <thead>\n",
       "    <tr style=\"text-align: right;\">\n",
       "      <th></th>\n",
       "      <th>acc</th>\n",
       "      <th>loss</th>\n",
       "      <th>val_acc</th>\n",
       "      <th>val_loss</th>\n",
       "      <th>diff_loss</th>\n",
       "      <th>diff_acc</th>\n",
       "    </tr>\n",
       "  </thead>\n",
       "  <tbody>\n",
       "    <tr>\n",
       "      <th>7</th>\n",
       "      <td>0.808500</td>\n",
       "      <td>0.583780</td>\n",
       "      <td>0.815041</td>\n",
       "      <td>0.416634</td>\n",
       "      <td>0.167146</td>\n",
       "      <td>0.006541</td>\n",
       "    </tr>\n",
       "    <tr>\n",
       "      <th>13</th>\n",
       "      <td>0.798500</td>\n",
       "      <td>0.526281</td>\n",
       "      <td>0.770161</td>\n",
       "      <td>1.293541</td>\n",
       "      <td>0.767260</td>\n",
       "      <td>0.028339</td>\n",
       "    </tr>\n",
       "    <tr>\n",
       "      <th>10</th>\n",
       "      <td>0.790000</td>\n",
       "      <td>0.567353</td>\n",
       "      <td>0.695122</td>\n",
       "      <td>0.333914</td>\n",
       "      <td>0.233440</td>\n",
       "      <td>0.094878</td>\n",
       "    </tr>\n",
       "    <tr>\n",
       "      <th>21</th>\n",
       "      <td>0.790000</td>\n",
       "      <td>0.518454</td>\n",
       "      <td>0.733740</td>\n",
       "      <td>0.014361</td>\n",
       "      <td>0.504093</td>\n",
       "      <td>0.056260</td>\n",
       "    </tr>\n",
       "    <tr>\n",
       "      <th>3</th>\n",
       "      <td>0.788500</td>\n",
       "      <td>0.573492</td>\n",
       "      <td>0.695122</td>\n",
       "      <td>0.191076</td>\n",
       "      <td>0.382416</td>\n",
       "      <td>0.093378</td>\n",
       "    </tr>\n",
       "    <tr>\n",
       "      <th>25</th>\n",
       "      <td>0.788491</td>\n",
       "      <td>0.518898</td>\n",
       "      <td>0.849798</td>\n",
       "      <td>0.206324</td>\n",
       "      <td>0.312574</td>\n",
       "      <td>0.061308</td>\n",
       "    </tr>\n",
       "    <tr>\n",
       "      <th>28</th>\n",
       "      <td>0.783000</td>\n",
       "      <td>0.533108</td>\n",
       "      <td>0.697154</td>\n",
       "      <td>0.314016</td>\n",
       "      <td>0.219093</td>\n",
       "      <td>0.085846</td>\n",
       "    </tr>\n",
       "    <tr>\n",
       "      <th>2</th>\n",
       "      <td>0.780000</td>\n",
       "      <td>0.550367</td>\n",
       "      <td>0.848790</td>\n",
       "      <td>0.172904</td>\n",
       "      <td>0.377463</td>\n",
       "      <td>0.068790</td>\n",
       "    </tr>\n",
       "    <tr>\n",
       "      <th>12</th>\n",
       "      <td>0.780000</td>\n",
       "      <td>0.539999</td>\n",
       "      <td>0.695122</td>\n",
       "      <td>0.412626</td>\n",
       "      <td>0.127373</td>\n",
       "      <td>0.084878</td>\n",
       "    </tr>\n",
       "    <tr>\n",
       "      <th>17</th>\n",
       "      <td>0.778500</td>\n",
       "      <td>0.544482</td>\n",
       "      <td>0.695122</td>\n",
       "      <td>0.210116</td>\n",
       "      <td>0.334367</td>\n",
       "      <td>0.083378</td>\n",
       "    </tr>\n",
       "  </tbody>\n",
       "</table>\n",
       "</div>"
      ],
      "text/plain": [
       "         acc      loss   val_acc  val_loss  diff_loss  diff_acc\n",
       "7   0.808500  0.583780  0.815041  0.416634   0.167146  0.006541\n",
       "13  0.798500  0.526281  0.770161  1.293541   0.767260  0.028339\n",
       "10  0.790000  0.567353  0.695122  0.333914   0.233440  0.094878\n",
       "21  0.790000  0.518454  0.733740  0.014361   0.504093  0.056260\n",
       "3   0.788500  0.573492  0.695122  0.191076   0.382416  0.093378\n",
       "25  0.788491  0.518898  0.849798  0.206324   0.312574  0.061308\n",
       "28  0.783000  0.533108  0.697154  0.314016   0.219093  0.085846\n",
       "2   0.780000  0.550367  0.848790  0.172904   0.377463  0.068790\n",
       "12  0.780000  0.539999  0.695122  0.412626   0.127373  0.084878\n",
       "17  0.778500  0.544482  0.695122  0.210116   0.334367  0.083378"
      ]
     },
     "execution_count": 5,
     "metadata": {},
     "output_type": "execute_result"
    }
   ],
   "source": [
    "df_baseline.sort_values('acc', ascending=False).head(10)"
   ]
  },
  {
   "cell_type": "code",
   "execution_count": 6,
   "metadata": {
    "ExecuteTime": {
     "end_time": "2019-11-14T15:39:13.837449Z",
     "start_time": "2019-11-14T15:39:13.821495Z"
    },
    "scrolled": false
   },
   "outputs": [
    {
     "data": {
      "text/html": [
       "<div>\n",
       "<style scoped>\n",
       "    .dataframe tbody tr th:only-of-type {\n",
       "        vertical-align: middle;\n",
       "    }\n",
       "\n",
       "    .dataframe tbody tr th {\n",
       "        vertical-align: top;\n",
       "    }\n",
       "\n",
       "    .dataframe thead th {\n",
       "        text-align: right;\n",
       "    }\n",
       "</style>\n",
       "<table border=\"1\" class=\"dataframe\">\n",
       "  <thead>\n",
       "    <tr style=\"text-align: right;\">\n",
       "      <th></th>\n",
       "      <th>acc</th>\n",
       "      <th>loss</th>\n",
       "      <th>val_acc</th>\n",
       "      <th>val_loss</th>\n",
       "      <th>diff_loss</th>\n",
       "      <th>diff_acc</th>\n",
       "    </tr>\n",
       "  </thead>\n",
       "  <tbody>\n",
       "    <tr>\n",
       "      <th>8</th>\n",
       "      <td>0.755679</td>\n",
       "      <td>0.566771</td>\n",
       "      <td>0.695122</td>\n",
       "      <td>0.483471</td>\n",
       "      <td>0.083300</td>\n",
       "      <td>0.060557</td>\n",
       "    </tr>\n",
       "    <tr>\n",
       "      <th>12</th>\n",
       "      <td>0.780000</td>\n",
       "      <td>0.539999</td>\n",
       "      <td>0.695122</td>\n",
       "      <td>0.412626</td>\n",
       "      <td>0.127373</td>\n",
       "      <td>0.084878</td>\n",
       "    </tr>\n",
       "    <tr>\n",
       "      <th>19</th>\n",
       "      <td>0.757193</td>\n",
       "      <td>0.553358</td>\n",
       "      <td>0.696138</td>\n",
       "      <td>0.416585</td>\n",
       "      <td>0.136773</td>\n",
       "      <td>0.061055</td>\n",
       "    </tr>\n",
       "    <tr>\n",
       "      <th>7</th>\n",
       "      <td>0.808500</td>\n",
       "      <td>0.583780</td>\n",
       "      <td>0.815041</td>\n",
       "      <td>0.416634</td>\n",
       "      <td>0.167146</td>\n",
       "      <td>0.006541</td>\n",
       "    </tr>\n",
       "    <tr>\n",
       "      <th>26</th>\n",
       "      <td>0.722000</td>\n",
       "      <td>0.583441</td>\n",
       "      <td>0.697154</td>\n",
       "      <td>0.394224</td>\n",
       "      <td>0.189216</td>\n",
       "      <td>0.024846</td>\n",
       "    </tr>\n",
       "    <tr>\n",
       "      <th>28</th>\n",
       "      <td>0.783000</td>\n",
       "      <td>0.533108</td>\n",
       "      <td>0.697154</td>\n",
       "      <td>0.314016</td>\n",
       "      <td>0.219093</td>\n",
       "      <td>0.085846</td>\n",
       "    </tr>\n",
       "    <tr>\n",
       "      <th>10</th>\n",
       "      <td>0.790000</td>\n",
       "      <td>0.567353</td>\n",
       "      <td>0.695122</td>\n",
       "      <td>0.333914</td>\n",
       "      <td>0.233440</td>\n",
       "      <td>0.094878</td>\n",
       "    </tr>\n",
       "    <tr>\n",
       "      <th>23</th>\n",
       "      <td>0.768500</td>\n",
       "      <td>0.548887</td>\n",
       "      <td>0.815041</td>\n",
       "      <td>0.311944</td>\n",
       "      <td>0.236943</td>\n",
       "      <td>0.046541</td>\n",
       "    </tr>\n",
       "    <tr>\n",
       "      <th>27</th>\n",
       "      <td>0.774500</td>\n",
       "      <td>0.523363</td>\n",
       "      <td>0.849798</td>\n",
       "      <td>0.282920</td>\n",
       "      <td>0.240443</td>\n",
       "      <td>0.075298</td>\n",
       "    </tr>\n",
       "    <tr>\n",
       "      <th>9</th>\n",
       "      <td>0.770000</td>\n",
       "      <td>0.560882</td>\n",
       "      <td>0.848790</td>\n",
       "      <td>0.271182</td>\n",
       "      <td>0.289700</td>\n",
       "      <td>0.078790</td>\n",
       "    </tr>\n",
       "  </tbody>\n",
       "</table>\n",
       "</div>"
      ],
      "text/plain": [
       "         acc      loss   val_acc  val_loss  diff_loss  diff_acc\n",
       "8   0.755679  0.566771  0.695122  0.483471   0.083300  0.060557\n",
       "12  0.780000  0.539999  0.695122  0.412626   0.127373  0.084878\n",
       "19  0.757193  0.553358  0.696138  0.416585   0.136773  0.061055\n",
       "7   0.808500  0.583780  0.815041  0.416634   0.167146  0.006541\n",
       "26  0.722000  0.583441  0.697154  0.394224   0.189216  0.024846\n",
       "28  0.783000  0.533108  0.697154  0.314016   0.219093  0.085846\n",
       "10  0.790000  0.567353  0.695122  0.333914   0.233440  0.094878\n",
       "23  0.768500  0.548887  0.815041  0.311944   0.236943  0.046541\n",
       "27  0.774500  0.523363  0.849798  0.282920   0.240443  0.075298\n",
       "9   0.770000  0.560882  0.848790  0.271182   0.289700  0.078790"
      ]
     },
     "execution_count": 6,
     "metadata": {},
     "output_type": "execute_result"
    }
   ],
   "source": [
    "df_baseline.sort_values(['diff_loss','diff_acc']).head(10)"
   ]
  },
  {
   "cell_type": "code",
   "execution_count": 8,
   "metadata": {
    "ExecuteTime": {
     "end_time": "2019-11-14T15:39:17.953329Z",
     "start_time": "2019-11-14T15:39:17.610596Z"
    }
   },
   "outputs": [
    {
     "data": {
      "image/png": "[encoded data removed]",
      "text/plain": [
       "<Figure size 432x288 with 1 Axes>"
      ]
     },
     "metadata": {
      "needs_background": "light"
     },
     "output_type": "display_data"
    },
    {
     "data": {
      "image/png": "[encoded data removed]",
      "text/plain": [
       "<Figure size 432x288 with 1 Axes>"
      ]
     },
     "metadata": {
      "needs_background": "light"
     },
     "output_type": "display_data"
    }
   ],
   "source": [
    "import matplotlib.pyplot as plt\n",
    "\n",
    "acc = df_baseline['acc']\n",
    "val_acc = df_baseline['val_acc']\n",
    "loss = df_baseline['loss']\n",
    "val_loss = df_baseline['val_loss']\n",
    "\n",
    "epochs = range(len(acc))\n",
    "\n",
    "plt.plot(epochs, acc, 'r', label='Training acc')\n",
    "plt.plot(epochs, val_acc, 'b', label='Validation acc')\n",
    "plt.title('Training and validation accuracy')\n",
    "plt.legend()\n",
    "\n",
    "plt.figure()\n",
    "\n",
    "plt.plot(epochs, loss, 'r', label='Training loss')\n",
    "plt.plot(epochs, val_loss, 'b', label='Validation loss')\n",
    "plt.title('Training and validation loss')\n",
    "plt.legend()\n",
    "\n",
    "plt.show()"
   ]
  },
  {
   "cell_type": "code",
   "execution_count": 9,
   "metadata": {
    "ExecuteTime": {
     "end_time": "2019-11-14T15:39:22.293745Z",
     "start_time": "2019-11-14T15:39:22.287764Z"
    }
   },
   "outputs": [],
   "source": [
    "def smooth_curve(points, factor=0.8):\n",
    "    smoothed_points = []\n",
    "    for point in points:\n",
    "        if smoothed_points:\n",
    "            previous = smoothed_points[-1]\n",
    "            smoothed_points.append(previous * factor + point * (1 - factor))\n",
    "        else:\n",
    "            smoothed_points.append(point)\n",
    "    return smoothed_points"
   ]
  },
  {
   "cell_type": "markdown",
   "metadata": {},
   "source": [
    "Because the curves above are too noisy we apply the following function to have a smoother version of them."
   ]
  },
  {
   "cell_type": "code",
   "execution_count": 10,
   "metadata": {
    "ExecuteTime": {
     "end_time": "2019-11-14T15:39:23.905291Z",
     "start_time": "2019-11-14T15:39:23.445731Z"
    }
   },
   "outputs": [
    {
     "data": {
      "image/png": "[encoded data removed]",
      "text/plain": [
       "<Figure size 432x288 with 1 Axes>"
      ]
     },
     "metadata": {
      "needs_background": "light"
     },
     "output_type": "display_data"
    },
    {
     "data": {
      "image/png": "[encoded data removed]",
      "text/plain": [
       "<Figure size 432x288 with 1 Axes>"
      ]
     },
     "metadata": {
      "needs_background": "light"
     },
     "output_type": "display_data"
    }
   ],
   "source": [
    "plt.plot(epochs,\n",
    "         smooth_curve(acc), 'r', label='Smoothed training acc')\n",
    "plt.plot(epochs,\n",
    "         smooth_curve(val_acc), 'b', label='Smoothed validation acc')\n",
    "plt.title('Training and validation accuracy')\n",
    "plt.legend()\n",
    "\n",
    "plt.figure()\n",
    "\n",
    "plt.plot(epochs,\n",
    "         smooth_curve(loss), 'r', label='Smoothed training loss')\n",
    "plt.plot(epochs,\n",
    "         smooth_curve(val_loss), 'b', label='Smoothed validation loss')\n",
    "plt.title('Training and validation loss')\n",
    "plt.legend()\n",
    "\n",
    "plt.show()"
   ]
  },
  {
   "cell_type": "markdown",
   "metadata": {},
   "source": [
    "The **highest accuracy** is:\n",
    "\n",
    "**training : 80.85%**\n",
    "\n",
    "**validation: 81.50%**\n",
    "\n",
    "However, the difference in loss indicates overfitting at this point (epoch 8).\n",
    "\n",
    "The **lowest difference in loss** (training and validation) occurs in epoch 9 and the accuracy there is:\n",
    "\n",
    "**training : 75.57%**\n",
    "\n",
    "**validation: 69.51%**\n"
   ]
  },
  {
   "cell_type": "markdown",
   "metadata": {},
   "source": [
    "# Pre-trained network available from keras (https://keras.io/applications/)\n",
    "\n",
    "## VGG16\n",
    "\n",
    "### Base - Feature extraction without data augmentation"
   ]
  },
  {
   "cell_type": "code",
   "execution_count": 11,
   "metadata": {
    "ExecuteTime": {
     "end_time": "2019-11-14T15:39:27.198362Z",
     "start_time": "2019-11-14T15:39:27.185397Z"
    }
   },
   "outputs": [
    {
     "data": {
      "text/html": [
       "<div>\n",
       "<style scoped>\n",
       "    .dataframe tbody tr th:only-of-type {\n",
       "        vertical-align: middle;\n",
       "    }\n",
       "\n",
       "    .dataframe tbody tr th {\n",
       "        vertical-align: top;\n",
       "    }\n",
       "\n",
       "    .dataframe thead th {\n",
       "        text-align: right;\n",
       "    }\n",
       "</style>\n",
       "<table border=\"1\" class=\"dataframe\">\n",
       "  <thead>\n",
       "    <tr style=\"text-align: right;\">\n",
       "      <th></th>\n",
       "      <th>acc</th>\n",
       "      <th>loss</th>\n",
       "      <th>val_acc</th>\n",
       "      <th>val_loss</th>\n",
       "    </tr>\n",
       "  </thead>\n",
       "  <tbody>\n",
       "    <tr>\n",
       "      <th>0</th>\n",
       "      <td>0.747876</td>\n",
       "      <td>0.568802</td>\n",
       "      <td>0.781646</td>\n",
       "      <td>0.508381</td>\n",
       "    </tr>\n",
       "    <tr>\n",
       "      <th>1</th>\n",
       "      <td>0.776526</td>\n",
       "      <td>0.511126</td>\n",
       "      <td>0.787975</td>\n",
       "      <td>0.499676</td>\n",
       "    </tr>\n",
       "    <tr>\n",
       "      <th>2</th>\n",
       "      <td>0.789567</td>\n",
       "      <td>0.492521</td>\n",
       "      <td>0.787975</td>\n",
       "      <td>0.481350</td>\n",
       "    </tr>\n",
       "    <tr>\n",
       "      <th>3</th>\n",
       "      <td>0.793914</td>\n",
       "      <td>0.476111</td>\n",
       "      <td>0.802215</td>\n",
       "      <td>0.487124</td>\n",
       "    </tr>\n",
       "    <tr>\n",
       "      <th>4</th>\n",
       "      <td>0.795693</td>\n",
       "      <td>0.467054</td>\n",
       "      <td>0.799051</td>\n",
       "      <td>0.472159</td>\n",
       "    </tr>\n",
       "  </tbody>\n",
       "</table>\n",
       "</div>"
      ],
      "text/plain": [
       "        acc      loss   val_acc  val_loss\n",
       "0  0.747876  0.568802  0.781646  0.508381\n",
       "1  0.776526  0.511126  0.787975  0.499676\n",
       "2  0.789567  0.492521  0.787975  0.481350\n",
       "3  0.793914  0.476111  0.802215  0.487124\n",
       "4  0.795693  0.467054  0.799051  0.472159"
      ]
     },
     "execution_count": 11,
     "metadata": {},
     "output_type": "execute_result"
    }
   ],
   "source": [
    "df_vgg16 = pd.read_csv(\"../models/VGG_model_omdena_history_v051119.csv\")\n",
    "df_vgg16.head()"
   ]
  },
  {
   "cell_type": "code",
   "execution_count": 12,
   "metadata": {
    "ExecuteTime": {
     "end_time": "2019-11-14T15:39:28.023192Z",
     "start_time": "2019-11-14T15:39:28.016212Z"
    }
   },
   "outputs": [],
   "source": [
    "df_vgg16['diff_loss'] = abs(df_vgg16['loss']-df_vgg16['val_loss'])\n",
    "df_vgg16['diff_acc'] = abs(df_vgg16['acc']-df_vgg16['val_acc'])\n",
    "\n",
    "df_vgg16 = df_vgg16[['acc', 'loss', 'val_acc', 'val_loss', 'diff_loss', 'diff_acc']]"
   ]
  },
  {
   "cell_type": "code",
   "execution_count": 13,
   "metadata": {
    "ExecuteTime": {
     "end_time": "2019-11-14T15:39:28.958278Z",
     "start_time": "2019-11-14T15:39:28.944313Z"
    }
   },
   "outputs": [
    {
     "data": {
      "text/html": [
       "<div>\n",
       "<style scoped>\n",
       "    .dataframe tbody tr th:only-of-type {\n",
       "        vertical-align: middle;\n",
       "    }\n",
       "\n",
       "    .dataframe tbody tr th {\n",
       "        vertical-align: top;\n",
       "    }\n",
       "\n",
       "    .dataframe thead th {\n",
       "        text-align: right;\n",
       "    }\n",
       "</style>\n",
       "<table border=\"1\" class=\"dataframe\">\n",
       "  <thead>\n",
       "    <tr style=\"text-align: right;\">\n",
       "      <th></th>\n",
       "      <th>acc</th>\n",
       "      <th>loss</th>\n",
       "      <th>val_acc</th>\n",
       "      <th>val_loss</th>\n",
       "      <th>diff_loss</th>\n",
       "      <th>diff_acc</th>\n",
       "    </tr>\n",
       "  </thead>\n",
       "  <tbody>\n",
       "    <tr>\n",
       "      <th>28</th>\n",
       "      <td>0.843114</td>\n",
       "      <td>0.377074</td>\n",
       "      <td>0.816456</td>\n",
       "      <td>0.467547</td>\n",
       "      <td>0.090473</td>\n",
       "      <td>0.026658</td>\n",
       "    </tr>\n",
       "    <tr>\n",
       "      <th>27</th>\n",
       "      <td>0.842521</td>\n",
       "      <td>0.378517</td>\n",
       "      <td>0.813291</td>\n",
       "      <td>0.462914</td>\n",
       "      <td>0.084397</td>\n",
       "      <td>0.029230</td>\n",
       "    </tr>\n",
       "    <tr>\n",
       "      <th>29</th>\n",
       "      <td>0.842126</td>\n",
       "      <td>0.375318</td>\n",
       "      <td>0.811709</td>\n",
       "      <td>0.463551</td>\n",
       "      <td>0.088233</td>\n",
       "      <td>0.030417</td>\n",
       "    </tr>\n",
       "    <tr>\n",
       "      <th>26</th>\n",
       "      <td>0.841138</td>\n",
       "      <td>0.380766</td>\n",
       "      <td>0.816456</td>\n",
       "      <td>0.460296</td>\n",
       "      <td>0.079531</td>\n",
       "      <td>0.024682</td>\n",
       "    </tr>\n",
       "    <tr>\n",
       "      <th>23</th>\n",
       "      <td>0.836396</td>\n",
       "      <td>0.389378</td>\n",
       "      <td>0.810127</td>\n",
       "      <td>0.458564</td>\n",
       "      <td>0.069185</td>\n",
       "      <td>0.026269</td>\n",
       "    </tr>\n",
       "    <tr>\n",
       "      <th>25</th>\n",
       "      <td>0.836198</td>\n",
       "      <td>0.385695</td>\n",
       "      <td>0.814873</td>\n",
       "      <td>0.463959</td>\n",
       "      <td>0.078264</td>\n",
       "      <td>0.021325</td>\n",
       "    </tr>\n",
       "    <tr>\n",
       "      <th>24</th>\n",
       "      <td>0.836198</td>\n",
       "      <td>0.386551</td>\n",
       "      <td>0.811709</td>\n",
       "      <td>0.466575</td>\n",
       "      <td>0.080024</td>\n",
       "      <td>0.024490</td>\n",
       "    </tr>\n",
       "    <tr>\n",
       "      <th>21</th>\n",
       "      <td>0.835210</td>\n",
       "      <td>0.394234</td>\n",
       "      <td>0.813291</td>\n",
       "      <td>0.462195</td>\n",
       "      <td>0.067961</td>\n",
       "      <td>0.021919</td>\n",
       "    </tr>\n",
       "    <tr>\n",
       "      <th>22</th>\n",
       "      <td>0.831259</td>\n",
       "      <td>0.392807</td>\n",
       "      <td>0.811709</td>\n",
       "      <td>0.464733</td>\n",
       "      <td>0.071926</td>\n",
       "      <td>0.019550</td>\n",
       "    </tr>\n",
       "    <tr>\n",
       "      <th>20</th>\n",
       "      <td>0.829678</td>\n",
       "      <td>0.397554</td>\n",
       "      <td>0.810127</td>\n",
       "      <td>0.456680</td>\n",
       "      <td>0.059127</td>\n",
       "      <td>0.019551</td>\n",
       "    </tr>\n",
       "  </tbody>\n",
       "</table>\n",
       "</div>"
      ],
      "text/plain": [
       "         acc      loss   val_acc  val_loss  diff_loss  diff_acc\n",
       "28  0.843114  0.377074  0.816456  0.467547   0.090473  0.026658\n",
       "27  0.842521  0.378517  0.813291  0.462914   0.084397  0.029230\n",
       "29  0.842126  0.375318  0.811709  0.463551   0.088233  0.030417\n",
       "26  0.841138  0.380766  0.816456  0.460296   0.079531  0.024682\n",
       "23  0.836396  0.389378  0.810127  0.458564   0.069185  0.026269\n",
       "25  0.836198  0.385695  0.814873  0.463959   0.078264  0.021325\n",
       "24  0.836198  0.386551  0.811709  0.466575   0.080024  0.024490\n",
       "21  0.835210  0.394234  0.813291  0.462195   0.067961  0.021919\n",
       "22  0.831259  0.392807  0.811709  0.464733   0.071926  0.019550\n",
       "20  0.829678  0.397554  0.810127  0.456680   0.059127  0.019551"
      ]
     },
     "execution_count": 13,
     "metadata": {},
     "output_type": "execute_result"
    }
   ],
   "source": [
    "df_vgg16.sort_values('acc', ascending=False).head(10)"
   ]
  },
  {
   "cell_type": "code",
   "execution_count": 14,
   "metadata": {
    "ExecuteTime": {
     "end_time": "2019-11-14T15:39:30.146434Z",
     "start_time": "2019-11-14T15:39:30.134467Z"
    },
    "scrolled": false
   },
   "outputs": [
    {
     "data": {
      "text/html": [
       "<div>\n",
       "<style scoped>\n",
       "    .dataframe tbody tr th:only-of-type {\n",
       "        vertical-align: middle;\n",
       "    }\n",
       "\n",
       "    .dataframe tbody tr th {\n",
       "        vertical-align: top;\n",
       "    }\n",
       "\n",
       "    .dataframe thead th {\n",
       "        text-align: right;\n",
       "    }\n",
       "</style>\n",
       "<table border=\"1\" class=\"dataframe\">\n",
       "  <thead>\n",
       "    <tr style=\"text-align: right;\">\n",
       "      <th></th>\n",
       "      <th>acc</th>\n",
       "      <th>loss</th>\n",
       "      <th>val_acc</th>\n",
       "      <th>val_loss</th>\n",
       "      <th>diff_loss</th>\n",
       "      <th>diff_acc</th>\n",
       "    </tr>\n",
       "  </thead>\n",
       "  <tbody>\n",
       "    <tr>\n",
       "      <th>4</th>\n",
       "      <td>0.795693</td>\n",
       "      <td>0.467054</td>\n",
       "      <td>0.799051</td>\n",
       "      <td>0.472159</td>\n",
       "      <td>0.005105</td>\n",
       "      <td>0.003358</td>\n",
       "    </tr>\n",
       "    <tr>\n",
       "      <th>5</th>\n",
       "      <td>0.798854</td>\n",
       "      <td>0.462236</td>\n",
       "      <td>0.799051</td>\n",
       "      <td>0.469752</td>\n",
       "      <td>0.007516</td>\n",
       "      <td>0.000197</td>\n",
       "    </tr>\n",
       "    <tr>\n",
       "      <th>3</th>\n",
       "      <td>0.793914</td>\n",
       "      <td>0.476111</td>\n",
       "      <td>0.802215</td>\n",
       "      <td>0.487124</td>\n",
       "      <td>0.011014</td>\n",
       "      <td>0.008301</td>\n",
       "    </tr>\n",
       "    <tr>\n",
       "      <th>2</th>\n",
       "      <td>0.789567</td>\n",
       "      <td>0.492521</td>\n",
       "      <td>0.787975</td>\n",
       "      <td>0.481350</td>\n",
       "      <td>0.011170</td>\n",
       "      <td>0.001593</td>\n",
       "    </tr>\n",
       "    <tr>\n",
       "      <th>1</th>\n",
       "      <td>0.776526</td>\n",
       "      <td>0.511126</td>\n",
       "      <td>0.787975</td>\n",
       "      <td>0.499676</td>\n",
       "      <td>0.011450</td>\n",
       "      <td>0.011448</td>\n",
       "    </tr>\n",
       "    <tr>\n",
       "      <th>6</th>\n",
       "      <td>0.802411</td>\n",
       "      <td>0.451175</td>\n",
       "      <td>0.802215</td>\n",
       "      <td>0.465922</td>\n",
       "      <td>0.014747</td>\n",
       "      <td>0.000195</td>\n",
       "    </tr>\n",
       "    <tr>\n",
       "      <th>9</th>\n",
       "      <td>0.812290</td>\n",
       "      <td>0.435700</td>\n",
       "      <td>0.805380</td>\n",
       "      <td>0.463736</td>\n",
       "      <td>0.028036</td>\n",
       "      <td>0.006910</td>\n",
       "    </tr>\n",
       "    <tr>\n",
       "      <th>11</th>\n",
       "      <td>0.816044</td>\n",
       "      <td>0.428678</td>\n",
       "      <td>0.808544</td>\n",
       "      <td>0.458489</td>\n",
       "      <td>0.029810</td>\n",
       "      <td>0.007500</td>\n",
       "    </tr>\n",
       "    <tr>\n",
       "      <th>7</th>\n",
       "      <td>0.808338</td>\n",
       "      <td>0.440504</td>\n",
       "      <td>0.795886</td>\n",
       "      <td>0.471101</td>\n",
       "      <td>0.030597</td>\n",
       "      <td>0.012452</td>\n",
       "    </tr>\n",
       "    <tr>\n",
       "      <th>8</th>\n",
       "      <td>0.810709</td>\n",
       "      <td>0.441132</td>\n",
       "      <td>0.799051</td>\n",
       "      <td>0.472409</td>\n",
       "      <td>0.031277</td>\n",
       "      <td>0.011659</td>\n",
       "    </tr>\n",
       "  </tbody>\n",
       "</table>\n",
       "</div>"
      ],
      "text/plain": [
       "         acc      loss   val_acc  val_loss  diff_loss  diff_acc\n",
       "4   0.795693  0.467054  0.799051  0.472159   0.005105  0.003358\n",
       "5   0.798854  0.462236  0.799051  0.469752   0.007516  0.000197\n",
       "3   0.793914  0.476111  0.802215  0.487124   0.011014  0.008301\n",
       "2   0.789567  0.492521  0.787975  0.481350   0.011170  0.001593\n",
       "1   0.776526  0.511126  0.787975  0.499676   0.011450  0.011448\n",
       "6   0.802411  0.451175  0.802215  0.465922   0.014747  0.000195\n",
       "9   0.812290  0.435700  0.805380  0.463736   0.028036  0.006910\n",
       "11  0.816044  0.428678  0.808544  0.458489   0.029810  0.007500\n",
       "7   0.808338  0.440504  0.795886  0.471101   0.030597  0.012452\n",
       "8   0.810709  0.441132  0.799051  0.472409   0.031277  0.011659"
      ]
     },
     "execution_count": 14,
     "metadata": {},
     "output_type": "execute_result"
    }
   ],
   "source": [
    "df_vgg16.sort_values(['diff_loss','diff_acc']).head(10)"
   ]
  },
  {
   "cell_type": "code",
   "execution_count": 15,
   "metadata": {
    "ExecuteTime": {
     "end_time": "2019-11-14T15:39:31.159471Z",
     "start_time": "2019-11-14T15:39:30.849717Z"
    }
   },
   "outputs": [
    {
     "data": {
      "image/png": "[encoded data removed]",
      "text/plain": [
       "<Figure size 432x288 with 1 Axes>"
      ]
     },
     "metadata": {
      "needs_background": "light"
     },
     "output_type": "display_data"
    },
    {
     "data": {
      "image/png": "[encoded data removed]",
      "text/plain": [
       "<Figure size 432x288 with 1 Axes>"
      ]
     },
     "metadata": {
      "needs_background": "light"
     },
     "output_type": "display_data"
    }
   ],
   "source": [
    "import matplotlib.pyplot as plt\n",
    "\n",
    "acc = df_vgg16['acc']\n",
    "val_acc = df_vgg16['val_acc']\n",
    "loss = df_vgg16['loss']\n",
    "val_loss = df_vgg16['val_loss']\n",
    "\n",
    "epochs = range(len(acc))\n",
    "\n",
    "plt.plot(epochs, acc, 'r', label='Training acc')\n",
    "plt.plot(epochs, val_acc, 'b', label='Validation acc')\n",
    "plt.title('Training and validation accuracy')\n",
    "plt.legend()\n",
    "\n",
    "plt.figure()\n",
    "\n",
    "plt.plot(epochs, loss, 'r', label='Training loss')\n",
    "plt.plot(epochs, val_loss, 'b', label='Validation loss')\n",
    "plt.title('Training and validation loss')\n",
    "plt.legend()\n",
    "\n",
    "plt.show()"
   ]
  },
  {
   "cell_type": "markdown",
   "metadata": {},
   "source": [
    "The **highest accuracy** is:\n",
    "\n",
    "**training : 84.31%**\n",
    "\n",
    "**validation: 81.64%**\n",
    "\n",
    "However, the difference in loss indicates overfitting at this point (epoch 29).\n",
    "\n",
    "The **lowest difference in loss** (training and validation) occurs in epoch 5 and the accuracy there is:\n",
    "\n",
    "**training : 79.57%**\n",
    "\n",
    "**validation: 79.91%**\n"
   ]
  },
  {
   "cell_type": "markdown",
   "metadata": {
    "ExecuteTime": {
     "end_time": "2019-11-12T17:32:19.396290Z",
     "start_time": "2019-11-12T17:32:18.310931Z"
    }
   },
   "source": [
    "### VGG16 with data augmentation"
   ]
  },
  {
   "cell_type": "code",
   "execution_count": 16,
   "metadata": {
    "ExecuteTime": {
     "end_time": "2019-11-14T15:39:34.124081Z",
     "start_time": "2019-11-14T15:39:34.108123Z"
    }
   },
   "outputs": [
    {
     "data": {
      "text/html": [
       "<div>\n",
       "<style scoped>\n",
       "    .dataframe tbody tr th:only-of-type {\n",
       "        vertical-align: middle;\n",
       "    }\n",
       "\n",
       "    .dataframe tbody tr th {\n",
       "        vertical-align: top;\n",
       "    }\n",
       "\n",
       "    .dataframe thead th {\n",
       "        text-align: right;\n",
       "    }\n",
       "</style>\n",
       "<table border=\"1\" class=\"dataframe\">\n",
       "  <thead>\n",
       "    <tr style=\"text-align: right;\">\n",
       "      <th></th>\n",
       "      <th>acc</th>\n",
       "      <th>loss</th>\n",
       "      <th>val_acc</th>\n",
       "      <th>val_loss</th>\n",
       "    </tr>\n",
       "  </thead>\n",
       "  <tbody>\n",
       "    <tr>\n",
       "      <th>0</th>\n",
       "      <td>0.758000</td>\n",
       "      <td>0.538538</td>\n",
       "      <td>0.761089</td>\n",
       "      <td>0.531609</td>\n",
       "    </tr>\n",
       "    <tr>\n",
       "      <th>1</th>\n",
       "      <td>0.773347</td>\n",
       "      <td>0.506571</td>\n",
       "      <td>0.775202</td>\n",
       "      <td>0.532534</td>\n",
       "    </tr>\n",
       "    <tr>\n",
       "      <th>2</th>\n",
       "      <td>0.768000</td>\n",
       "      <td>0.523513</td>\n",
       "      <td>0.793347</td>\n",
       "      <td>0.491631</td>\n",
       "    </tr>\n",
       "    <tr>\n",
       "      <th>3</th>\n",
       "      <td>0.785500</td>\n",
       "      <td>0.501313</td>\n",
       "      <td>0.781250</td>\n",
       "      <td>0.526724</td>\n",
       "    </tr>\n",
       "    <tr>\n",
       "      <th>4</th>\n",
       "      <td>0.785967</td>\n",
       "      <td>0.491938</td>\n",
       "      <td>0.783266</td>\n",
       "      <td>0.544230</td>\n",
       "    </tr>\n",
       "  </tbody>\n",
       "</table>\n",
       "</div>"
      ],
      "text/plain": [
       "        acc      loss   val_acc  val_loss\n",
       "0  0.758000  0.538538  0.761089  0.531609\n",
       "1  0.773347  0.506571  0.775202  0.532534\n",
       "2  0.768000  0.523513  0.793347  0.491631\n",
       "3  0.785500  0.501313  0.781250  0.526724\n",
       "4  0.785967  0.491938  0.783266  0.544230"
      ]
     },
     "execution_count": 16,
     "metadata": {},
     "output_type": "execute_result"
    }
   ],
   "source": [
    "df_vgg16_da = pd.read_csv(\"../models/VGG_model_omdena_history_data_augmentation_v051119.csv\")\n",
    "df_vgg16_da.head()"
   ]
  },
  {
   "cell_type": "code",
   "execution_count": 17,
   "metadata": {
    "ExecuteTime": {
     "end_time": "2019-11-14T15:39:34.969055Z",
     "start_time": "2019-11-14T15:39:34.961075Z"
    }
   },
   "outputs": [],
   "source": [
    "df_vgg16_da['diff_loss'] = abs(df_vgg16_da['loss']-df_vgg16_da['val_loss'])\n",
    "df_vgg16_da['diff_acc'] = abs(df_vgg16_da['acc']-df_vgg16_da['val_acc'])\n",
    "\n",
    "df_vgg16_da = df_vgg16_da[['acc', 'loss', 'val_acc', 'val_loss', 'diff_loss', 'diff_acc']]"
   ]
  },
  {
   "cell_type": "code",
   "execution_count": 18,
   "metadata": {
    "ExecuteTime": {
     "end_time": "2019-11-14T15:39:35.760065Z",
     "start_time": "2019-11-14T15:39:35.749097Z"
    }
   },
   "outputs": [
    {
     "data": {
      "text/html": [
       "<div>\n",
       "<style scoped>\n",
       "    .dataframe tbody tr th:only-of-type {\n",
       "        vertical-align: middle;\n",
       "    }\n",
       "\n",
       "    .dataframe tbody tr th {\n",
       "        vertical-align: top;\n",
       "    }\n",
       "\n",
       "    .dataframe thead th {\n",
       "        text-align: right;\n",
       "    }\n",
       "</style>\n",
       "<table border=\"1\" class=\"dataframe\">\n",
       "  <thead>\n",
       "    <tr style=\"text-align: right;\">\n",
       "      <th></th>\n",
       "      <th>acc</th>\n",
       "      <th>loss</th>\n",
       "      <th>val_acc</th>\n",
       "      <th>val_loss</th>\n",
       "      <th>diff_loss</th>\n",
       "      <th>diff_acc</th>\n",
       "    </tr>\n",
       "  </thead>\n",
       "  <tbody>\n",
       "    <tr>\n",
       "      <th>24</th>\n",
       "      <td>0.813500</td>\n",
       "      <td>0.446449</td>\n",
       "      <td>0.791331</td>\n",
       "      <td>0.523835</td>\n",
       "      <td>0.077386</td>\n",
       "      <td>0.022169</td>\n",
       "    </tr>\n",
       "    <tr>\n",
       "      <th>19</th>\n",
       "      <td>0.806000</td>\n",
       "      <td>0.448555</td>\n",
       "      <td>0.798387</td>\n",
       "      <td>0.501718</td>\n",
       "      <td>0.053163</td>\n",
       "      <td>0.007613</td>\n",
       "    </tr>\n",
       "    <tr>\n",
       "      <th>10</th>\n",
       "      <td>0.802120</td>\n",
       "      <td>0.475080</td>\n",
       "      <td>0.776210</td>\n",
       "      <td>0.511517</td>\n",
       "      <td>0.036438</td>\n",
       "      <td>0.025910</td>\n",
       "    </tr>\n",
       "    <tr>\n",
       "      <th>17</th>\n",
       "      <td>0.801111</td>\n",
       "      <td>0.460873</td>\n",
       "      <td>0.804435</td>\n",
       "      <td>0.477410</td>\n",
       "      <td>0.016537</td>\n",
       "      <td>0.003325</td>\n",
       "    </tr>\n",
       "    <tr>\n",
       "      <th>27</th>\n",
       "      <td>0.801000</td>\n",
       "      <td>0.463808</td>\n",
       "      <td>0.791331</td>\n",
       "      <td>0.507250</td>\n",
       "      <td>0.043442</td>\n",
       "      <td>0.009669</td>\n",
       "    </tr>\n",
       "    <tr>\n",
       "      <th>14</th>\n",
       "      <td>0.800500</td>\n",
       "      <td>0.481715</td>\n",
       "      <td>0.786290</td>\n",
       "      <td>0.498325</td>\n",
       "      <td>0.016610</td>\n",
       "      <td>0.014210</td>\n",
       "    </tr>\n",
       "    <tr>\n",
       "      <th>26</th>\n",
       "      <td>0.798082</td>\n",
       "      <td>0.468143</td>\n",
       "      <td>0.818548</td>\n",
       "      <td>0.453310</td>\n",
       "      <td>0.014833</td>\n",
       "      <td>0.020467</td>\n",
       "    </tr>\n",
       "    <tr>\n",
       "      <th>28</th>\n",
       "      <td>0.797577</td>\n",
       "      <td>0.461506</td>\n",
       "      <td>0.791331</td>\n",
       "      <td>0.511662</td>\n",
       "      <td>0.050157</td>\n",
       "      <td>0.006246</td>\n",
       "    </tr>\n",
       "    <tr>\n",
       "      <th>29</th>\n",
       "      <td>0.797000</td>\n",
       "      <td>0.471457</td>\n",
       "      <td>0.801411</td>\n",
       "      <td>0.504094</td>\n",
       "      <td>0.032638</td>\n",
       "      <td>0.004411</td>\n",
       "    </tr>\n",
       "    <tr>\n",
       "      <th>13</th>\n",
       "      <td>0.796567</td>\n",
       "      <td>0.483620</td>\n",
       "      <td>0.800403</td>\n",
       "      <td>0.473048</td>\n",
       "      <td>0.010572</td>\n",
       "      <td>0.003836</td>\n",
       "    </tr>\n",
       "  </tbody>\n",
       "</table>\n",
       "</div>"
      ],
      "text/plain": [
       "         acc      loss   val_acc  val_loss  diff_loss  diff_acc\n",
       "24  0.813500  0.446449  0.791331  0.523835   0.077386  0.022169\n",
       "19  0.806000  0.448555  0.798387  0.501718   0.053163  0.007613\n",
       "10  0.802120  0.475080  0.776210  0.511517   0.036438  0.025910\n",
       "17  0.801111  0.460873  0.804435  0.477410   0.016537  0.003325\n",
       "27  0.801000  0.463808  0.791331  0.507250   0.043442  0.009669\n",
       "14  0.800500  0.481715  0.786290  0.498325   0.016610  0.014210\n",
       "26  0.798082  0.468143  0.818548  0.453310   0.014833  0.020467\n",
       "28  0.797577  0.461506  0.791331  0.511662   0.050157  0.006246\n",
       "29  0.797000  0.471457  0.801411  0.504094   0.032638  0.004411\n",
       "13  0.796567  0.483620  0.800403  0.473048   0.010572  0.003836"
      ]
     },
     "execution_count": 18,
     "metadata": {},
     "output_type": "execute_result"
    }
   ],
   "source": [
    "df_vgg16_da.sort_values('acc', ascending=False).head(10)"
   ]
  },
  {
   "cell_type": "code",
   "execution_count": 19,
   "metadata": {
    "ExecuteTime": {
     "end_time": "2019-11-14T15:39:36.393638Z",
     "start_time": "2019-11-14T15:39:36.374687Z"
    },
    "scrolled": false
   },
   "outputs": [
    {
     "data": {
      "text/html": [
       "<div>\n",
       "<style scoped>\n",
       "    .dataframe tbody tr th:only-of-type {\n",
       "        vertical-align: middle;\n",
       "    }\n",
       "\n",
       "    .dataframe tbody tr th {\n",
       "        vertical-align: top;\n",
       "    }\n",
       "\n",
       "    .dataframe thead th {\n",
       "        text-align: right;\n",
       "    }\n",
       "</style>\n",
       "<table border=\"1\" class=\"dataframe\">\n",
       "  <thead>\n",
       "    <tr style=\"text-align: right;\">\n",
       "      <th></th>\n",
       "      <th>acc</th>\n",
       "      <th>loss</th>\n",
       "      <th>val_acc</th>\n",
       "      <th>val_loss</th>\n",
       "      <th>diff_loss</th>\n",
       "      <th>diff_acc</th>\n",
       "    </tr>\n",
       "  </thead>\n",
       "  <tbody>\n",
       "    <tr>\n",
       "      <th>9</th>\n",
       "      <td>0.791519</td>\n",
       "      <td>0.481875</td>\n",
       "      <td>0.795363</td>\n",
       "      <td>0.482861</td>\n",
       "      <td>0.000986</td>\n",
       "      <td>0.003843</td>\n",
       "    </tr>\n",
       "    <tr>\n",
       "      <th>7</th>\n",
       "      <td>0.779000</td>\n",
       "      <td>0.503739</td>\n",
       "      <td>0.790323</td>\n",
       "      <td>0.499532</td>\n",
       "      <td>0.004207</td>\n",
       "      <td>0.011323</td>\n",
       "    </tr>\n",
       "    <tr>\n",
       "      <th>0</th>\n",
       "      <td>0.758000</td>\n",
       "      <td>0.538538</td>\n",
       "      <td>0.761089</td>\n",
       "      <td>0.531609</td>\n",
       "      <td>0.006929</td>\n",
       "      <td>0.003089</td>\n",
       "    </tr>\n",
       "    <tr>\n",
       "      <th>23</th>\n",
       "      <td>0.787481</td>\n",
       "      <td>0.475131</td>\n",
       "      <td>0.794355</td>\n",
       "      <td>0.482494</td>\n",
       "      <td>0.007363</td>\n",
       "      <td>0.006874</td>\n",
       "    </tr>\n",
       "    <tr>\n",
       "      <th>8</th>\n",
       "      <td>0.782500</td>\n",
       "      <td>0.498519</td>\n",
       "      <td>0.790323</td>\n",
       "      <td>0.488669</td>\n",
       "      <td>0.009850</td>\n",
       "      <td>0.007823</td>\n",
       "    </tr>\n",
       "    <tr>\n",
       "      <th>21</th>\n",
       "      <td>0.791000</td>\n",
       "      <td>0.478584</td>\n",
       "      <td>0.791331</td>\n",
       "      <td>0.488737</td>\n",
       "      <td>0.010152</td>\n",
       "      <td>0.000331</td>\n",
       "    </tr>\n",
       "    <tr>\n",
       "      <th>13</th>\n",
       "      <td>0.796567</td>\n",
       "      <td>0.483620</td>\n",
       "      <td>0.800403</td>\n",
       "      <td>0.473048</td>\n",
       "      <td>0.010572</td>\n",
       "      <td>0.003836</td>\n",
       "    </tr>\n",
       "    <tr>\n",
       "      <th>11</th>\n",
       "      <td>0.787000</td>\n",
       "      <td>0.489694</td>\n",
       "      <td>0.799395</td>\n",
       "      <td>0.478939</td>\n",
       "      <td>0.010754</td>\n",
       "      <td>0.012395</td>\n",
       "    </tr>\n",
       "    <tr>\n",
       "      <th>16</th>\n",
       "      <td>0.787000</td>\n",
       "      <td>0.476236</td>\n",
       "      <td>0.796371</td>\n",
       "      <td>0.489937</td>\n",
       "      <td>0.013701</td>\n",
       "      <td>0.009371</td>\n",
       "    </tr>\n",
       "    <tr>\n",
       "      <th>20</th>\n",
       "      <td>0.791519</td>\n",
       "      <td>0.470731</td>\n",
       "      <td>0.796371</td>\n",
       "      <td>0.484464</td>\n",
       "      <td>0.013733</td>\n",
       "      <td>0.004852</td>\n",
       "    </tr>\n",
       "  </tbody>\n",
       "</table>\n",
       "</div>"
      ],
      "text/plain": [
       "         acc      loss   val_acc  val_loss  diff_loss  diff_acc\n",
       "9   0.791519  0.481875  0.795363  0.482861   0.000986  0.003843\n",
       "7   0.779000  0.503739  0.790323  0.499532   0.004207  0.011323\n",
       "0   0.758000  0.538538  0.761089  0.531609   0.006929  0.003089\n",
       "23  0.787481  0.475131  0.794355  0.482494   0.007363  0.006874\n",
       "8   0.782500  0.498519  0.790323  0.488669   0.009850  0.007823\n",
       "21  0.791000  0.478584  0.791331  0.488737   0.010152  0.000331\n",
       "13  0.796567  0.483620  0.800403  0.473048   0.010572  0.003836\n",
       "11  0.787000  0.489694  0.799395  0.478939   0.010754  0.012395\n",
       "16  0.787000  0.476236  0.796371  0.489937   0.013701  0.009371\n",
       "20  0.791519  0.470731  0.796371  0.484464   0.013733  0.004852"
      ]
     },
     "execution_count": 19,
     "metadata": {},
     "output_type": "execute_result"
    }
   ],
   "source": [
    "df_vgg16_da.sort_values(['diff_loss','diff_acc']).head(10)"
   ]
  },
  {
   "cell_type": "code",
   "execution_count": 20,
   "metadata": {
    "ExecuteTime": {
     "end_time": "2019-11-14T15:39:37.428361Z",
     "start_time": "2019-11-14T15:39:37.115756Z"
    }
   },
   "outputs": [
    {
     "data": {
      "image/png": "[encoded data removed]",
      "text/plain": [
       "<Figure size 432x288 with 1 Axes>"
      ]
     },
     "metadata": {
      "needs_background": "light"
     },
     "output_type": "display_data"
    },
    {
     "data": {
      "image/png": "[encoded data removed]",
      "text/plain": [
       "<Figure size 432x288 with 1 Axes>"
      ]
     },
     "metadata": {
      "needs_background": "light"
     },
     "output_type": "display_data"
    }
   ],
   "source": [
    "import matplotlib.pyplot as plt\n",
    "\n",
    "acc = df_vgg16_da['acc']\n",
    "val_acc = df_vgg16_da['val_acc']\n",
    "loss = df_vgg16_da['loss']\n",
    "val_loss = df_vgg16_da['val_loss']\n",
    "\n",
    "epochs = range(len(acc))\n",
    "\n",
    "plt.plot(epochs, acc, 'r', label='Training acc')\n",
    "plt.plot(epochs, val_acc, 'b', label='Validation acc')\n",
    "plt.title('Training and validation accuracy')\n",
    "plt.legend()\n",
    "\n",
    "plt.figure()\n",
    "\n",
    "plt.plot(epochs, loss, 'r', label='Training loss')\n",
    "plt.plot(epochs, val_loss, 'b', label='Validation loss')\n",
    "plt.title('Training and validation loss')\n",
    "plt.legend()\n",
    "\n",
    "plt.show()"
   ]
  },
  {
   "cell_type": "markdown",
   "metadata": {},
   "source": [
    "Because the curves above are too noisy we apply the following function to have a smoother version of them."
   ]
  },
  {
   "cell_type": "code",
   "execution_count": 21,
   "metadata": {
    "ExecuteTime": {
     "end_time": "2019-11-14T15:39:49.125080Z",
     "start_time": "2019-11-14T15:39:48.814097Z"
    }
   },
   "outputs": [
    {
     "data": {
      "image/png": "[encoded data removed]",
      "text/plain": [
       "<Figure size 432x288 with 1 Axes>"
      ]
     },
     "metadata": {
      "needs_background": "light"
     },
     "output_type": "display_data"
    },
    {
     "data": {
      "image/png": "[encoded data removed]",
      "text/plain": [
       "<Figure size 432x288 with 1 Axes>"
      ]
     },
     "metadata": {
      "needs_background": "light"
     },
     "output_type": "display_data"
    }
   ],
   "source": [
    "plt.plot(epochs,\n",
    "         smooth_curve(acc), 'r', label='Smoothed training acc')\n",
    "plt.plot(epochs,\n",
    "         smooth_curve(val_acc), 'b', label='Smoothed validation acc')\n",
    "plt.title('Training and validation accuracy')\n",
    "plt.legend()\n",
    "\n",
    "plt.figure()\n",
    "\n",
    "plt.plot(epochs,\n",
    "         smooth_curve(loss), 'r', label='Smoothed training loss')\n",
    "plt.plot(epochs,\n",
    "         smooth_curve(val_loss), 'b', label='Smoothed validation loss')\n",
    "plt.title('Training and validation loss')\n",
    "plt.legend()\n",
    "\n",
    "plt.show()"
   ]
  },
  {
   "cell_type": "markdown",
   "metadata": {},
   "source": [
    "The **highest accuracy** is:\n",
    "\n",
    "**training : 81.35%**\n",
    "\n",
    "**validation: 79.13%**\n",
    "\n",
    "However, the difference in loss indicates overfitting at this point (epoch 25).\n",
    "\n",
    "The **lowest difference in loss** (training and validation) occurs in epoch 10 and the accuracy there is:\n",
    "\n",
    "**training : 79.15%**\n",
    "\n",
    "**validation: 79.54%**\n"
   ]
  },
  {
   "cell_type": "markdown",
   "metadata": {},
   "source": [
    "### VGG16 with data augmentation and class_weigth = 'auto'"
   ]
  },
  {
   "cell_type": "code",
   "execution_count": 22,
   "metadata": {
    "ExecuteTime": {
     "end_time": "2019-11-14T15:39:51.571972Z",
     "start_time": "2019-11-14T15:39:51.558008Z"
    },
    "scrolled": true
   },
   "outputs": [
    {
     "data": {
      "text/html": [
       "<div>\n",
       "<style scoped>\n",
       "    .dataframe tbody tr th:only-of-type {\n",
       "        vertical-align: middle;\n",
       "    }\n",
       "\n",
       "    .dataframe tbody tr th {\n",
       "        vertical-align: top;\n",
       "    }\n",
       "\n",
       "    .dataframe thead th {\n",
       "        text-align: right;\n",
       "    }\n",
       "</style>\n",
       "<table border=\"1\" class=\"dataframe\">\n",
       "  <thead>\n",
       "    <tr style=\"text-align: right;\">\n",
       "      <th></th>\n",
       "      <th>acc</th>\n",
       "      <th>loss</th>\n",
       "      <th>val_acc</th>\n",
       "      <th>val_loss</th>\n",
       "    </tr>\n",
       "  </thead>\n",
       "  <tbody>\n",
       "    <tr>\n",
       "      <th>0</th>\n",
       "      <td>0.790510</td>\n",
       "      <td>0.481865</td>\n",
       "      <td>0.802419</td>\n",
       "      <td>0.466160</td>\n",
       "    </tr>\n",
       "    <tr>\n",
       "      <th>1</th>\n",
       "      <td>0.796500</td>\n",
       "      <td>0.459376</td>\n",
       "      <td>0.806452</td>\n",
       "      <td>0.467231</td>\n",
       "    </tr>\n",
       "    <tr>\n",
       "      <th>2</th>\n",
       "      <td>0.792529</td>\n",
       "      <td>0.472144</td>\n",
       "      <td>0.813508</td>\n",
       "      <td>0.460334</td>\n",
       "    </tr>\n",
       "    <tr>\n",
       "      <th>3</th>\n",
       "      <td>0.814500</td>\n",
       "      <td>0.447182</td>\n",
       "      <td>0.798387</td>\n",
       "      <td>0.458990</td>\n",
       "    </tr>\n",
       "    <tr>\n",
       "      <th>4</th>\n",
       "      <td>0.796000</td>\n",
       "      <td>0.464272</td>\n",
       "      <td>0.802419</td>\n",
       "      <td>0.474168</td>\n",
       "    </tr>\n",
       "  </tbody>\n",
       "</table>\n",
       "</div>"
      ],
      "text/plain": [
       "        acc      loss   val_acc  val_loss\n",
       "0  0.790510  0.481865  0.802419  0.466160\n",
       "1  0.796500  0.459376  0.806452  0.467231\n",
       "2  0.792529  0.472144  0.813508  0.460334\n",
       "3  0.814500  0.447182  0.798387  0.458990\n",
       "4  0.796000  0.464272  0.802419  0.474168"
      ]
     },
     "execution_count": 22,
     "metadata": {},
     "output_type": "execute_result"
    }
   ],
   "source": [
    "df_vgg16_daw = pd.read_csv(\"../models/VGG_model_omdena_history_data_augmentation_weight_auto_v051119.csv\")\n",
    "df_vgg16_daw.head()"
   ]
  },
  {
   "cell_type": "code",
   "execution_count": 23,
   "metadata": {
    "ExecuteTime": {
     "end_time": "2019-11-14T15:39:52.180098Z",
     "start_time": "2019-11-14T15:39:52.172546Z"
    }
   },
   "outputs": [],
   "source": [
    "df_vgg16_daw['diff_loss'] = abs(df_vgg16_daw['loss']-df_vgg16_daw['val_loss'])\n",
    "df_vgg16_daw['diff_acc'] = abs(df_vgg16_daw['acc']-df_vgg16_daw['val_acc'])\n",
    "\n",
    "df_vgg16_daw = df_vgg16_daw[['acc', 'loss', 'val_acc', 'val_loss', 'diff_loss', 'diff_acc']]"
   ]
  },
  {
   "cell_type": "code",
   "execution_count": 24,
   "metadata": {
    "ExecuteTime": {
     "end_time": "2019-11-14T15:39:52.772903Z",
     "start_time": "2019-11-14T15:39:52.758944Z"
    }
   },
   "outputs": [
    {
     "data": {
      "text/html": [
       "<div>\n",
       "<style scoped>\n",
       "    .dataframe tbody tr th:only-of-type {\n",
       "        vertical-align: middle;\n",
       "    }\n",
       "\n",
       "    .dataframe tbody tr th {\n",
       "        vertical-align: top;\n",
       "    }\n",
       "\n",
       "    .dataframe thead th {\n",
       "        text-align: right;\n",
       "    }\n",
       "</style>\n",
       "<table border=\"1\" class=\"dataframe\">\n",
       "  <thead>\n",
       "    <tr style=\"text-align: right;\">\n",
       "      <th></th>\n",
       "      <th>acc</th>\n",
       "      <th>loss</th>\n",
       "      <th>val_acc</th>\n",
       "      <th>val_loss</th>\n",
       "      <th>diff_loss</th>\n",
       "      <th>diff_acc</th>\n",
       "    </tr>\n",
       "  </thead>\n",
       "  <tbody>\n",
       "    <tr>\n",
       "      <th>17</th>\n",
       "      <td>0.815500</td>\n",
       "      <td>0.446267</td>\n",
       "      <td>0.796371</td>\n",
       "      <td>0.494441</td>\n",
       "      <td>0.048174</td>\n",
       "      <td>0.019129</td>\n",
       "    </tr>\n",
       "    <tr>\n",
       "      <th>3</th>\n",
       "      <td>0.814500</td>\n",
       "      <td>0.447182</td>\n",
       "      <td>0.798387</td>\n",
       "      <td>0.458990</td>\n",
       "      <td>0.011808</td>\n",
       "      <td>0.016113</td>\n",
       "    </tr>\n",
       "    <tr>\n",
       "      <th>27</th>\n",
       "      <td>0.814500</td>\n",
       "      <td>0.433897</td>\n",
       "      <td>0.807460</td>\n",
       "      <td>0.465677</td>\n",
       "      <td>0.031780</td>\n",
       "      <td>0.007040</td>\n",
       "    </tr>\n",
       "    <tr>\n",
       "      <th>29</th>\n",
       "      <td>0.812721</td>\n",
       "      <td>0.436174</td>\n",
       "      <td>0.798387</td>\n",
       "      <td>0.476073</td>\n",
       "      <td>0.039899</td>\n",
       "      <td>0.014334</td>\n",
       "    </tr>\n",
       "    <tr>\n",
       "      <th>21</th>\n",
       "      <td>0.811500</td>\n",
       "      <td>0.449948</td>\n",
       "      <td>0.801411</td>\n",
       "      <td>0.464111</td>\n",
       "      <td>0.014163</td>\n",
       "      <td>0.010089</td>\n",
       "    </tr>\n",
       "    <tr>\n",
       "      <th>7</th>\n",
       "      <td>0.809187</td>\n",
       "      <td>0.460644</td>\n",
       "      <td>0.805444</td>\n",
       "      <td>0.451458</td>\n",
       "      <td>0.009186</td>\n",
       "      <td>0.003744</td>\n",
       "    </tr>\n",
       "    <tr>\n",
       "      <th>19</th>\n",
       "      <td>0.809000</td>\n",
       "      <td>0.454799</td>\n",
       "      <td>0.812500</td>\n",
       "      <td>0.460157</td>\n",
       "      <td>0.005358</td>\n",
       "      <td>0.003500</td>\n",
       "    </tr>\n",
       "    <tr>\n",
       "      <th>14</th>\n",
       "      <td>0.808682</td>\n",
       "      <td>0.443977</td>\n",
       "      <td>0.793347</td>\n",
       "      <td>0.505935</td>\n",
       "      <td>0.061958</td>\n",
       "      <td>0.015336</td>\n",
       "    </tr>\n",
       "    <tr>\n",
       "      <th>11</th>\n",
       "      <td>0.805500</td>\n",
       "      <td>0.458955</td>\n",
       "      <td>0.802419</td>\n",
       "      <td>0.474511</td>\n",
       "      <td>0.015556</td>\n",
       "      <td>0.003081</td>\n",
       "    </tr>\n",
       "    <tr>\n",
       "      <th>16</th>\n",
       "      <td>0.803130</td>\n",
       "      <td>0.461182</td>\n",
       "      <td>0.797379</td>\n",
       "      <td>0.479403</td>\n",
       "      <td>0.018221</td>\n",
       "      <td>0.005751</td>\n",
       "    </tr>\n",
       "  </tbody>\n",
       "</table>\n",
       "</div>"
      ],
      "text/plain": [
       "         acc      loss   val_acc  val_loss  diff_loss  diff_acc\n",
       "17  0.815500  0.446267  0.796371  0.494441   0.048174  0.019129\n",
       "3   0.814500  0.447182  0.798387  0.458990   0.011808  0.016113\n",
       "27  0.814500  0.433897  0.807460  0.465677   0.031780  0.007040\n",
       "29  0.812721  0.436174  0.798387  0.476073   0.039899  0.014334\n",
       "21  0.811500  0.449948  0.801411  0.464111   0.014163  0.010089\n",
       "7   0.809187  0.460644  0.805444  0.451458   0.009186  0.003744\n",
       "19  0.809000  0.454799  0.812500  0.460157   0.005358  0.003500\n",
       "14  0.808682  0.443977  0.793347  0.505935   0.061958  0.015336\n",
       "11  0.805500  0.458955  0.802419  0.474511   0.015556  0.003081\n",
       "16  0.803130  0.461182  0.797379  0.479403   0.018221  0.005751"
      ]
     },
     "execution_count": 24,
     "metadata": {},
     "output_type": "execute_result"
    }
   ],
   "source": [
    "df_vgg16_daw.sort_values('acc', ascending=False).head(10)"
   ]
  },
  {
   "cell_type": "code",
   "execution_count": 25,
   "metadata": {
    "ExecuteTime": {
     "end_time": "2019-11-14T15:39:53.282540Z",
     "start_time": "2019-11-14T15:39:53.263595Z"
    },
    "scrolled": false
   },
   "outputs": [
    {
     "data": {
      "text/html": [
       "<div>\n",
       "<style scoped>\n",
       "    .dataframe tbody tr th:only-of-type {\n",
       "        vertical-align: middle;\n",
       "    }\n",
       "\n",
       "    .dataframe tbody tr th {\n",
       "        vertical-align: top;\n",
       "    }\n",
       "\n",
       "    .dataframe thead th {\n",
       "        text-align: right;\n",
       "    }\n",
       "</style>\n",
       "<table border=\"1\" class=\"dataframe\">\n",
       "  <thead>\n",
       "    <tr style=\"text-align: right;\">\n",
       "      <th></th>\n",
       "      <th>acc</th>\n",
       "      <th>loss</th>\n",
       "      <th>val_acc</th>\n",
       "      <th>val_loss</th>\n",
       "      <th>diff_loss</th>\n",
       "      <th>diff_acc</th>\n",
       "    </tr>\n",
       "  </thead>\n",
       "  <tbody>\n",
       "    <tr>\n",
       "      <th>5</th>\n",
       "      <td>0.796063</td>\n",
       "      <td>0.461108</td>\n",
       "      <td>0.810484</td>\n",
       "      <td>0.460350</td>\n",
       "      <td>0.000758</td>\n",
       "      <td>0.014421</td>\n",
       "    </tr>\n",
       "    <tr>\n",
       "      <th>28</th>\n",
       "      <td>0.802500</td>\n",
       "      <td>0.456206</td>\n",
       "      <td>0.806452</td>\n",
       "      <td>0.457127</td>\n",
       "      <td>0.000921</td>\n",
       "      <td>0.003952</td>\n",
       "    </tr>\n",
       "    <tr>\n",
       "      <th>15</th>\n",
       "      <td>0.798000</td>\n",
       "      <td>0.460429</td>\n",
       "      <td>0.803427</td>\n",
       "      <td>0.458909</td>\n",
       "      <td>0.001520</td>\n",
       "      <td>0.005427</td>\n",
       "    </tr>\n",
       "    <tr>\n",
       "      <th>9</th>\n",
       "      <td>0.793000</td>\n",
       "      <td>0.468536</td>\n",
       "      <td>0.795363</td>\n",
       "      <td>0.465872</td>\n",
       "      <td>0.002664</td>\n",
       "      <td>0.002363</td>\n",
       "    </tr>\n",
       "    <tr>\n",
       "      <th>18</th>\n",
       "      <td>0.793539</td>\n",
       "      <td>0.466809</td>\n",
       "      <td>0.809476</td>\n",
       "      <td>0.462683</td>\n",
       "      <td>0.004126</td>\n",
       "      <td>0.015937</td>\n",
       "    </tr>\n",
       "    <tr>\n",
       "      <th>22</th>\n",
       "      <td>0.800000</td>\n",
       "      <td>0.465968</td>\n",
       "      <td>0.812500</td>\n",
       "      <td>0.461370</td>\n",
       "      <td>0.004598</td>\n",
       "      <td>0.012500</td>\n",
       "    </tr>\n",
       "    <tr>\n",
       "      <th>19</th>\n",
       "      <td>0.809000</td>\n",
       "      <td>0.454799</td>\n",
       "      <td>0.812500</td>\n",
       "      <td>0.460157</td>\n",
       "      <td>0.005358</td>\n",
       "      <td>0.003500</td>\n",
       "    </tr>\n",
       "    <tr>\n",
       "      <th>1</th>\n",
       "      <td>0.796500</td>\n",
       "      <td>0.459376</td>\n",
       "      <td>0.806452</td>\n",
       "      <td>0.467231</td>\n",
       "      <td>0.007855</td>\n",
       "      <td>0.009952</td>\n",
       "    </tr>\n",
       "    <tr>\n",
       "      <th>7</th>\n",
       "      <td>0.809187</td>\n",
       "      <td>0.460644</td>\n",
       "      <td>0.805444</td>\n",
       "      <td>0.451458</td>\n",
       "      <td>0.009186</td>\n",
       "      <td>0.003744</td>\n",
       "    </tr>\n",
       "    <tr>\n",
       "      <th>4</th>\n",
       "      <td>0.796000</td>\n",
       "      <td>0.464272</td>\n",
       "      <td>0.802419</td>\n",
       "      <td>0.474168</td>\n",
       "      <td>0.009895</td>\n",
       "      <td>0.006419</td>\n",
       "    </tr>\n",
       "  </tbody>\n",
       "</table>\n",
       "</div>"
      ],
      "text/plain": [
       "         acc      loss   val_acc  val_loss  diff_loss  diff_acc\n",
       "5   0.796063  0.461108  0.810484  0.460350   0.000758  0.014421\n",
       "28  0.802500  0.456206  0.806452  0.457127   0.000921  0.003952\n",
       "15  0.798000  0.460429  0.803427  0.458909   0.001520  0.005427\n",
       "9   0.793000  0.468536  0.795363  0.465872   0.002664  0.002363\n",
       "18  0.793539  0.466809  0.809476  0.462683   0.004126  0.015937\n",
       "22  0.800000  0.465968  0.812500  0.461370   0.004598  0.012500\n",
       "19  0.809000  0.454799  0.812500  0.460157   0.005358  0.003500\n",
       "1   0.796500  0.459376  0.806452  0.467231   0.007855  0.009952\n",
       "7   0.809187  0.460644  0.805444  0.451458   0.009186  0.003744\n",
       "4   0.796000  0.464272  0.802419  0.474168   0.009895  0.006419"
      ]
     },
     "execution_count": 25,
     "metadata": {},
     "output_type": "execute_result"
    }
   ],
   "source": [
    "df_vgg16_daw.sort_values(['diff_loss','diff_acc']).head(10)"
   ]
  },
  {
   "cell_type": "code",
   "execution_count": 26,
   "metadata": {
    "ExecuteTime": {
     "end_time": "2019-11-14T15:39:54.512862Z",
     "start_time": "2019-11-14T15:39:54.191321Z"
    }
   },
   "outputs": [
    {
     "data": {
      "image/png": "[encoded data removed]",
      "text/plain": [
       "<Figure size 432x288 with 1 Axes>"
      ]
     },
     "metadata": {
      "needs_background": "light"
     },
     "output_type": "display_data"
    },
    {
     "data": {
      "image/png": "[encoded data removed]",
      "text/plain": [
       "<Figure size 432x288 with 1 Axes>"
      ]
     },
     "metadata": {
      "needs_background": "light"
     },
     "output_type": "display_data"
    }
   ],
   "source": [
    "import matplotlib.pyplot as plt\n",
    "\n",
    "acc = df_vgg16_daw['acc']\n",
    "val_acc = df_vgg16_daw['val_acc']\n",
    "loss = df_vgg16_daw['loss']\n",
    "val_loss = df_vgg16_daw['val_loss']\n",
    "\n",
    "epochs = range(len(acc))\n",
    "\n",
    "plt.plot(epochs, acc, 'r', label='Training acc')\n",
    "plt.plot(epochs, val_acc, 'b', label='Validawtion acc')\n",
    "plt.title('Training and validawtion accuracy')\n",
    "plt.legend()\n",
    "\n",
    "plt.figure()\n",
    "\n",
    "plt.plot(epochs, loss, 'r', label='Training loss')\n",
    "plt.plot(epochs, val_loss, 'b', label='Validawtion loss')\n",
    "plt.title('Training and validawtion loss')\n",
    "plt.legend()\n",
    "\n",
    "plt.show()"
   ]
  },
  {
   "cell_type": "markdown",
   "metadata": {},
   "source": [
    "Because the curves above are too noisy we apply the following function to have a smoother version of them."
   ]
  },
  {
   "cell_type": "code",
   "execution_count": 27,
   "metadata": {
    "ExecuteTime": {
     "end_time": "2019-11-14T15:39:57.146587Z",
     "start_time": "2019-11-14T15:39:56.826135Z"
    }
   },
   "outputs": [
    {
     "data": {
      "image/png": "[encoded data removed]",
      "text/plain": [
       "<Figure size 432x288 with 1 Axes>"
      ]
     },
     "metadata": {
      "needs_background": "light"
     },
     "output_type": "display_data"
    },
    {
     "data": {
      "image/png": "[encoded data removed]",
      "text/plain": [
       "<Figure size 432x288 with 1 Axes>"
      ]
     },
     "metadata": {
      "needs_background": "light"
     },
     "output_type": "display_data"
    }
   ],
   "source": [
    "plt.plot(epochs,\n",
    "         smooth_curve(acc), 'r', label='Smoothed training acc')\n",
    "plt.plot(epochs,\n",
    "         smooth_curve(val_acc), 'b', label='Smoothed validation acc')\n",
    "plt.title('Training and validation accuracy')\n",
    "plt.legend()\n",
    "\n",
    "plt.figure()\n",
    "\n",
    "plt.plot(epochs,\n",
    "         smooth_curve(loss), 'r', label='Smoothed training loss')\n",
    "plt.plot(epochs,\n",
    "         smooth_curve(val_loss), 'b', label='Smoothed validation loss')\n",
    "plt.title('Training and validation loss')\n",
    "plt.legend()\n",
    "\n",
    "plt.show()"
   ]
  },
  {
   "cell_type": "markdown",
   "metadata": {},
   "source": [
    "The **highest accuracy** is:\n",
    "\n",
    "**training : 81.55%**\n",
    "\n",
    "**validation: 79.64%**\n",
    "\n",
    "However, the difference in loss indicates overfitting at this point (epoch 18).\n",
    "\n",
    "The **lowest difference in loss** (training and validation) occurs in epoch 6 and the accuracy there is:\n",
    "\n",
    "**training : 79.61%**\n",
    "\n",
    "**validation: 81.05%**\n"
   ]
  },
  {
   "cell_type": "markdown",
   "metadata": {},
   "source": [
    "### VGG16 with data augmentation and class_weigth = 'auto' fine tunned"
   ]
  },
  {
   "cell_type": "code",
   "execution_count": 28,
   "metadata": {
    "ExecuteTime": {
     "end_time": "2019-11-14T15:40:00.109570Z",
     "start_time": "2019-11-14T15:40:00.093613Z"
    }
   },
   "outputs": [
    {
     "data": {
      "text/html": [
       "<div>\n",
       "<style scoped>\n",
       "    .dataframe tbody tr th:only-of-type {\n",
       "        vertical-align: middle;\n",
       "    }\n",
       "\n",
       "    .dataframe tbody tr th {\n",
       "        vertical-align: top;\n",
       "    }\n",
       "\n",
       "    .dataframe thead th {\n",
       "        text-align: right;\n",
       "    }\n",
       "</style>\n",
       "<table border=\"1\" class=\"dataframe\">\n",
       "  <thead>\n",
       "    <tr style=\"text-align: right;\">\n",
       "      <th></th>\n",
       "      <th>acc</th>\n",
       "      <th>loss</th>\n",
       "      <th>val_acc</th>\n",
       "      <th>val_loss</th>\n",
       "    </tr>\n",
       "  </thead>\n",
       "  <tbody>\n",
       "    <tr>\n",
       "      <th>0</th>\n",
       "      <td>0.792000</td>\n",
       "      <td>0.462708</td>\n",
       "      <td>0.803427</td>\n",
       "      <td>0.495595</td>\n",
       "    </tr>\n",
       "    <tr>\n",
       "      <th>1</th>\n",
       "      <td>0.802500</td>\n",
       "      <td>0.462372</td>\n",
       "      <td>0.796371</td>\n",
       "      <td>0.467118</td>\n",
       "    </tr>\n",
       "    <tr>\n",
       "      <th>2</th>\n",
       "      <td>0.807673</td>\n",
       "      <td>0.452909</td>\n",
       "      <td>0.795363</td>\n",
       "      <td>0.456103</td>\n",
       "    </tr>\n",
       "    <tr>\n",
       "      <th>3</th>\n",
       "      <td>0.797000</td>\n",
       "      <td>0.452590</td>\n",
       "      <td>0.803427</td>\n",
       "      <td>0.468155</td>\n",
       "    </tr>\n",
       "    <tr>\n",
       "      <th>4</th>\n",
       "      <td>0.805500</td>\n",
       "      <td>0.451650</td>\n",
       "      <td>0.801411</td>\n",
       "      <td>0.476587</td>\n",
       "    </tr>\n",
       "  </tbody>\n",
       "</table>\n",
       "</div>"
      ],
      "text/plain": [
       "        acc      loss   val_acc  val_loss\n",
       "0  0.792000  0.462708  0.803427  0.495595\n",
       "1  0.802500  0.462372  0.796371  0.467118\n",
       "2  0.807673  0.452909  0.795363  0.456103\n",
       "3  0.797000  0.452590  0.803427  0.468155\n",
       "4  0.805500  0.451650  0.801411  0.476587"
      ]
     },
     "execution_count": 28,
     "metadata": {},
     "output_type": "execute_result"
    }
   ],
   "source": [
    "df_vgg16_daw_ft = pd.read_csv(\"../models/VGG_model_omdena_history_data_augmentation_weight_auto_fine_tunned_v051119.csv\")\n",
    "df_vgg16_daw_ft.head()"
   ]
  },
  {
   "cell_type": "code",
   "execution_count": 29,
   "metadata": {
    "ExecuteTime": {
     "end_time": "2019-11-14T15:40:01.009074Z",
     "start_time": "2019-11-14T15:40:01.001093Z"
    }
   },
   "outputs": [],
   "source": [
    "df_vgg16_daw_ft['diff_loss'] = abs(df_vgg16_daw_ft['loss']-df_vgg16_daw_ft['val_loss'])\n",
    "df_vgg16_daw_ft['diff_acc'] = abs(df_vgg16_daw_ft['acc']-df_vgg16_daw_ft['val_acc'])\n",
    "\n",
    "df_vgg16_daw_ft = df_vgg16_daw_ft[['acc', 'loss', 'val_acc', 'val_loss', 'diff_loss', 'diff_acc']]"
   ]
  },
  {
   "cell_type": "code",
   "execution_count": 30,
   "metadata": {
    "ExecuteTime": {
     "end_time": "2019-11-14T15:40:02.053176Z",
     "start_time": "2019-11-14T15:40:02.040177Z"
    }
   },
   "outputs": [
    {
     "data": {
      "text/html": [
       "<div>\n",
       "<style scoped>\n",
       "    .dataframe tbody tr th:only-of-type {\n",
       "        vertical-align: middle;\n",
       "    }\n",
       "\n",
       "    .dataframe tbody tr th {\n",
       "        vertical-align: top;\n",
       "    }\n",
       "\n",
       "    .dataframe thead th {\n",
       "        text-align: right;\n",
       "    }\n",
       "</style>\n",
       "<table border=\"1\" class=\"dataframe\">\n",
       "  <thead>\n",
       "    <tr style=\"text-align: right;\">\n",
       "      <th></th>\n",
       "      <th>acc</th>\n",
       "      <th>loss</th>\n",
       "      <th>val_acc</th>\n",
       "      <th>val_loss</th>\n",
       "      <th>diff_loss</th>\n",
       "      <th>diff_acc</th>\n",
       "    </tr>\n",
       "  </thead>\n",
       "  <tbody>\n",
       "    <tr>\n",
       "      <th>92</th>\n",
       "      <td>0.868000</td>\n",
       "      <td>0.337364</td>\n",
       "      <td>0.810484</td>\n",
       "      <td>0.641841</td>\n",
       "      <td>0.304477</td>\n",
       "      <td>0.057516</td>\n",
       "    </tr>\n",
       "    <tr>\n",
       "      <th>99</th>\n",
       "      <td>0.867500</td>\n",
       "      <td>0.321456</td>\n",
       "      <td>0.805444</td>\n",
       "      <td>0.740946</td>\n",
       "      <td>0.419490</td>\n",
       "      <td>0.062056</td>\n",
       "    </tr>\n",
       "    <tr>\n",
       "      <th>66</th>\n",
       "      <td>0.865220</td>\n",
       "      <td>0.342242</td>\n",
       "      <td>0.802419</td>\n",
       "      <td>0.720291</td>\n",
       "      <td>0.378049</td>\n",
       "      <td>0.062800</td>\n",
       "    </tr>\n",
       "    <tr>\n",
       "      <th>82</th>\n",
       "      <td>0.864000</td>\n",
       "      <td>0.340526</td>\n",
       "      <td>0.792339</td>\n",
       "      <td>0.633959</td>\n",
       "      <td>0.293433</td>\n",
       "      <td>0.071661</td>\n",
       "    </tr>\n",
       "    <tr>\n",
       "      <th>98</th>\n",
       "      <td>0.863705</td>\n",
       "      <td>0.326950</td>\n",
       "      <td>0.813508</td>\n",
       "      <td>0.800990</td>\n",
       "      <td>0.474040</td>\n",
       "      <td>0.050197</td>\n",
       "    </tr>\n",
       "    <tr>\n",
       "      <th>90</th>\n",
       "      <td>0.862000</td>\n",
       "      <td>0.339977</td>\n",
       "      <td>0.805444</td>\n",
       "      <td>0.582869</td>\n",
       "      <td>0.242892</td>\n",
       "      <td>0.056556</td>\n",
       "    </tr>\n",
       "    <tr>\n",
       "      <th>96</th>\n",
       "      <td>0.861500</td>\n",
       "      <td>0.328727</td>\n",
       "      <td>0.800403</td>\n",
       "      <td>0.625972</td>\n",
       "      <td>0.297245</td>\n",
       "      <td>0.061097</td>\n",
       "    </tr>\n",
       "    <tr>\n",
       "      <th>84</th>\n",
       "      <td>0.861181</td>\n",
       "      <td>0.342575</td>\n",
       "      <td>0.803427</td>\n",
       "      <td>0.504285</td>\n",
       "      <td>0.161710</td>\n",
       "      <td>0.057754</td>\n",
       "    </tr>\n",
       "    <tr>\n",
       "      <th>87</th>\n",
       "      <td>0.860676</td>\n",
       "      <td>0.343396</td>\n",
       "      <td>0.801411</td>\n",
       "      <td>0.560612</td>\n",
       "      <td>0.217215</td>\n",
       "      <td>0.059265</td>\n",
       "    </tr>\n",
       "    <tr>\n",
       "      <th>88</th>\n",
       "      <td>0.860500</td>\n",
       "      <td>0.334420</td>\n",
       "      <td>0.818548</td>\n",
       "      <td>0.589116</td>\n",
       "      <td>0.254696</td>\n",
       "      <td>0.041952</td>\n",
       "    </tr>\n",
       "  </tbody>\n",
       "</table>\n",
       "</div>"
      ],
      "text/plain": [
       "         acc      loss   val_acc  val_loss  diff_loss  diff_acc\n",
       "92  0.868000  0.337364  0.810484  0.641841   0.304477  0.057516\n",
       "99  0.867500  0.321456  0.805444  0.740946   0.419490  0.062056\n",
       "66  0.865220  0.342242  0.802419  0.720291   0.378049  0.062800\n",
       "82  0.864000  0.340526  0.792339  0.633959   0.293433  0.071661\n",
       "98  0.863705  0.326950  0.813508  0.800990   0.474040  0.050197\n",
       "90  0.862000  0.339977  0.805444  0.582869   0.242892  0.056556\n",
       "96  0.861500  0.328727  0.800403  0.625972   0.297245  0.061097\n",
       "84  0.861181  0.342575  0.803427  0.504285   0.161710  0.057754\n",
       "87  0.860676  0.343396  0.801411  0.560612   0.217215  0.059265\n",
       "88  0.860500  0.334420  0.818548  0.589116   0.254696  0.041952"
      ]
     },
     "execution_count": 30,
     "metadata": {},
     "output_type": "execute_result"
    }
   ],
   "source": [
    "df_vgg16_daw_ft.sort_values('acc', ascending=False).head(10)"
   ]
  },
  {
   "cell_type": "code",
   "execution_count": 31,
   "metadata": {
    "ExecuteTime": {
     "end_time": "2019-11-14T15:40:02.821413Z",
     "start_time": "2019-11-14T15:40:02.803458Z"
    },
    "scrolled": false
   },
   "outputs": [
    {
     "data": {
      "text/html": [
       "<div>\n",
       "<style scoped>\n",
       "    .dataframe tbody tr th:only-of-type {\n",
       "        vertical-align: middle;\n",
       "    }\n",
       "\n",
       "    .dataframe tbody tr th {\n",
       "        vertical-align: top;\n",
       "    }\n",
       "\n",
       "    .dataframe thead th {\n",
       "        text-align: right;\n",
       "    }\n",
       "</style>\n",
       "<table border=\"1\" class=\"dataframe\">\n",
       "  <thead>\n",
       "    <tr style=\"text-align: right;\">\n",
       "      <th></th>\n",
       "      <th>acc</th>\n",
       "      <th>loss</th>\n",
       "      <th>val_acc</th>\n",
       "      <th>val_loss</th>\n",
       "      <th>diff_loss</th>\n",
       "      <th>diff_acc</th>\n",
       "    </tr>\n",
       "  </thead>\n",
       "  <tbody>\n",
       "    <tr>\n",
       "      <th>5</th>\n",
       "      <td>0.799694</td>\n",
       "      <td>0.450255</td>\n",
       "      <td>0.803427</td>\n",
       "      <td>0.448255</td>\n",
       "      <td>0.002001</td>\n",
       "      <td>0.003733</td>\n",
       "    </tr>\n",
       "    <tr>\n",
       "      <th>2</th>\n",
       "      <td>0.807673</td>\n",
       "      <td>0.452909</td>\n",
       "      <td>0.795363</td>\n",
       "      <td>0.456103</td>\n",
       "      <td>0.003194</td>\n",
       "      <td>0.012310</td>\n",
       "    </tr>\n",
       "    <tr>\n",
       "      <th>1</th>\n",
       "      <td>0.802500</td>\n",
       "      <td>0.462372</td>\n",
       "      <td>0.796371</td>\n",
       "      <td>0.467118</td>\n",
       "      <td>0.004746</td>\n",
       "      <td>0.006129</td>\n",
       "    </tr>\n",
       "    <tr>\n",
       "      <th>3</th>\n",
       "      <td>0.797000</td>\n",
       "      <td>0.452590</td>\n",
       "      <td>0.803427</td>\n",
       "      <td>0.468155</td>\n",
       "      <td>0.015565</td>\n",
       "      <td>0.006427</td>\n",
       "    </tr>\n",
       "    <tr>\n",
       "      <th>7</th>\n",
       "      <td>0.807500</td>\n",
       "      <td>0.441305</td>\n",
       "      <td>0.805444</td>\n",
       "      <td>0.465705</td>\n",
       "      <td>0.024400</td>\n",
       "      <td>0.002056</td>\n",
       "    </tr>\n",
       "    <tr>\n",
       "      <th>4</th>\n",
       "      <td>0.805500</td>\n",
       "      <td>0.451650</td>\n",
       "      <td>0.801411</td>\n",
       "      <td>0.476587</td>\n",
       "      <td>0.024937</td>\n",
       "      <td>0.004089</td>\n",
       "    </tr>\n",
       "    <tr>\n",
       "      <th>6</th>\n",
       "      <td>0.821500</td>\n",
       "      <td>0.428533</td>\n",
       "      <td>0.789315</td>\n",
       "      <td>0.459960</td>\n",
       "      <td>0.031427</td>\n",
       "      <td>0.032185</td>\n",
       "    </tr>\n",
       "    <tr>\n",
       "      <th>0</th>\n",
       "      <td>0.792000</td>\n",
       "      <td>0.462708</td>\n",
       "      <td>0.803427</td>\n",
       "      <td>0.495595</td>\n",
       "      <td>0.032887</td>\n",
       "      <td>0.011427</td>\n",
       "    </tr>\n",
       "    <tr>\n",
       "      <th>19</th>\n",
       "      <td>0.818500</td>\n",
       "      <td>0.430506</td>\n",
       "      <td>0.798387</td>\n",
       "      <td>0.466657</td>\n",
       "      <td>0.036151</td>\n",
       "      <td>0.020113</td>\n",
       "    </tr>\n",
       "    <tr>\n",
       "      <th>10</th>\n",
       "      <td>0.819788</td>\n",
       "      <td>0.425479</td>\n",
       "      <td>0.809476</td>\n",
       "      <td>0.477075</td>\n",
       "      <td>0.051596</td>\n",
       "      <td>0.010312</td>\n",
       "    </tr>\n",
       "  </tbody>\n",
       "</table>\n",
       "</div>"
      ],
      "text/plain": [
       "         acc      loss   val_acc  val_loss  diff_loss  diff_acc\n",
       "5   0.799694  0.450255  0.803427  0.448255   0.002001  0.003733\n",
       "2   0.807673  0.452909  0.795363  0.456103   0.003194  0.012310\n",
       "1   0.802500  0.462372  0.796371  0.467118   0.004746  0.006129\n",
       "3   0.797000  0.452590  0.803427  0.468155   0.015565  0.006427\n",
       "7   0.807500  0.441305  0.805444  0.465705   0.024400  0.002056\n",
       "4   0.805500  0.451650  0.801411  0.476587   0.024937  0.004089\n",
       "6   0.821500  0.428533  0.789315  0.459960   0.031427  0.032185\n",
       "0   0.792000  0.462708  0.803427  0.495595   0.032887  0.011427\n",
       "19  0.818500  0.430506  0.798387  0.466657   0.036151  0.020113\n",
       "10  0.819788  0.425479  0.809476  0.477075   0.051596  0.010312"
      ]
     },
     "execution_count": 31,
     "metadata": {},
     "output_type": "execute_result"
    }
   ],
   "source": [
    "df_vgg16_daw_ft.sort_values(['diff_loss','diff_acc']).head(10)"
   ]
  },
  {
   "cell_type": "code",
   "execution_count": 32,
   "metadata": {
    "ExecuteTime": {
     "end_time": "2019-11-14T15:40:03.933252Z",
     "start_time": "2019-11-14T15:40:03.634601Z"
    }
   },
   "outputs": [
    {
     "data": {
      "image/png": "[encoded data removed]",
      "text/plain": [
       "<Figure size 432x288 with 1 Axes>"
      ]
     },
     "metadata": {
      "needs_background": "light"
     },
     "output_type": "display_data"
    },
    {
     "data": {
      "image/png": "[encoded data removed]",
      "text/plain": [
       "<Figure size 432x288 with 1 Axes>"
      ]
     },
     "metadata": {
      "needs_background": "light"
     },
     "output_type": "display_data"
    }
   ],
   "source": [
    "import matplotlib.pyplot as plt\n",
    "\n",
    "acc = df_vgg16_daw_ft['acc']\n",
    "val_acc = df_vgg16_daw_ft['val_acc']\n",
    "loss = df_vgg16_daw_ft['loss']\n",
    "val_loss = df_vgg16_daw_ft['val_loss']\n",
    "\n",
    "epochs = range(len(acc))\n",
    "\n",
    "plt.plot(epochs, acc, 'r', label='Training acc')\n",
    "plt.plot(epochs, val_acc, 'b', label='Validaw_fttion acc')\n",
    "plt.title('Training and validaw_fttion accuracy')\n",
    "plt.legend()\n",
    "\n",
    "plt.figure()\n",
    "\n",
    "plt.plot(epochs, loss, 'r', label='Training loss')\n",
    "plt.plot(epochs, val_loss, 'b', label='Validaw_fttion loss')\n",
    "plt.title('Training and validaw_fttion loss')\n",
    "plt.legend()\n",
    "\n",
    "plt.show()"
   ]
  },
  {
   "cell_type": "markdown",
   "metadata": {},
   "source": [
    "Because the curves above are too noisy we apply the following function to have a smoother version of them."
   ]
  },
  {
   "cell_type": "code",
   "execution_count": 33,
   "metadata": {
    "ExecuteTime": {
     "end_time": "2019-11-14T15:40:05.992191Z",
     "start_time": "2019-11-14T15:40:05.652824Z"
    }
   },
   "outputs": [
    {
     "data": {
      "image/png": "[encoded data removed]",
      "text/plain": [
       "<Figure size 432x288 with 1 Axes>"
      ]
     },
     "metadata": {
      "needs_background": "light"
     },
     "output_type": "display_data"
    },
    {
     "data": {
      "image/png": "[encoded data removed]",
      "text/plain": [
       "<Figure size 432x288 with 1 Axes>"
      ]
     },
     "metadata": {
      "needs_background": "light"
     },
     "output_type": "display_data"
    }
   ],
   "source": [
    "plt.plot(epochs,\n",
    "         smooth_curve(acc), 'r', label='Smoothed training acc')\n",
    "plt.plot(epochs,\n",
    "         smooth_curve(val_acc), 'b', label='Smoothed validation acc')\n",
    "plt.title('Training and validation accuracy')\n",
    "plt.legend()\n",
    "\n",
    "plt.figure()\n",
    "\n",
    "plt.plot(epochs,\n",
    "         smooth_curve(loss), 'r', label='Smoothed training loss')\n",
    "plt.plot(epochs,\n",
    "         smooth_curve(val_loss), 'b', label='Smoothed validation loss')\n",
    "plt.title('Training and validation loss')\n",
    "plt.legend()\n",
    "\n",
    "plt.show()"
   ]
  },
  {
   "cell_type": "markdown",
   "metadata": {},
   "source": [
    "The **highest accuracy** is:\n",
    "\n",
    "**training : 86.80%**\n",
    "\n",
    "**validation: 81.05%**\n",
    "\n",
    "However, the difference in loss indicates overfitting at this point (epoch 93).\n",
    "\n",
    "The **lowest difference in loss** (training and validation) occurs in epoch 6 and the accuracy there is:\n",
    "\n",
    "**training : 79.97%**\n",
    "\n",
    "**validation: 80.35%**\n"
   ]
  },
  {
   "cell_type": "code",
   "execution_count": 34,
   "metadata": {
    "ExecuteTime": {
     "end_time": "2019-11-14T15:40:07.634548Z",
     "start_time": "2019-11-14T15:40:07.619587Z"
    },
    "scrolled": false
   },
   "outputs": [
    {
     "data": {
      "text/html": [
       "<div>\n",
       "<style scoped>\n",
       "    .dataframe tbody tr th:only-of-type {\n",
       "        vertical-align: middle;\n",
       "    }\n",
       "\n",
       "    .dataframe tbody tr th {\n",
       "        vertical-align: top;\n",
       "    }\n",
       "\n",
       "    .dataframe thead th {\n",
       "        text-align: right;\n",
       "    }\n",
       "</style>\n",
       "<table border=\"1\" class=\"dataframe\">\n",
       "  <thead>\n",
       "    <tr style=\"text-align: right;\">\n",
       "      <th></th>\n",
       "      <th>models</th>\n",
       "      <th>max_acc</th>\n",
       "      <th>val_acc</th>\n",
       "      <th>acc_min_diff_loss</th>\n",
       "      <th>val_acc_min_diff_loss</th>\n",
       "      <th>diff_loss</th>\n",
       "    </tr>\n",
       "  </thead>\n",
       "  <tbody>\n",
       "    <tr>\n",
       "      <th>0</th>\n",
       "      <td>baseline</td>\n",
       "      <td>80.85</td>\n",
       "      <td>81.50</td>\n",
       "      <td>75.57</td>\n",
       "      <td>69.51</td>\n",
       "      <td>0.061</td>\n",
       "    </tr>\n",
       "    <tr>\n",
       "      <th>1</th>\n",
       "      <td>vgg16_baseline</td>\n",
       "      <td>84.31</td>\n",
       "      <td>81.64</td>\n",
       "      <td>79.57</td>\n",
       "      <td>79.91</td>\n",
       "      <td>0.005</td>\n",
       "    </tr>\n",
       "    <tr>\n",
       "      <th>2</th>\n",
       "      <td>vgg16_d_aug</td>\n",
       "      <td>81.35</td>\n",
       "      <td>79.13</td>\n",
       "      <td>79.15</td>\n",
       "      <td>79.54</td>\n",
       "      <td>0.004</td>\n",
       "    </tr>\n",
       "    <tr>\n",
       "      <th>3</th>\n",
       "      <td>vgg16_d_aug_w_auto</td>\n",
       "      <td>81.55</td>\n",
       "      <td>79.64</td>\n",
       "      <td>79.61</td>\n",
       "      <td>81.05</td>\n",
       "      <td>0.001</td>\n",
       "    </tr>\n",
       "    <tr>\n",
       "      <th>4</th>\n",
       "      <td>vgg16_d_aug_w_auto_ft</td>\n",
       "      <td>86.80</td>\n",
       "      <td>81.05</td>\n",
       "      <td>79.97</td>\n",
       "      <td>80.35</td>\n",
       "      <td>0.002</td>\n",
       "    </tr>\n",
       "  </tbody>\n",
       "</table>\n",
       "</div>"
      ],
      "text/plain": [
       "                  models  max_acc  val_acc  acc_min_diff_loss  \\\n",
       "0               baseline    80.85    81.50              75.57   \n",
       "1         vgg16_baseline    84.31    81.64              79.57   \n",
       "2            vgg16_d_aug    81.35    79.13              79.15   \n",
       "3     vgg16_d_aug_w_auto    81.55    79.64              79.61   \n",
       "4  vgg16_d_aug_w_auto_ft    86.80    81.05              79.97   \n",
       "\n",
       "   val_acc_min_diff_loss  diff_loss  \n",
       "0                  69.51      0.061  \n",
       "1                  79.91      0.005  \n",
       "2                  79.54      0.004  \n",
       "3                  81.05      0.001  \n",
       "4                  80.35      0.002  "
      ]
     },
     "execution_count": 34,
     "metadata": {},
     "output_type": "execute_result"
    }
   ],
   "source": [
    "df = pd.DataFrame(data = {'models':['baseline','vgg16_baseline','vgg16_d_aug','vgg16_d_aug_w_auto','vgg16_d_aug_w_auto_ft'], \n",
    "                          'max_acc':[80.85,84.31, 81.35, 81.55,86.8], 'val_acc':[81.50,81.64,79.13, 79.64, 81.05], \n",
    "                          'acc_min_diff_loss':[75.57,79.57, 79.15, 79.61,79.97], 'val_acc_min_diff_loss':[69.51,79.91, 79.54, 81.05, 80.35],\n",
    "                          'diff_loss':[0.061,0.005,0.004,0.001,0.002]})\n",
    "df"
   ]
  },
  {
   "cell_type": "code",
   "execution_count": 35,
   "metadata": {
    "ExecuteTime": {
     "end_time": "2019-11-14T15:40:08.432764Z",
     "start_time": "2019-11-14T15:40:08.426781Z"
    }
   },
   "outputs": [
    {
     "data": {
      "text/plain": [
       "Index(['models', 'max_acc', 'val_acc', 'acc_min_diff_loss',\n",
       "       'val_acc_min_diff_loss', 'diff_loss'],\n",
       "      dtype='object')"
      ]
     },
     "execution_count": 35,
     "metadata": {},
     "output_type": "execute_result"
    }
   ],
   "source": [
    "df.columns"
   ]
  },
  {
   "cell_type": "code",
   "execution_count": 36,
   "metadata": {
    "ExecuteTime": {
     "end_time": "2019-11-14T15:40:09.210502Z",
     "start_time": "2019-11-14T15:40:09.198534Z"
    }
   },
   "outputs": [
    {
     "data": {
      "text/html": [
       "<div>\n",
       "<style scoped>\n",
       "    .dataframe tbody tr th:only-of-type {\n",
       "        vertical-align: middle;\n",
       "    }\n",
       "\n",
       "    .dataframe tbody tr th {\n",
       "        vertical-align: top;\n",
       "    }\n",
       "\n",
       "    .dataframe thead th {\n",
       "        text-align: right;\n",
       "    }\n",
       "</style>\n",
       "<table border=\"1\" class=\"dataframe\">\n",
       "  <thead>\n",
       "    <tr style=\"text-align: right;\">\n",
       "      <th></th>\n",
       "      <th>models</th>\n",
       "      <th>max_acc</th>\n",
       "      <th>val_acc</th>\n",
       "      <th>acc_min_diff_loss</th>\n",
       "      <th>val_acc_min_diff_loss</th>\n",
       "      <th>diff_loss</th>\n",
       "    </tr>\n",
       "  </thead>\n",
       "  <tbody>\n",
       "    <tr>\n",
       "      <th>4</th>\n",
       "      <td>vgg16_d_aug_w_auto_ft</td>\n",
       "      <td>86.80</td>\n",
       "      <td>81.05</td>\n",
       "      <td>79.97</td>\n",
       "      <td>80.35</td>\n",
       "      <td>0.002</td>\n",
       "    </tr>\n",
       "    <tr>\n",
       "      <th>1</th>\n",
       "      <td>vgg16_baseline</td>\n",
       "      <td>84.31</td>\n",
       "      <td>81.64</td>\n",
       "      <td>79.57</td>\n",
       "      <td>79.91</td>\n",
       "      <td>0.005</td>\n",
       "    </tr>\n",
       "    <tr>\n",
       "      <th>3</th>\n",
       "      <td>vgg16_d_aug_w_auto</td>\n",
       "      <td>81.55</td>\n",
       "      <td>79.64</td>\n",
       "      <td>79.61</td>\n",
       "      <td>81.05</td>\n",
       "      <td>0.001</td>\n",
       "    </tr>\n",
       "    <tr>\n",
       "      <th>2</th>\n",
       "      <td>vgg16_d_aug</td>\n",
       "      <td>81.35</td>\n",
       "      <td>79.13</td>\n",
       "      <td>79.15</td>\n",
       "      <td>79.54</td>\n",
       "      <td>0.004</td>\n",
       "    </tr>\n",
       "    <tr>\n",
       "      <th>0</th>\n",
       "      <td>baseline</td>\n",
       "      <td>80.85</td>\n",
       "      <td>81.50</td>\n",
       "      <td>75.57</td>\n",
       "      <td>69.51</td>\n",
       "      <td>0.061</td>\n",
       "    </tr>\n",
       "  </tbody>\n",
       "</table>\n",
       "</div>"
      ],
      "text/plain": [
       "                  models  max_acc  val_acc  acc_min_diff_loss  \\\n",
       "4  vgg16_d_aug_w_auto_ft    86.80    81.05              79.97   \n",
       "1         vgg16_baseline    84.31    81.64              79.57   \n",
       "3     vgg16_d_aug_w_auto    81.55    79.64              79.61   \n",
       "2            vgg16_d_aug    81.35    79.13              79.15   \n",
       "0               baseline    80.85    81.50              75.57   \n",
       "\n",
       "   val_acc_min_diff_loss  diff_loss  \n",
       "4                  80.35      0.002  \n",
       "1                  79.91      0.005  \n",
       "3                  81.05      0.001  \n",
       "2                  79.54      0.004  \n",
       "0                  69.51      0.061  "
      ]
     },
     "execution_count": 36,
     "metadata": {},
     "output_type": "execute_result"
    }
   ],
   "source": [
    "df.sort_values(['max_acc'], ascending=False)"
   ]
  },
  {
   "cell_type": "code",
   "execution_count": 37,
   "metadata": {
    "ExecuteTime": {
     "end_time": "2019-11-14T15:40:10.009304Z",
     "start_time": "2019-11-14T15:40:09.996338Z"
    }
   },
   "outputs": [
    {
     "data": {
      "text/html": [
       "<div>\n",
       "<style scoped>\n",
       "    .dataframe tbody tr th:only-of-type {\n",
       "        vertical-align: middle;\n",
       "    }\n",
       "\n",
       "    .dataframe tbody tr th {\n",
       "        vertical-align: top;\n",
       "    }\n",
       "\n",
       "    .dataframe thead th {\n",
       "        text-align: right;\n",
       "    }\n",
       "</style>\n",
       "<table border=\"1\" class=\"dataframe\">\n",
       "  <thead>\n",
       "    <tr style=\"text-align: right;\">\n",
       "      <th></th>\n",
       "      <th>models</th>\n",
       "      <th>max_acc</th>\n",
       "      <th>val_acc</th>\n",
       "      <th>acc_min_diff_loss</th>\n",
       "      <th>val_acc_min_diff_loss</th>\n",
       "      <th>diff_loss</th>\n",
       "    </tr>\n",
       "  </thead>\n",
       "  <tbody>\n",
       "    <tr>\n",
       "      <th>3</th>\n",
       "      <td>vgg16_d_aug_w_auto</td>\n",
       "      <td>81.55</td>\n",
       "      <td>79.64</td>\n",
       "      <td>79.61</td>\n",
       "      <td>81.05</td>\n",
       "      <td>0.001</td>\n",
       "    </tr>\n",
       "    <tr>\n",
       "      <th>4</th>\n",
       "      <td>vgg16_d_aug_w_auto_ft</td>\n",
       "      <td>86.80</td>\n",
       "      <td>81.05</td>\n",
       "      <td>79.97</td>\n",
       "      <td>80.35</td>\n",
       "      <td>0.002</td>\n",
       "    </tr>\n",
       "    <tr>\n",
       "      <th>1</th>\n",
       "      <td>vgg16_baseline</td>\n",
       "      <td>84.31</td>\n",
       "      <td>81.64</td>\n",
       "      <td>79.57</td>\n",
       "      <td>79.91</td>\n",
       "      <td>0.005</td>\n",
       "    </tr>\n",
       "    <tr>\n",
       "      <th>2</th>\n",
       "      <td>vgg16_d_aug</td>\n",
       "      <td>81.35</td>\n",
       "      <td>79.13</td>\n",
       "      <td>79.15</td>\n",
       "      <td>79.54</td>\n",
       "      <td>0.004</td>\n",
       "    </tr>\n",
       "    <tr>\n",
       "      <th>0</th>\n",
       "      <td>baseline</td>\n",
       "      <td>80.85</td>\n",
       "      <td>81.50</td>\n",
       "      <td>75.57</td>\n",
       "      <td>69.51</td>\n",
       "      <td>0.061</td>\n",
       "    </tr>\n",
       "  </tbody>\n",
       "</table>\n",
       "</div>"
      ],
      "text/plain": [
       "                  models  max_acc  val_acc  acc_min_diff_loss  \\\n",
       "3     vgg16_d_aug_w_auto    81.55    79.64              79.61   \n",
       "4  vgg16_d_aug_w_auto_ft    86.80    81.05              79.97   \n",
       "1         vgg16_baseline    84.31    81.64              79.57   \n",
       "2            vgg16_d_aug    81.35    79.13              79.15   \n",
       "0               baseline    80.85    81.50              75.57   \n",
       "\n",
       "   val_acc_min_diff_loss  diff_loss  \n",
       "3                  81.05      0.001  \n",
       "4                  80.35      0.002  \n",
       "1                  79.91      0.005  \n",
       "2                  79.54      0.004  \n",
       "0                  69.51      0.061  "
      ]
     },
     "execution_count": 37,
     "metadata": {},
     "output_type": "execute_result"
    }
   ],
   "source": [
    "df.sort_values(['val_acc_min_diff_loss'], ascending=False)"
   ]
  },
  {
   "cell_type": "markdown",
   "metadata": {},
   "source": [
    "### VGG16 with data augmentation and a Gaussian noise layer"
   ]
  },
  {
   "cell_type": "code",
   "execution_count": 38,
   "metadata": {
    "ExecuteTime": {
     "end_time": "2019-11-14T15:40:12.218792Z",
     "start_time": "2019-11-14T15:40:12.204863Z"
    }
   },
   "outputs": [
    {
     "data": {
      "text/html": [
       "<div>\n",
       "<style scoped>\n",
       "    .dataframe tbody tr th:only-of-type {\n",
       "        vertical-align: middle;\n",
       "    }\n",
       "\n",
       "    .dataframe tbody tr th {\n",
       "        vertical-align: top;\n",
       "    }\n",
       "\n",
       "    .dataframe thead th {\n",
       "        text-align: right;\n",
       "    }\n",
       "</style>\n",
       "<table border=\"1\" class=\"dataframe\">\n",
       "  <thead>\n",
       "    <tr style=\"text-align: right;\">\n",
       "      <th></th>\n",
       "      <th>val_loss</th>\n",
       "      <th>val_acc</th>\n",
       "      <th>loss</th>\n",
       "      <th>acc</th>\n",
       "    </tr>\n",
       "  </thead>\n",
       "  <tbody>\n",
       "    <tr>\n",
       "      <th>0</th>\n",
       "      <td>0.435531</td>\n",
       "      <td>0.761089</td>\n",
       "      <td>0.540651</td>\n",
       "      <td>0.765500</td>\n",
       "    </tr>\n",
       "    <tr>\n",
       "      <th>1</th>\n",
       "      <td>0.627670</td>\n",
       "      <td>0.779472</td>\n",
       "      <td>0.532954</td>\n",
       "      <td>0.760727</td>\n",
       "    </tr>\n",
       "    <tr>\n",
       "      <th>2</th>\n",
       "      <td>0.871271</td>\n",
       "      <td>0.781250</td>\n",
       "      <td>0.502805</td>\n",
       "      <td>0.780000</td>\n",
       "    </tr>\n",
       "    <tr>\n",
       "      <th>3</th>\n",
       "      <td>0.678116</td>\n",
       "      <td>0.789634</td>\n",
       "      <td>0.518896</td>\n",
       "      <td>0.769000</td>\n",
       "    </tr>\n",
       "  </tbody>\n",
       "</table>\n",
       "</div>"
      ],
      "text/plain": [
       "   val_loss   val_acc      loss       acc\n",
       "0  0.435531  0.761089  0.540651  0.765500\n",
       "1  0.627670  0.779472  0.532954  0.760727\n",
       "2  0.871271  0.781250  0.502805  0.780000\n",
       "3  0.678116  0.789634  0.518896  0.769000"
      ]
     },
     "execution_count": 38,
     "metadata": {},
     "output_type": "execute_result"
    }
   ],
   "source": [
    "df_vgg16_da_gn = pd.read_csv(\"../models/VGG_model_omdena_history_gaussian_noise_v111119.csv\")\n",
    "df_vgg16_da_gn.head()"
   ]
  },
  {
   "cell_type": "code",
   "execution_count": 39,
   "metadata": {
    "ExecuteTime": {
     "end_time": "2019-11-14T15:40:13.418447Z",
     "start_time": "2019-11-14T15:40:13.411464Z"
    }
   },
   "outputs": [],
   "source": [
    "df_vgg16_da_gn['diff_loss'] = abs(df_vgg16_da_gn['loss']-df_vgg16_da_gn['val_loss'])\n",
    "df_vgg16_da_gn['diff_acc'] = abs(df_vgg16_da_gn['acc']-df_vgg16_da_gn['val_acc'])\n",
    "\n",
    "df_vgg16_da_gn = df_vgg16_da_gn[['acc', 'loss', 'val_acc', 'val_loss', 'diff_loss', 'diff_acc']]"
   ]
  },
  {
   "cell_type": "code",
   "execution_count": 40,
   "metadata": {
    "ExecuteTime": {
     "end_time": "2019-11-14T15:40:14.292575Z",
     "start_time": "2019-11-14T15:40:14.282603Z"
    }
   },
   "outputs": [
    {
     "data": {
      "text/html": [
       "<div>\n",
       "<style scoped>\n",
       "    .dataframe tbody tr th:only-of-type {\n",
       "        vertical-align: middle;\n",
       "    }\n",
       "\n",
       "    .dataframe tbody tr th {\n",
       "        vertical-align: top;\n",
       "    }\n",
       "\n",
       "    .dataframe thead th {\n",
       "        text-align: right;\n",
       "    }\n",
       "</style>\n",
       "<table border=\"1\" class=\"dataframe\">\n",
       "  <thead>\n",
       "    <tr style=\"text-align: right;\">\n",
       "      <th></th>\n",
       "      <th>acc</th>\n",
       "      <th>loss</th>\n",
       "      <th>val_acc</th>\n",
       "      <th>val_loss</th>\n",
       "      <th>diff_loss</th>\n",
       "      <th>diff_acc</th>\n",
       "    </tr>\n",
       "  </thead>\n",
       "  <tbody>\n",
       "    <tr>\n",
       "      <th>2</th>\n",
       "      <td>0.780000</td>\n",
       "      <td>0.502805</td>\n",
       "      <td>0.781250</td>\n",
       "      <td>0.871271</td>\n",
       "      <td>0.368466</td>\n",
       "      <td>0.001250</td>\n",
       "    </tr>\n",
       "    <tr>\n",
       "      <th>3</th>\n",
       "      <td>0.769000</td>\n",
       "      <td>0.518896</td>\n",
       "      <td>0.789634</td>\n",
       "      <td>0.678116</td>\n",
       "      <td>0.159220</td>\n",
       "      <td>0.020634</td>\n",
       "    </tr>\n",
       "    <tr>\n",
       "      <th>0</th>\n",
       "      <td>0.765500</td>\n",
       "      <td>0.540651</td>\n",
       "      <td>0.761089</td>\n",
       "      <td>0.435531</td>\n",
       "      <td>0.105119</td>\n",
       "      <td>0.004411</td>\n",
       "    </tr>\n",
       "    <tr>\n",
       "      <th>1</th>\n",
       "      <td>0.760727</td>\n",
       "      <td>0.532954</td>\n",
       "      <td>0.779472</td>\n",
       "      <td>0.627670</td>\n",
       "      <td>0.094716</td>\n",
       "      <td>0.018745</td>\n",
       "    </tr>\n",
       "  </tbody>\n",
       "</table>\n",
       "</div>"
      ],
      "text/plain": [
       "        acc      loss   val_acc  val_loss  diff_loss  diff_acc\n",
       "2  0.780000  0.502805  0.781250  0.871271   0.368466  0.001250\n",
       "3  0.769000  0.518896  0.789634  0.678116   0.159220  0.020634\n",
       "0  0.765500  0.540651  0.761089  0.435531   0.105119  0.004411\n",
       "1  0.760727  0.532954  0.779472  0.627670   0.094716  0.018745"
      ]
     },
     "execution_count": 40,
     "metadata": {},
     "output_type": "execute_result"
    }
   ],
   "source": [
    "df_vgg16_da_gn.sort_values('acc', ascending=False).head(10)"
   ]
  },
  {
   "cell_type": "code",
   "execution_count": 41,
   "metadata": {
    "ExecuteTime": {
     "end_time": "2019-11-14T15:40:15.084271Z",
     "start_time": "2019-11-14T15:40:15.071309Z"
    },
    "scrolled": false
   },
   "outputs": [
    {
     "data": {
      "text/html": [
       "<div>\n",
       "<style scoped>\n",
       "    .dataframe tbody tr th:only-of-type {\n",
       "        vertical-align: middle;\n",
       "    }\n",
       "\n",
       "    .dataframe tbody tr th {\n",
       "        vertical-align: top;\n",
       "    }\n",
       "\n",
       "    .dataframe thead th {\n",
       "        text-align: right;\n",
       "    }\n",
       "</style>\n",
       "<table border=\"1\" class=\"dataframe\">\n",
       "  <thead>\n",
       "    <tr style=\"text-align: right;\">\n",
       "      <th></th>\n",
       "      <th>acc</th>\n",
       "      <th>loss</th>\n",
       "      <th>val_acc</th>\n",
       "      <th>val_loss</th>\n",
       "      <th>diff_loss</th>\n",
       "      <th>diff_acc</th>\n",
       "    </tr>\n",
       "  </thead>\n",
       "  <tbody>\n",
       "    <tr>\n",
       "      <th>1</th>\n",
       "      <td>0.760727</td>\n",
       "      <td>0.532954</td>\n",
       "      <td>0.779472</td>\n",
       "      <td>0.627670</td>\n",
       "      <td>0.094716</td>\n",
       "      <td>0.018745</td>\n",
       "    </tr>\n",
       "    <tr>\n",
       "      <th>0</th>\n",
       "      <td>0.765500</td>\n",
       "      <td>0.540651</td>\n",
       "      <td>0.761089</td>\n",
       "      <td>0.435531</td>\n",
       "      <td>0.105119</td>\n",
       "      <td>0.004411</td>\n",
       "    </tr>\n",
       "    <tr>\n",
       "      <th>3</th>\n",
       "      <td>0.769000</td>\n",
       "      <td>0.518896</td>\n",
       "      <td>0.789634</td>\n",
       "      <td>0.678116</td>\n",
       "      <td>0.159220</td>\n",
       "      <td>0.020634</td>\n",
       "    </tr>\n",
       "    <tr>\n",
       "      <th>2</th>\n",
       "      <td>0.780000</td>\n",
       "      <td>0.502805</td>\n",
       "      <td>0.781250</td>\n",
       "      <td>0.871271</td>\n",
       "      <td>0.368466</td>\n",
       "      <td>0.001250</td>\n",
       "    </tr>\n",
       "  </tbody>\n",
       "</table>\n",
       "</div>"
      ],
      "text/plain": [
       "        acc      loss   val_acc  val_loss  diff_loss  diff_acc\n",
       "1  0.760727  0.532954  0.779472  0.627670   0.094716  0.018745\n",
       "0  0.765500  0.540651  0.761089  0.435531   0.105119  0.004411\n",
       "3  0.769000  0.518896  0.789634  0.678116   0.159220  0.020634\n",
       "2  0.780000  0.502805  0.781250  0.871271   0.368466  0.001250"
      ]
     },
     "execution_count": 41,
     "metadata": {},
     "output_type": "execute_result"
    }
   ],
   "source": [
    "df_vgg16_da_gn.sort_values(['diff_loss','diff_acc']).head(10)"
   ]
  },
  {
   "cell_type": "code",
   "execution_count": 42,
   "metadata": {
    "ExecuteTime": {
     "end_time": "2019-11-14T15:40:16.140123Z",
     "start_time": "2019-11-14T15:40:15.833714Z"
    }
   },
   "outputs": [
    {
     "data": {
      "image/png": "[encoded data removed]",
      "text/plain": [
       "<Figure size 432x288 with 1 Axes>"
      ]
     },
     "metadata": {
      "needs_background": "light"
     },
     "output_type": "display_data"
    },
    {
     "data": {
      "image/png": "[encoded data removed]",
      "text/plain": [
       "<Figure size 432x288 with 1 Axes>"
      ]
     },
     "metadata": {
      "needs_background": "light"
     },
     "output_type": "display_data"
    }
   ],
   "source": [
    "import matplotlib.pyplot as plt\n",
    "\n",
    "acc = df_vgg16_da_gn['acc']\n",
    "val_acc = df_vgg16_da_gn['val_acc']\n",
    "loss = df_vgg16_da_gn['loss']\n",
    "val_loss = df_vgg16_da_gn['val_loss']\n",
    "\n",
    "epochs = range(len(acc))\n",
    "\n",
    "plt.plot(epochs, acc, 'r', label='Training acc')\n",
    "plt.plot(epochs, val_acc, 'b', label='Valida_gntion acc')\n",
    "plt.title('Training and valida_gntion accuracy')\n",
    "plt.legend()\n",
    "\n",
    "plt.figure()\n",
    "\n",
    "plt.plot(epochs, loss, 'r', label='Training loss')\n",
    "plt.plot(epochs, val_loss, 'b', label='Valida_gntion loss')\n",
    "plt.title('Training and valida_gntion loss')\n",
    "plt.legend()\n",
    "\n",
    "plt.show()"
   ]
  },
  {
   "cell_type": "markdown",
   "metadata": {},
   "source": [
    "Because the curves above are too noisy we apply the following function to have a smoother version of them."
   ]
  },
  {
   "cell_type": "code",
   "execution_count": 43,
   "metadata": {
    "ExecuteTime": {
     "end_time": "2019-11-14T15:40:18.242518Z",
     "start_time": "2019-11-14T15:40:17.937486Z"
    }
   },
   "outputs": [
    {
     "data": {
      "image/png": "[encoded data removed]",
      "text/plain": [
       "<Figure size 432x288 with 1 Axes>"
      ]
     },
     "metadata": {
      "needs_background": "light"
     },
     "output_type": "display_data"
    },
    {
     "data": {
      "image/png": "[encoded data removed]",
      "text/plain": [
       "<Figure size 432x288 with 1 Axes>"
      ]
     },
     "metadata": {
      "needs_background": "light"
     },
     "output_type": "display_data"
    }
   ],
   "source": [
    "plt.plot(epochs,\n",
    "         smooth_curve(acc), 'r', label='Smoothed training acc')\n",
    "plt.plot(epochs,\n",
    "         smooth_curve(val_acc), 'b', label='Smoothed validation acc')\n",
    "plt.title('Training and validation accuracy')\n",
    "plt.legend()\n",
    "\n",
    "plt.figure()\n",
    "\n",
    "plt.plot(epochs,\n",
    "         smooth_curve(loss), 'r', label='Smoothed training loss')\n",
    "plt.plot(epochs,\n",
    "         smooth_curve(val_loss), 'b', label='Smoothed validation loss')\n",
    "plt.title('Training and validation loss')\n",
    "plt.legend()\n",
    "\n",
    "plt.show()"
   ]
  },
  {
   "cell_type": "markdown",
   "metadata": {},
   "source": [
    "The **highest accuracy** is:\n",
    "\n",
    "**training : 78.00%**\n",
    "\n",
    "**validation: 78.13%**\n",
    "\n",
    "However, the difference in loss indicates overfitting at this point (epoch 3).\n",
    "\n",
    "The **lowest difference in loss** (training and validation) occurs in epoch 2 and the accuracy there is:\n",
    "\n",
    "**training : 76.07%**\n",
    "\n",
    "**validation: 77.95%**\n"
   ]
  },
  {
   "cell_type": "markdown",
   "metadata": {},
   "source": [
    "### VGG16 with data augmentation and class_weigth = 'auto' and a Gaussian noise layer"
   ]
  },
  {
   "cell_type": "code",
   "execution_count": 44,
   "metadata": {
    "ExecuteTime": {
     "end_time": "2019-11-14T15:40:20.673222Z",
     "start_time": "2019-11-14T15:40:20.660256Z"
    }
   },
   "outputs": [
    {
     "data": {
      "text/html": [
       "<div>\n",
       "<style scoped>\n",
       "    .dataframe tbody tr th:only-of-type {\n",
       "        vertical-align: middle;\n",
       "    }\n",
       "\n",
       "    .dataframe tbody tr th {\n",
       "        vertical-align: top;\n",
       "    }\n",
       "\n",
       "    .dataframe thead th {\n",
       "        text-align: right;\n",
       "    }\n",
       "</style>\n",
       "<table border=\"1\" class=\"dataframe\">\n",
       "  <thead>\n",
       "    <tr style=\"text-align: right;\">\n",
       "      <th></th>\n",
       "      <th>val_loss</th>\n",
       "      <th>val_acc</th>\n",
       "      <th>loss</th>\n",
       "      <th>acc</th>\n",
       "    </tr>\n",
       "  </thead>\n",
       "  <tbody>\n",
       "    <tr>\n",
       "      <th>0</th>\n",
       "      <td>0.327612</td>\n",
       "      <td>0.797379</td>\n",
       "      <td>0.495533</td>\n",
       "      <td>0.791519</td>\n",
       "    </tr>\n",
       "    <tr>\n",
       "      <th>1</th>\n",
       "      <td>0.388391</td>\n",
       "      <td>0.781504</td>\n",
       "      <td>0.513441</td>\n",
       "      <td>0.775000</td>\n",
       "    </tr>\n",
       "    <tr>\n",
       "      <th>2</th>\n",
       "      <td>0.342832</td>\n",
       "      <td>0.776210</td>\n",
       "      <td>0.484490</td>\n",
       "      <td>0.795558</td>\n",
       "    </tr>\n",
       "    <tr>\n",
       "      <th>3</th>\n",
       "      <td>0.765415</td>\n",
       "      <td>0.793699</td>\n",
       "      <td>0.516012</td>\n",
       "      <td>0.767500</td>\n",
       "    </tr>\n",
       "  </tbody>\n",
       "</table>\n",
       "</div>"
      ],
      "text/plain": [
       "   val_loss   val_acc      loss       acc\n",
       "0  0.327612  0.797379  0.495533  0.791519\n",
       "1  0.388391  0.781504  0.513441  0.775000\n",
       "2  0.342832  0.776210  0.484490  0.795558\n",
       "3  0.765415  0.793699  0.516012  0.767500"
      ]
     },
     "execution_count": 44,
     "metadata": {},
     "output_type": "execute_result"
    }
   ],
   "source": [
    "df_vgg16_daw_gn = pd.read_csv(\"../models/VGG_model_omdena_history_data_augmentation_weight_auto_gaussian_noise_v111119.csv\")\n",
    "df_vgg16_daw_gn.head()"
   ]
  },
  {
   "cell_type": "code",
   "execution_count": 45,
   "metadata": {
    "ExecuteTime": {
     "end_time": "2019-11-14T15:40:21.398970Z",
     "start_time": "2019-11-14T15:40:21.389996Z"
    }
   },
   "outputs": [],
   "source": [
    "df_vgg16_daw_gn['diff_loss'] = abs(df_vgg16_daw_gn['loss']-df_vgg16_daw_gn['val_loss'])\n",
    "df_vgg16_daw_gn['diff_acc'] = abs(df_vgg16_daw_gn['acc']-df_vgg16_daw_gn['val_acc'])\n",
    "\n",
    "df_vgg16_daw_gn = df_vgg16_daw_gn[['acc', 'loss', 'val_acc', 'val_loss', 'diff_loss', 'diff_acc']]"
   ]
  },
  {
   "cell_type": "code",
   "execution_count": 46,
   "metadata": {
    "ExecuteTime": {
     "end_time": "2019-11-14T15:40:22.006699Z",
     "start_time": "2019-11-14T15:40:21.994735Z"
    }
   },
   "outputs": [
    {
     "data": {
      "text/html": [
       "<div>\n",
       "<style scoped>\n",
       "    .dataframe tbody tr th:only-of-type {\n",
       "        vertical-align: middle;\n",
       "    }\n",
       "\n",
       "    .dataframe tbody tr th {\n",
       "        vertical-align: top;\n",
       "    }\n",
       "\n",
       "    .dataframe thead th {\n",
       "        text-align: right;\n",
       "    }\n",
       "</style>\n",
       "<table border=\"1\" class=\"dataframe\">\n",
       "  <thead>\n",
       "    <tr style=\"text-align: right;\">\n",
       "      <th></th>\n",
       "      <th>acc</th>\n",
       "      <th>loss</th>\n",
       "      <th>val_acc</th>\n",
       "      <th>val_loss</th>\n",
       "      <th>diff_loss</th>\n",
       "      <th>diff_acc</th>\n",
       "    </tr>\n",
       "  </thead>\n",
       "  <tbody>\n",
       "    <tr>\n",
       "      <th>2</th>\n",
       "      <td>0.795558</td>\n",
       "      <td>0.484490</td>\n",
       "      <td>0.776210</td>\n",
       "      <td>0.342832</td>\n",
       "      <td>0.141658</td>\n",
       "      <td>0.019348</td>\n",
       "    </tr>\n",
       "    <tr>\n",
       "      <th>0</th>\n",
       "      <td>0.791519</td>\n",
       "      <td>0.495533</td>\n",
       "      <td>0.797379</td>\n",
       "      <td>0.327612</td>\n",
       "      <td>0.167921</td>\n",
       "      <td>0.005860</td>\n",
       "    </tr>\n",
       "    <tr>\n",
       "      <th>1</th>\n",
       "      <td>0.775000</td>\n",
       "      <td>0.513441</td>\n",
       "      <td>0.781504</td>\n",
       "      <td>0.388391</td>\n",
       "      <td>0.125050</td>\n",
       "      <td>0.006504</td>\n",
       "    </tr>\n",
       "    <tr>\n",
       "      <th>3</th>\n",
       "      <td>0.767500</td>\n",
       "      <td>0.516012</td>\n",
       "      <td>0.793699</td>\n",
       "      <td>0.765415</td>\n",
       "      <td>0.249403</td>\n",
       "      <td>0.026199</td>\n",
       "    </tr>\n",
       "  </tbody>\n",
       "</table>\n",
       "</div>"
      ],
      "text/plain": [
       "        acc      loss   val_acc  val_loss  diff_loss  diff_acc\n",
       "2  0.795558  0.484490  0.776210  0.342832   0.141658  0.019348\n",
       "0  0.791519  0.495533  0.797379  0.327612   0.167921  0.005860\n",
       "1  0.775000  0.513441  0.781504  0.388391   0.125050  0.006504\n",
       "3  0.767500  0.516012  0.793699  0.765415   0.249403  0.026199"
      ]
     },
     "execution_count": 46,
     "metadata": {},
     "output_type": "execute_result"
    }
   ],
   "source": [
    "df_vgg16_daw_gn.sort_values('acc', ascending=False).head(10)"
   ]
  },
  {
   "cell_type": "code",
   "execution_count": 47,
   "metadata": {
    "ExecuteTime": {
     "end_time": "2019-11-14T15:40:22.612130Z",
     "start_time": "2019-11-14T15:40:22.594181Z"
    },
    "scrolled": false
   },
   "outputs": [
    {
     "data": {
      "text/html": [
       "<div>\n",
       "<style scoped>\n",
       "    .dataframe tbody tr th:only-of-type {\n",
       "        vertical-align: middle;\n",
       "    }\n",
       "\n",
       "    .dataframe tbody tr th {\n",
       "        vertical-align: top;\n",
       "    }\n",
       "\n",
       "    .dataframe thead th {\n",
       "        text-align: right;\n",
       "    }\n",
       "</style>\n",
       "<table border=\"1\" class=\"dataframe\">\n",
       "  <thead>\n",
       "    <tr style=\"text-align: right;\">\n",
       "      <th></th>\n",
       "      <th>acc</th>\n",
       "      <th>loss</th>\n",
       "      <th>val_acc</th>\n",
       "      <th>val_loss</th>\n",
       "      <th>diff_loss</th>\n",
       "      <th>diff_acc</th>\n",
       "    </tr>\n",
       "  </thead>\n",
       "  <tbody>\n",
       "    <tr>\n",
       "      <th>1</th>\n",
       "      <td>0.775000</td>\n",
       "      <td>0.513441</td>\n",
       "      <td>0.781504</td>\n",
       "      <td>0.388391</td>\n",
       "      <td>0.125050</td>\n",
       "      <td>0.006504</td>\n",
       "    </tr>\n",
       "    <tr>\n",
       "      <th>2</th>\n",
       "      <td>0.795558</td>\n",
       "      <td>0.484490</td>\n",
       "      <td>0.776210</td>\n",
       "      <td>0.342832</td>\n",
       "      <td>0.141658</td>\n",
       "      <td>0.019348</td>\n",
       "    </tr>\n",
       "    <tr>\n",
       "      <th>0</th>\n",
       "      <td>0.791519</td>\n",
       "      <td>0.495533</td>\n",
       "      <td>0.797379</td>\n",
       "      <td>0.327612</td>\n",
       "      <td>0.167921</td>\n",
       "      <td>0.005860</td>\n",
       "    </tr>\n",
       "    <tr>\n",
       "      <th>3</th>\n",
       "      <td>0.767500</td>\n",
       "      <td>0.516012</td>\n",
       "      <td>0.793699</td>\n",
       "      <td>0.765415</td>\n",
       "      <td>0.249403</td>\n",
       "      <td>0.026199</td>\n",
       "    </tr>\n",
       "  </tbody>\n",
       "</table>\n",
       "</div>"
      ],
      "text/plain": [
       "        acc      loss   val_acc  val_loss  diff_loss  diff_acc\n",
       "1  0.775000  0.513441  0.781504  0.388391   0.125050  0.006504\n",
       "2  0.795558  0.484490  0.776210  0.342832   0.141658  0.019348\n",
       "0  0.791519  0.495533  0.797379  0.327612   0.167921  0.005860\n",
       "3  0.767500  0.516012  0.793699  0.765415   0.249403  0.026199"
      ]
     },
     "execution_count": 47,
     "metadata": {},
     "output_type": "execute_result"
    }
   ],
   "source": [
    "df_vgg16_daw_gn.sort_values(['diff_loss','diff_acc']).head(10)"
   ]
  },
  {
   "cell_type": "code",
   "execution_count": 48,
   "metadata": {
    "ExecuteTime": {
     "end_time": "2019-11-14T15:40:23.788953Z",
     "start_time": "2019-11-14T15:40:23.488609Z"
    }
   },
   "outputs": [
    {
     "data": {
      "image/png": "[encoded data removed]",
      "text/plain": [
       "<Figure size 432x288 with 1 Axes>"
      ]
     },
     "metadata": {
      "needs_background": "light"
     },
     "output_type": "display_data"
    },
    {
     "data": {
      "image/png": "[encoded data removed]",
      "text/plain": [
       "<Figure size 432x288 with 1 Axes>"
      ]
     },
     "metadata": {
      "needs_background": "light"
     },
     "output_type": "display_data"
    }
   ],
   "source": [
    "import matplotlib.pyplot as plt\n",
    "\n",
    "acc = df_vgg16_daw_gn['acc']\n",
    "val_acc = df_vgg16_daw_gn['val_acc']\n",
    "loss = df_vgg16_daw_gn['loss']\n",
    "val_loss = df_vgg16_daw_gn['val_loss']\n",
    "\n",
    "epochs = range(len(acc))\n",
    "\n",
    "plt.plot(epochs, acc, 'r', label='Training acc')\n",
    "plt.plot(epochs, val_acc, 'b', label='Validation acc')\n",
    "plt.title('Training and validaw_gntion accuracy')\n",
    "plt.legend()\n",
    "\n",
    "plt.figure()\n",
    "\n",
    "plt.plot(epochs, loss, 'r', label='Training loss')\n",
    "plt.plot(epochs, val_loss, 'b', label='Validation loss')\n",
    "plt.title('Training and validaw_gntion loss')\n",
    "plt.legend()\n",
    "\n",
    "plt.show()"
   ]
  },
  {
   "cell_type": "markdown",
   "metadata": {},
   "source": [
    "Because the curves above are too noisy we apply the following function to have a smoother version of them."
   ]
  },
  {
   "cell_type": "code",
   "execution_count": 49,
   "metadata": {
    "ExecuteTime": {
     "end_time": "2019-11-14T15:40:25.401814Z",
     "start_time": "2019-11-14T15:40:25.082124Z"
    }
   },
   "outputs": [
    {
     "data": {
      "image/png": "[encoded data removed]",
      "text/plain": [
       "<Figure size 432x288 with 1 Axes>"
      ]
     },
     "metadata": {
      "needs_background": "light"
     },
     "output_type": "display_data"
    },
    {
     "data": {
      "image/png": "[encoded data removed]",
      "text/plain": [
       "<Figure size 432x288 with 1 Axes>"
      ]
     },
     "metadata": {
      "needs_background": "light"
     },
     "output_type": "display_data"
    }
   ],
   "source": [
    "plt.plot(epochs,\n",
    "         smooth_curve(acc), 'r', label='Smoothed training acc')\n",
    "plt.plot(epochs,\n",
    "         smooth_curve(val_acc), 'b', label='Smoothed validation acc')\n",
    "plt.title('Training and validation accuracy')\n",
    "plt.legend()\n",
    "\n",
    "plt.figure()\n",
    "\n",
    "plt.plot(epochs,\n",
    "         smooth_curve(loss), 'r', label='Smoothed training loss')\n",
    "plt.plot(epochs,\n",
    "         smooth_curve(val_loss), 'b', label='Smoothed validation loss')\n",
    "plt.title('Training and validation loss')\n",
    "plt.legend()\n",
    "\n",
    "plt.show()"
   ]
  },
  {
   "cell_type": "markdown",
   "metadata": {},
   "source": [
    "The **highest accuracy** is:\n",
    "\n",
    "**training : 79.55%**\n",
    "\n",
    "**validation: 77.62%**\n",
    "\n",
    "However, the difference in loss indicates overfitting at this point (epoch 3).\n",
    "\n",
    "The **lowest difference in loss** (training and validation) occurs in epoch 2 and the accuracy there is:\n",
    "\n",
    "**training : 77.50%**\n",
    "\n",
    "**validation: 78.15%**\n"
   ]
  },
  {
   "cell_type": "markdown",
   "metadata": {},
   "source": [
    "### VGG16 with data augmentation and class_weigth = 'auto' fine tunned and a Guassian noise layer"
   ]
  },
  {
   "cell_type": "code",
   "execution_count": 50,
   "metadata": {
    "ExecuteTime": {
     "end_time": "2019-11-14T15:40:28.090154Z",
     "start_time": "2019-11-14T15:40:28.074170Z"
    }
   },
   "outputs": [
    {
     "data": {
      "text/html": [
       "<div>\n",
       "<style scoped>\n",
       "    .dataframe tbody tr th:only-of-type {\n",
       "        vertical-align: middle;\n",
       "    }\n",
       "\n",
       "    .dataframe tbody tr th {\n",
       "        vertical-align: top;\n",
       "    }\n",
       "\n",
       "    .dataframe thead th {\n",
       "        text-align: right;\n",
       "    }\n",
       "</style>\n",
       "<table border=\"1\" class=\"dataframe\">\n",
       "  <thead>\n",
       "    <tr style=\"text-align: right;\">\n",
       "      <th></th>\n",
       "      <th>val_loss</th>\n",
       "      <th>val_acc</th>\n",
       "      <th>loss</th>\n",
       "      <th>acc</th>\n",
       "    </tr>\n",
       "  </thead>\n",
       "  <tbody>\n",
       "    <tr>\n",
       "      <th>0</th>\n",
       "      <td>0.256929</td>\n",
       "      <td>0.793347</td>\n",
       "      <td>0.489968</td>\n",
       "      <td>0.7970</td>\n",
       "    </tr>\n",
       "    <tr>\n",
       "      <th>1</th>\n",
       "      <td>0.617583</td>\n",
       "      <td>0.796748</td>\n",
       "      <td>0.486299</td>\n",
       "      <td>0.7895</td>\n",
       "    </tr>\n",
       "    <tr>\n",
       "      <th>2</th>\n",
       "      <td>0.681453</td>\n",
       "      <td>0.781250</td>\n",
       "      <td>0.476376</td>\n",
       "      <td>0.7950</td>\n",
       "    </tr>\n",
       "    <tr>\n",
       "      <th>3</th>\n",
       "      <td>0.387750</td>\n",
       "      <td>0.796748</td>\n",
       "      <td>0.474570</td>\n",
       "      <td>0.7875</td>\n",
       "    </tr>\n",
       "  </tbody>\n",
       "</table>\n",
       "</div>"
      ],
      "text/plain": [
       "   val_loss   val_acc      loss     acc\n",
       "0  0.256929  0.793347  0.489968  0.7970\n",
       "1  0.617583  0.796748  0.486299  0.7895\n",
       "2  0.681453  0.781250  0.476376  0.7950\n",
       "3  0.387750  0.796748  0.474570  0.7875"
      ]
     },
     "execution_count": 50,
     "metadata": {},
     "output_type": "execute_result"
    }
   ],
   "source": [
    "df_vgg16_daw_ft_gn = pd.read_csv(\"../models/VGG_model_omdena_history_data_augmentation_weight_auto_fine_tunned_gaussian_noise_v111119.csv\")\n",
    "df_vgg16_daw_ft_gn.head()"
   ]
  },
  {
   "cell_type": "code",
   "execution_count": 51,
   "metadata": {
    "ExecuteTime": {
     "end_time": "2019-11-14T15:40:28.804416Z",
     "start_time": "2019-11-14T15:40:28.796805Z"
    }
   },
   "outputs": [],
   "source": [
    "df_vgg16_daw_ft_gn['diff_loss'] = abs(df_vgg16_daw_ft_gn['loss']-df_vgg16_daw_ft_gn['val_loss'])\n",
    "df_vgg16_daw_ft_gn['diff_acc'] = abs(df_vgg16_daw_ft_gn['acc']-df_vgg16_daw_ft_gn['val_acc'])\n",
    "\n",
    "df_vgg16_daw_ft_gn = df_vgg16_daw_ft_gn[['acc', 'loss', 'val_acc', 'val_loss', 'diff_loss', 'diff_acc']]"
   ]
  },
  {
   "cell_type": "code",
   "execution_count": 52,
   "metadata": {
    "ExecuteTime": {
     "end_time": "2019-11-14T15:40:29.807005Z",
     "start_time": "2019-11-14T15:40:29.794009Z"
    }
   },
   "outputs": [
    {
     "data": {
      "text/html": [
       "<div>\n",
       "<style scoped>\n",
       "    .dataframe tbody tr th:only-of-type {\n",
       "        vertical-align: middle;\n",
       "    }\n",
       "\n",
       "    .dataframe tbody tr th {\n",
       "        vertical-align: top;\n",
       "    }\n",
       "\n",
       "    .dataframe thead th {\n",
       "        text-align: right;\n",
       "    }\n",
       "</style>\n",
       "<table border=\"1\" class=\"dataframe\">\n",
       "  <thead>\n",
       "    <tr style=\"text-align: right;\">\n",
       "      <th></th>\n",
       "      <th>acc</th>\n",
       "      <th>loss</th>\n",
       "      <th>val_acc</th>\n",
       "      <th>val_loss</th>\n",
       "      <th>diff_loss</th>\n",
       "      <th>diff_acc</th>\n",
       "    </tr>\n",
       "  </thead>\n",
       "  <tbody>\n",
       "    <tr>\n",
       "      <th>0</th>\n",
       "      <td>0.7970</td>\n",
       "      <td>0.489968</td>\n",
       "      <td>0.793347</td>\n",
       "      <td>0.256929</td>\n",
       "      <td>0.233039</td>\n",
       "      <td>0.003653</td>\n",
       "    </tr>\n",
       "    <tr>\n",
       "      <th>2</th>\n",
       "      <td>0.7950</td>\n",
       "      <td>0.476376</td>\n",
       "      <td>0.781250</td>\n",
       "      <td>0.681453</td>\n",
       "      <td>0.205076</td>\n",
       "      <td>0.013750</td>\n",
       "    </tr>\n",
       "    <tr>\n",
       "      <th>1</th>\n",
       "      <td>0.7895</td>\n",
       "      <td>0.486299</td>\n",
       "      <td>0.796748</td>\n",
       "      <td>0.617583</td>\n",
       "      <td>0.131284</td>\n",
       "      <td>0.007248</td>\n",
       "    </tr>\n",
       "    <tr>\n",
       "      <th>3</th>\n",
       "      <td>0.7875</td>\n",
       "      <td>0.474570</td>\n",
       "      <td>0.796748</td>\n",
       "      <td>0.387750</td>\n",
       "      <td>0.086820</td>\n",
       "      <td>0.009248</td>\n",
       "    </tr>\n",
       "  </tbody>\n",
       "</table>\n",
       "</div>"
      ],
      "text/plain": [
       "      acc      loss   val_acc  val_loss  diff_loss  diff_acc\n",
       "0  0.7970  0.489968  0.793347  0.256929   0.233039  0.003653\n",
       "2  0.7950  0.476376  0.781250  0.681453   0.205076  0.013750\n",
       "1  0.7895  0.486299  0.796748  0.617583   0.131284  0.007248\n",
       "3  0.7875  0.474570  0.796748  0.387750   0.086820  0.009248"
      ]
     },
     "execution_count": 52,
     "metadata": {},
     "output_type": "execute_result"
    }
   ],
   "source": [
    "df_vgg16_daw_ft_gn.sort_values('acc', ascending=False).head(10)"
   ]
  },
  {
   "cell_type": "code",
   "execution_count": 53,
   "metadata": {
    "ExecuteTime": {
     "end_time": "2019-11-14T15:40:30.468716Z",
     "start_time": "2019-11-14T15:40:30.449767Z"
    },
    "scrolled": false
   },
   "outputs": [
    {
     "data": {
      "text/html": [
       "<div>\n",
       "<style scoped>\n",
       "    .dataframe tbody tr th:only-of-type {\n",
       "        vertical-align: middle;\n",
       "    }\n",
       "\n",
       "    .dataframe tbody tr th {\n",
       "        vertical-align: top;\n",
       "    }\n",
       "\n",
       "    .dataframe thead th {\n",
       "        text-align: right;\n",
       "    }\n",
       "</style>\n",
       "<table border=\"1\" class=\"dataframe\">\n",
       "  <thead>\n",
       "    <tr style=\"text-align: right;\">\n",
       "      <th></th>\n",
       "      <th>acc</th>\n",
       "      <th>loss</th>\n",
       "      <th>val_acc</th>\n",
       "      <th>val_loss</th>\n",
       "      <th>diff_loss</th>\n",
       "      <th>diff_acc</th>\n",
       "    </tr>\n",
       "  </thead>\n",
       "  <tbody>\n",
       "    <tr>\n",
       "      <th>3</th>\n",
       "      <td>0.7875</td>\n",
       "      <td>0.474570</td>\n",
       "      <td>0.796748</td>\n",
       "      <td>0.387750</td>\n",
       "      <td>0.086820</td>\n",
       "      <td>0.009248</td>\n",
       "    </tr>\n",
       "    <tr>\n",
       "      <th>1</th>\n",
       "      <td>0.7895</td>\n",
       "      <td>0.486299</td>\n",
       "      <td>0.796748</td>\n",
       "      <td>0.617583</td>\n",
       "      <td>0.131284</td>\n",
       "      <td>0.007248</td>\n",
       "    </tr>\n",
       "    <tr>\n",
       "      <th>2</th>\n",
       "      <td>0.7950</td>\n",
       "      <td>0.476376</td>\n",
       "      <td>0.781250</td>\n",
       "      <td>0.681453</td>\n",
       "      <td>0.205076</td>\n",
       "      <td>0.013750</td>\n",
       "    </tr>\n",
       "    <tr>\n",
       "      <th>0</th>\n",
       "      <td>0.7970</td>\n",
       "      <td>0.489968</td>\n",
       "      <td>0.793347</td>\n",
       "      <td>0.256929</td>\n",
       "      <td>0.233039</td>\n",
       "      <td>0.003653</td>\n",
       "    </tr>\n",
       "  </tbody>\n",
       "</table>\n",
       "</div>"
      ],
      "text/plain": [
       "      acc      loss   val_acc  val_loss  diff_loss  diff_acc\n",
       "3  0.7875  0.474570  0.796748  0.387750   0.086820  0.009248\n",
       "1  0.7895  0.486299  0.796748  0.617583   0.131284  0.007248\n",
       "2  0.7950  0.476376  0.781250  0.681453   0.205076  0.013750\n",
       "0  0.7970  0.489968  0.793347  0.256929   0.233039  0.003653"
      ]
     },
     "execution_count": 53,
     "metadata": {},
     "output_type": "execute_result"
    }
   ],
   "source": [
    "df_vgg16_daw_ft_gn.sort_values(['diff_loss','diff_acc']).head(10)"
   ]
  },
  {
   "cell_type": "code",
   "execution_count": 54,
   "metadata": {
    "ExecuteTime": {
     "end_time": "2019-11-14T15:40:31.491943Z",
     "start_time": "2019-11-14T15:40:31.177084Z"
    }
   },
   "outputs": [
    {
     "data": {
      "image/png": "[encoded data removed]",
      "text/plain": [
       "<Figure size 432x288 with 1 Axes>"
      ]
     },
     "metadata": {
      "needs_background": "light"
     },
     "output_type": "display_data"
    },
    {
     "data": {
      "image/png": "[encoded data removed]",
      "text/plain": [
       "<Figure size 432x288 with 1 Axes>"
      ]
     },
     "metadata": {
      "needs_background": "light"
     },
     "output_type": "display_data"
    }
   ],
   "source": [
    "import matplotlib.pyplot as plt\n",
    "\n",
    "acc = df_vgg16_daw_ft_gn['acc']\n",
    "val_acc = df_vgg16_daw_ft_gn['val_acc']\n",
    "loss = df_vgg16_daw_ft_gn['loss']\n",
    "val_loss = df_vgg16_daw_ft_gn['val_loss']\n",
    "\n",
    "epochs = range(len(acc))\n",
    "\n",
    "plt.plot(epochs, acc, 'r', label='Training acc')\n",
    "plt.plot(epochs, val_acc, 'b', label='Validation acc')\n",
    "plt.title('Training and validaw_ft_gntion accuracy')\n",
    "plt.legend()\n",
    "\n",
    "plt.figure()\n",
    "\n",
    "plt.plot(epochs, loss, 'r', label='Training loss')\n",
    "plt.plot(epochs, val_loss, 'b', label='Validation loss')\n",
    "plt.title('Training and validaw_ft_gntion loss')\n",
    "plt.legend()\n",
    "\n",
    "plt.show()"
   ]
  },
  {
   "cell_type": "markdown",
   "metadata": {},
   "source": [
    "Because the curves above are too noisy we apply the following function to have a smoother version of them."
   ]
  },
  {
   "cell_type": "code",
   "execution_count": 55,
   "metadata": {
    "ExecuteTime": {
     "end_time": "2019-11-14T15:40:33.466696Z",
     "start_time": "2019-11-14T15:40:33.085281Z"
    }
   },
   "outputs": [
    {
     "data": {
      "image/png": "[encoded data removed]",
      "text/plain": [
       "<Figure size 432x288 with 1 Axes>"
      ]
     },
     "metadata": {
      "needs_background": "light"
     },
     "output_type": "display_data"
    },
    {
     "data": {
      "image/png": "[encoded data removed]",
      "text/plain": [
       "<Figure size 432x288 with 1 Axes>"
      ]
     },
     "metadata": {
      "needs_background": "light"
     },
     "output_type": "display_data"
    }
   ],
   "source": [
    "plt.plot(epochs,\n",
    "         smooth_curve(acc), 'r', label='Smoothed training acc')\n",
    "plt.plot(epochs,\n",
    "         smooth_curve(val_acc), 'b', label='Smoothed validation acc')\n",
    "plt.title('Training and validation accuracy')\n",
    "plt.legend()\n",
    "\n",
    "plt.figure()\n",
    "\n",
    "plt.plot(epochs,\n",
    "         smooth_curve(loss), 'r', label='Smoothed training loss')\n",
    "plt.plot(epochs,\n",
    "         smooth_curve(val_loss), 'b', label='Smoothed validation loss')\n",
    "plt.title('Training and validation loss')\n",
    "plt.legend()\n",
    "\n",
    "plt.show()"
   ]
  },
  {
   "cell_type": "markdown",
   "metadata": {},
   "source": [
    "The **highest accuracy** is:\n",
    "\n",
    "**training : 79.70%**\n",
    "\n",
    "**validation: 79.33%**\n",
    "\n",
    "However, the difference in loss indicates overfitting at this point (epoch 1).\n",
    "\n",
    "The **lowest difference in loss** (training and validation) occurs in epoch 4 and the accuracy there is:\n",
    "\n",
    "**training : 78.75%**\n",
    "\n",
    "**validation: 79.67%**\n"
   ]
  },
  {
   "cell_type": "code",
   "execution_count": 56,
   "metadata": {
    "ExecuteTime": {
     "end_time": "2019-11-14T15:40:35.532900Z",
     "start_time": "2019-11-14T15:40:35.516946Z"
    },
    "scrolled": false
   },
   "outputs": [
    {
     "data": {
      "text/html": [
       "<div>\n",
       "<style scoped>\n",
       "    .dataframe tbody tr th:only-of-type {\n",
       "        vertical-align: middle;\n",
       "    }\n",
       "\n",
       "    .dataframe tbody tr th {\n",
       "        vertical-align: top;\n",
       "    }\n",
       "\n",
       "    .dataframe thead th {\n",
       "        text-align: right;\n",
       "    }\n",
       "</style>\n",
       "<table border=\"1\" class=\"dataframe\">\n",
       "  <thead>\n",
       "    <tr style=\"text-align: right;\">\n",
       "      <th></th>\n",
       "      <th>models</th>\n",
       "      <th>max_acc</th>\n",
       "      <th>val_acc</th>\n",
       "      <th>acc_min_diff_loss</th>\n",
       "      <th>val_acc_min_diff_loss</th>\n",
       "      <th>diff_loss</th>\n",
       "    </tr>\n",
       "  </thead>\n",
       "  <tbody>\n",
       "    <tr>\n",
       "      <th>0</th>\n",
       "      <td>baseline</td>\n",
       "      <td>80.85</td>\n",
       "      <td>81.50</td>\n",
       "      <td>75.57</td>\n",
       "      <td>69.51</td>\n",
       "      <td>0.061</td>\n",
       "    </tr>\n",
       "    <tr>\n",
       "      <th>1</th>\n",
       "      <td>vgg16_baseline</td>\n",
       "      <td>84.31</td>\n",
       "      <td>81.64</td>\n",
       "      <td>79.57</td>\n",
       "      <td>79.91</td>\n",
       "      <td>0.005</td>\n",
       "    </tr>\n",
       "    <tr>\n",
       "      <th>2</th>\n",
       "      <td>vgg16_d_aug</td>\n",
       "      <td>81.35</td>\n",
       "      <td>79.13</td>\n",
       "      <td>79.15</td>\n",
       "      <td>79.54</td>\n",
       "      <td>0.004</td>\n",
       "    </tr>\n",
       "    <tr>\n",
       "      <th>3</th>\n",
       "      <td>vgg16_d_aug_w_auto</td>\n",
       "      <td>81.55</td>\n",
       "      <td>79.64</td>\n",
       "      <td>79.61</td>\n",
       "      <td>81.05</td>\n",
       "      <td>0.001</td>\n",
       "    </tr>\n",
       "    <tr>\n",
       "      <th>4</th>\n",
       "      <td>vgg16_d_aug_w_auto_ft</td>\n",
       "      <td>86.80</td>\n",
       "      <td>81.05</td>\n",
       "      <td>79.97</td>\n",
       "      <td>80.35</td>\n",
       "      <td>0.002</td>\n",
       "    </tr>\n",
       "    <tr>\n",
       "      <th>5</th>\n",
       "      <td>vgg16_d_aug_gauss</td>\n",
       "      <td>78.00</td>\n",
       "      <td>78.13</td>\n",
       "      <td>76.07</td>\n",
       "      <td>77.95</td>\n",
       "      <td>0.095</td>\n",
       "    </tr>\n",
       "    <tr>\n",
       "      <th>6</th>\n",
       "      <td>vgg16_d_aug_w_auto_gauss</td>\n",
       "      <td>79.55</td>\n",
       "      <td>77.62</td>\n",
       "      <td>77.50</td>\n",
       "      <td>78.15</td>\n",
       "      <td>0.007</td>\n",
       "    </tr>\n",
       "    <tr>\n",
       "      <th>7</th>\n",
       "      <td>vgg16_d_aug_w_auto_ft</td>\n",
       "      <td>79.70</td>\n",
       "      <td>79.33</td>\n",
       "      <td>78.75</td>\n",
       "      <td>79.67</td>\n",
       "      <td>0.087</td>\n",
       "    </tr>\n",
       "  </tbody>\n",
       "</table>\n",
       "</div>"
      ],
      "text/plain": [
       "                     models  max_acc  val_acc  acc_min_diff_loss  \\\n",
       "0                  baseline    80.85    81.50              75.57   \n",
       "1            vgg16_baseline    84.31    81.64              79.57   \n",
       "2               vgg16_d_aug    81.35    79.13              79.15   \n",
       "3        vgg16_d_aug_w_auto    81.55    79.64              79.61   \n",
       "4     vgg16_d_aug_w_auto_ft    86.80    81.05              79.97   \n",
       "5         vgg16_d_aug_gauss    78.00    78.13              76.07   \n",
       "6  vgg16_d_aug_w_auto_gauss    79.55    77.62              77.50   \n",
       "7     vgg16_d_aug_w_auto_ft    79.70    79.33              78.75   \n",
       "\n",
       "   val_acc_min_diff_loss  diff_loss  \n",
       "0                  69.51      0.061  \n",
       "1                  79.91      0.005  \n",
       "2                  79.54      0.004  \n",
       "3                  81.05      0.001  \n",
       "4                  80.35      0.002  \n",
       "5                  77.95      0.095  \n",
       "6                  78.15      0.007  \n",
       "7                  79.67      0.087  "
      ]
     },
     "execution_count": 56,
     "metadata": {},
     "output_type": "execute_result"
    }
   ],
   "source": [
    "df = pd.DataFrame(data = {'models':['baseline','vgg16_baseline','vgg16_d_aug','vgg16_d_aug_w_auto',\n",
    "                                    'vgg16_d_aug_w_auto_ft','vgg16_d_aug_gauss','vgg16_d_aug_w_auto_gauss',\n",
    "                                   'vgg16_d_aug_w_auto_ft'], \n",
    "                          'max_acc':[80.85,84.31, 81.35, 81.55,86.8, 78.00, 79.55, 79.70], \n",
    "                          'val_acc':[81.50,81.64,79.13, 79.64, 81.05, 78.13, 77.62, 79.33], \n",
    "                          'acc_min_diff_loss':[75.57,79.57, 79.15, 79.61,79.97, 76.07,77.50, 78.75], \n",
    "                          'val_acc_min_diff_loss':[69.51,79.91, 79.54, 81.05, 80.35, 77.95, 78.15, 79.67],\n",
    "                          'diff_loss':[0.061,0.005,0.004,0.001,0.002, 0.095, 0.007,0.087]})\n",
    "df"
   ]
  },
  {
   "cell_type": "code",
   "execution_count": 57,
   "metadata": {
    "ExecuteTime": {
     "end_time": "2019-11-14T15:40:36.314254Z",
     "start_time": "2019-11-14T15:40:36.298297Z"
    },
    "scrolled": true
   },
   "outputs": [
    {
     "data": {
      "text/html": [
       "<div>\n",
       "<style scoped>\n",
       "    .dataframe tbody tr th:only-of-type {\n",
       "        vertical-align: middle;\n",
       "    }\n",
       "\n",
       "    .dataframe tbody tr th {\n",
       "        vertical-align: top;\n",
       "    }\n",
       "\n",
       "    .dataframe thead th {\n",
       "        text-align: right;\n",
       "    }\n",
       "</style>\n",
       "<table border=\"1\" class=\"dataframe\">\n",
       "  <thead>\n",
       "    <tr style=\"text-align: right;\">\n",
       "      <th></th>\n",
       "      <th>models</th>\n",
       "      <th>max_acc</th>\n",
       "      <th>val_acc</th>\n",
       "      <th>acc_min_diff_loss</th>\n",
       "      <th>val_acc_min_diff_loss</th>\n",
       "      <th>diff_loss</th>\n",
       "    </tr>\n",
       "  </thead>\n",
       "  <tbody>\n",
       "    <tr>\n",
       "      <th>4</th>\n",
       "      <td>vgg16_d_aug_w_auto_ft</td>\n",
       "      <td>86.80</td>\n",
       "      <td>81.05</td>\n",
       "      <td>79.97</td>\n",
       "      <td>80.35</td>\n",
       "      <td>0.002</td>\n",
       "    </tr>\n",
       "    <tr>\n",
       "      <th>1</th>\n",
       "      <td>vgg16_baseline</td>\n",
       "      <td>84.31</td>\n",
       "      <td>81.64</td>\n",
       "      <td>79.57</td>\n",
       "      <td>79.91</td>\n",
       "      <td>0.005</td>\n",
       "    </tr>\n",
       "    <tr>\n",
       "      <th>3</th>\n",
       "      <td>vgg16_d_aug_w_auto</td>\n",
       "      <td>81.55</td>\n",
       "      <td>79.64</td>\n",
       "      <td>79.61</td>\n",
       "      <td>81.05</td>\n",
       "      <td>0.001</td>\n",
       "    </tr>\n",
       "    <tr>\n",
       "      <th>2</th>\n",
       "      <td>vgg16_d_aug</td>\n",
       "      <td>81.35</td>\n",
       "      <td>79.13</td>\n",
       "      <td>79.15</td>\n",
       "      <td>79.54</td>\n",
       "      <td>0.004</td>\n",
       "    </tr>\n",
       "    <tr>\n",
       "      <th>0</th>\n",
       "      <td>baseline</td>\n",
       "      <td>80.85</td>\n",
       "      <td>81.50</td>\n",
       "      <td>75.57</td>\n",
       "      <td>69.51</td>\n",
       "      <td>0.061</td>\n",
       "    </tr>\n",
       "    <tr>\n",
       "      <th>7</th>\n",
       "      <td>vgg16_d_aug_w_auto_ft</td>\n",
       "      <td>79.70</td>\n",
       "      <td>79.33</td>\n",
       "      <td>78.75</td>\n",
       "      <td>79.67</td>\n",
       "      <td>0.087</td>\n",
       "    </tr>\n",
       "    <tr>\n",
       "      <th>6</th>\n",
       "      <td>vgg16_d_aug_w_auto_gauss</td>\n",
       "      <td>79.55</td>\n",
       "      <td>77.62</td>\n",
       "      <td>77.50</td>\n",
       "      <td>78.15</td>\n",
       "      <td>0.007</td>\n",
       "    </tr>\n",
       "    <tr>\n",
       "      <th>5</th>\n",
       "      <td>vgg16_d_aug_gauss</td>\n",
       "      <td>78.00</td>\n",
       "      <td>78.13</td>\n",
       "      <td>76.07</td>\n",
       "      <td>77.95</td>\n",
       "      <td>0.095</td>\n",
       "    </tr>\n",
       "  </tbody>\n",
       "</table>\n",
       "</div>"
      ],
      "text/plain": [
       "                     models  max_acc  val_acc  acc_min_diff_loss  \\\n",
       "4     vgg16_d_aug_w_auto_ft    86.80    81.05              79.97   \n",
       "1            vgg16_baseline    84.31    81.64              79.57   \n",
       "3        vgg16_d_aug_w_auto    81.55    79.64              79.61   \n",
       "2               vgg16_d_aug    81.35    79.13              79.15   \n",
       "0                  baseline    80.85    81.50              75.57   \n",
       "7     vgg16_d_aug_w_auto_ft    79.70    79.33              78.75   \n",
       "6  vgg16_d_aug_w_auto_gauss    79.55    77.62              77.50   \n",
       "5         vgg16_d_aug_gauss    78.00    78.13              76.07   \n",
       "\n",
       "   val_acc_min_diff_loss  diff_loss  \n",
       "4                  80.35      0.002  \n",
       "1                  79.91      0.005  \n",
       "3                  81.05      0.001  \n",
       "2                  79.54      0.004  \n",
       "0                  69.51      0.061  \n",
       "7                  79.67      0.087  \n",
       "6                  78.15      0.007  \n",
       "5                  77.95      0.095  "
      ]
     },
     "execution_count": 57,
     "metadata": {},
     "output_type": "execute_result"
    }
   ],
   "source": [
    "df.sort_values(['max_acc'], ascending=False)"
   ]
  },
  {
   "cell_type": "code",
   "execution_count": 58,
   "metadata": {
    "ExecuteTime": {
     "end_time": "2019-11-14T15:40:37.018467Z",
     "start_time": "2019-11-14T15:40:37.005501Z"
    }
   },
   "outputs": [
    {
     "data": {
      "text/html": [
       "<div>\n",
       "<style scoped>\n",
       "    .dataframe tbody tr th:only-of-type {\n",
       "        vertical-align: middle;\n",
       "    }\n",
       "\n",
       "    .dataframe tbody tr th {\n",
       "        vertical-align: top;\n",
       "    }\n",
       "\n",
       "    .dataframe thead th {\n",
       "        text-align: right;\n",
       "    }\n",
       "</style>\n",
       "<table border=\"1\" class=\"dataframe\">\n",
       "  <thead>\n",
       "    <tr style=\"text-align: right;\">\n",
       "      <th></th>\n",
       "      <th>models</th>\n",
       "      <th>max_acc</th>\n",
       "      <th>val_acc</th>\n",
       "      <th>acc_min_diff_loss</th>\n",
       "      <th>val_acc_min_diff_loss</th>\n",
       "      <th>diff_loss</th>\n",
       "    </tr>\n",
       "  </thead>\n",
       "  <tbody>\n",
       "    <tr>\n",
       "      <th>3</th>\n",
       "      <td>vgg16_d_aug_w_auto</td>\n",
       "      <td>81.55</td>\n",
       "      <td>79.64</td>\n",
       "      <td>79.61</td>\n",
       "      <td>81.05</td>\n",
       "      <td>0.001</td>\n",
       "    </tr>\n",
       "    <tr>\n",
       "      <th>4</th>\n",
       "      <td>vgg16_d_aug_w_auto_ft</td>\n",
       "      <td>86.80</td>\n",
       "      <td>81.05</td>\n",
       "      <td>79.97</td>\n",
       "      <td>80.35</td>\n",
       "      <td>0.002</td>\n",
       "    </tr>\n",
       "    <tr>\n",
       "      <th>1</th>\n",
       "      <td>vgg16_baseline</td>\n",
       "      <td>84.31</td>\n",
       "      <td>81.64</td>\n",
       "      <td>79.57</td>\n",
       "      <td>79.91</td>\n",
       "      <td>0.005</td>\n",
       "    </tr>\n",
       "    <tr>\n",
       "      <th>7</th>\n",
       "      <td>vgg16_d_aug_w_auto_ft</td>\n",
       "      <td>79.70</td>\n",
       "      <td>79.33</td>\n",
       "      <td>78.75</td>\n",
       "      <td>79.67</td>\n",
       "      <td>0.087</td>\n",
       "    </tr>\n",
       "    <tr>\n",
       "      <th>2</th>\n",
       "      <td>vgg16_d_aug</td>\n",
       "      <td>81.35</td>\n",
       "      <td>79.13</td>\n",
       "      <td>79.15</td>\n",
       "      <td>79.54</td>\n",
       "      <td>0.004</td>\n",
       "    </tr>\n",
       "    <tr>\n",
       "      <th>6</th>\n",
       "      <td>vgg16_d_aug_w_auto_gauss</td>\n",
       "      <td>79.55</td>\n",
       "      <td>77.62</td>\n",
       "      <td>77.50</td>\n",
       "      <td>78.15</td>\n",
       "      <td>0.007</td>\n",
       "    </tr>\n",
       "    <tr>\n",
       "      <th>5</th>\n",
       "      <td>vgg16_d_aug_gauss</td>\n",
       "      <td>78.00</td>\n",
       "      <td>78.13</td>\n",
       "      <td>76.07</td>\n",
       "      <td>77.95</td>\n",
       "      <td>0.095</td>\n",
       "    </tr>\n",
       "    <tr>\n",
       "      <th>0</th>\n",
       "      <td>baseline</td>\n",
       "      <td>80.85</td>\n",
       "      <td>81.50</td>\n",
       "      <td>75.57</td>\n",
       "      <td>69.51</td>\n",
       "      <td>0.061</td>\n",
       "    </tr>\n",
       "  </tbody>\n",
       "</table>\n",
       "</div>"
      ],
      "text/plain": [
       "                     models  max_acc  val_acc  acc_min_diff_loss  \\\n",
       "3        vgg16_d_aug_w_auto    81.55    79.64              79.61   \n",
       "4     vgg16_d_aug_w_auto_ft    86.80    81.05              79.97   \n",
       "1            vgg16_baseline    84.31    81.64              79.57   \n",
       "7     vgg16_d_aug_w_auto_ft    79.70    79.33              78.75   \n",
       "2               vgg16_d_aug    81.35    79.13              79.15   \n",
       "6  vgg16_d_aug_w_auto_gauss    79.55    77.62              77.50   \n",
       "5         vgg16_d_aug_gauss    78.00    78.13              76.07   \n",
       "0                  baseline    80.85    81.50              75.57   \n",
       "\n",
       "   val_acc_min_diff_loss  diff_loss  \n",
       "3                  81.05      0.001  \n",
       "4                  80.35      0.002  \n",
       "1                  79.91      0.005  \n",
       "7                  79.67      0.087  \n",
       "2                  79.54      0.004  \n",
       "6                  78.15      0.007  \n",
       "5                  77.95      0.095  \n",
       "0                  69.51      0.061  "
      ]
     },
     "execution_count": 58,
     "metadata": {},
     "output_type": "execute_result"
    }
   ],
   "source": [
    "df.sort_values(['val_acc_min_diff_loss'], ascending=False)"
   ]
  },
  {
   "cell_type": "markdown",
   "metadata": {},
   "source": [
    "The results show that inserting a Gaussian noise layer between 2 dense layers didn't improve results considering accuracy and the absolute difference of loss between train and validation datasets."
   ]
  }
 ],
 "metadata": {
  "hide_input": false,
  "kernelspec": {
   "display_name": "Python 3",
   "language": "python",
   "name": "python3"
  },
  "language_info": {
   "codemirror_mode": {
    "name": "ipython",
    "version": 3
   },
   "file_extension": ".py",
   "mimetype": "text/x-python",
   "name": "python",
   "nbconvert_exporter": "python",
   "pygments_lexer": "ipython3",
   "version": "3.7.2"
  },
  "toc": {
   "base_numbering": 1,
   "nav_menu": {},
   "number_sections": true,
   "sideBar": true,
   "skip_h1_title": false,
   "title_cell": "Table of Contents",
   "title_sidebar": "Contents",
   "toc_cell": false,
   "toc_position": {
    "height": "calc(100% - 180px)",
    "left": "10px",
    "top": "150px",
    "width": "287.4px"
   },
   "toc_section_display": true,
   "toc_window_display": true
  },
  "varInspector": {
   "cols": {
    "lenName": 16,
    "lenType": 16,
    "lenVar": 40
   },
   "kernels_config": {
    "python": {
     "delete_cmd_postfix": "",
     "delete_cmd_prefix": "del ",
     "library": "var_list.py",
     "varRefreshCmd": "print(var_dic_list())"
    },
    "r": {
     "delete_cmd_postfix": ") ",
     "delete_cmd_prefix": "rm(",
     "library": "var_list.r",
     "varRefreshCmd": "cat(var_dic_list()) "
    }
   },
   "types_to_exclude": [
    "module",
    "function",
    "builtin_function_or_method",
    "instance",
    "_Feature"
   ],
   "window_display": false
  }
 },
 "nbformat": 4,
 "nbformat_minor": 2
}
