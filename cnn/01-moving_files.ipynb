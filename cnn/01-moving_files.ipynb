{
 "cells": [
  {
   "cell_type": "markdown",
   "metadata": {},
   "source": [
    "In this notebook:\n",
    "\n",
    "- Night images are separated from daytime image based on time (extracted from the name of the files)\n",
    "- Name and labels associated with daytime images are saved in a .csv file\n",
    "- Daytime images are split in SIM and NAO images by saving them in folders with these names\n",
    "\n",
    "Separating daytime and night images by hour is a simple but not perfect way. There were some images at 19:00 that were sent to night_images folder. The amount of images that were looking day images and sent to night_images was too little which justify still using this approach. For future a better method can be applied.\n"
   ]
  },
  {
   "cell_type": "code",
   "execution_count": 1,
   "metadata": {
    "ExecuteTime": {
     "end_time": "2019-12-14T12:54:30.900840Z",
     "start_time": "2019-12-14T12:54:30.896852Z"
    }
   },
   "outputs": [],
   "source": [
    "# folder where images are kept\n",
    "\n",
    "images_folder = \"../data/TTG_TUR/\""
   ]
  },
  {
   "cell_type": "code",
   "execution_count": 2,
   "metadata": {
    "ExecuteTime": {
     "end_time": "2019-12-14T12:54:30.919823Z",
     "start_time": "2019-12-14T12:54:30.903833Z"
    }
   },
   "outputs": [],
   "source": [
    "import os\n",
    "import glob\n",
    "import shutil\n",
    "\n",
    "def split_morning_night_images(images_folder = os.getcwd()):\n",
    "    \"\"\" Move night images (after 18:00 and before 05:00) \n",
    "    to another folder \n",
    "    \n",
    "    Input: \n",
    "        - images_folder: Path of image files. If not especified is saved in current directory.\n",
    "    \n",
    "    \"\"\"\n",
    "\n",
    "    # make a directory to keep night images\n",
    "\n",
    "    dir_name =  images_folder + '/night_images/'\n",
    "    print(dir_name)\n",
    "\n",
    "    if not os.path.exists(dir_name):\n",
    "        os.mkdir(dir_name)\n",
    "        \n",
    "    # move night files to the new directory\n",
    "    \n",
    "    for file_path in glob.glob(images_folder+'*.jpeg'):\n",
    "        if (int(file_path.split(' ')[-1].split('-')[0]) >18) or (int(file_path.split(' ')[-1].split('-')[0]) <5):  \n",
    "            filename = file_path.split('\\\\')[-1]\n",
    "            shutil.move(images_folder+'/'+filename, dir_name+'/'+filename)"
   ]
  },
  {
   "cell_type": "code",
   "execution_count": 3,
   "metadata": {
    "ExecuteTime": {
     "end_time": "2019-12-14T12:54:32.319059Z",
     "start_time": "2019-12-14T12:54:30.921784Z"
    }
   },
   "outputs": [
    {
     "name": "stdout",
     "output_type": "stream",
     "text": [
      "../data/TTG_TUR//night_images/\n"
     ]
    }
   ],
   "source": [
    "# saving night images in another folder \n",
    "\n",
    "split_morning_night_images(images_folder)"
   ]
  },
  {
   "cell_type": "code",
   "execution_count": 4,
   "metadata": {
    "ExecuteTime": {
     "end_time": "2019-12-14T12:54:34.044601Z",
     "start_time": "2019-12-14T12:54:32.321043Z"
    }
   },
   "outputs": [],
   "source": [
    "import pandas as pd\n",
    "\n",
    "def create_dataframe_morning_images(output_folder, images_folder = os.getcwd()):\n",
    "    \"\"\" Create a dataframe with name of daytime images and the labels 1 = 'SIM' and 0 = 'NAO' \n",
    "    based on the name of the image\n",
    "    \n",
    "    Input: \n",
    "        - output_folder: path of folder to save .csv file with information about daytime images.\n",
    "        - images_folder: Path of image files. If not especified is saved in current directory.\n",
    "    \n",
    "    Output: \n",
    "        - .csv file : with information about daytime images.\n",
    "        - dataframe with information about daytime images.\n",
    "    \"\"\"\n",
    "    \n",
    "    filename = []\n",
    "    labels = []\n",
    "    \n",
    "    for file_path in glob.glob(images_folder+'*.jpeg'):\n",
    "        if (int(file_path.split(' ')[-1].split('-')[0]) <= 18) or (int(file_path.split(' ')[-1].split('-')[0]) >= 5):  \n",
    "            filename.append(file_path.split('.')[-2].split('\\\\')[-1]) \n",
    "            labels.append(file_path.split('.')[-2].split('\\\\')[-1].split('_')[-1])\n",
    "            \n",
    "    labels = [1 if label == 'SIM' else 0 for label in labels ]\n",
    "    dict_images = {'image_name':filename, 'label':labels}\n",
    "    \n",
    "    # save in .csv\n",
    "    \n",
    "    df = pd.DataFrame(dict_images)\n",
    "    \n",
    "    df.to_csv(output_folder+\"info_day_images.csv\", index = False)\n",
    "    \n",
    "    return df\n"
   ]
  },
  {
   "cell_type": "code",
   "execution_count": 5,
   "metadata": {
    "ExecuteTime": {
     "end_time": "2019-12-14T12:54:34.055480Z",
     "start_time": "2019-12-14T12:54:34.044601Z"
    }
   },
   "outputs": [],
   "source": [
    "# folder to save the .csv file\n",
    "\n",
    "output_folder = \"../data/\""
   ]
  },
  {
   "cell_type": "code",
   "execution_count": 6,
   "metadata": {
    "ExecuteTime": {
     "end_time": "2019-12-14T12:54:34.157205Z",
     "start_time": "2019-12-14T12:54:34.059471Z"
    },
    "scrolled": true
   },
   "outputs": [
    {
     "data": {
      "text/html": [
       "<div>\n",
       "<style scoped>\n",
       "    .dataframe tbody tr th:only-of-type {\n",
       "        vertical-align: middle;\n",
       "    }\n",
       "\n",
       "    .dataframe tbody tr th {\n",
       "        vertical-align: top;\n",
       "    }\n",
       "\n",
       "    .dataframe thead th {\n",
       "        text-align: right;\n",
       "    }\n",
       "</style>\n",
       "<table border=\"1\" class=\"dataframe\">\n",
       "  <thead>\n",
       "    <tr style=\"text-align: right;\">\n",
       "      <th></th>\n",
       "      <th>image_name</th>\n",
       "      <th>label</th>\n",
       "    </tr>\n",
       "  </thead>\n",
       "  <tbody>\n",
       "    <tr>\n",
       "      <th>0</th>\n",
       "      <td>2017-12-12 11-53-41_SIM</td>\n",
       "      <td>1</td>\n",
       "    </tr>\n",
       "    <tr>\n",
       "      <th>1</th>\n",
       "      <td>2017-12-12 11-54-05_NAO</td>\n",
       "      <td>0</td>\n",
       "    </tr>\n",
       "    <tr>\n",
       "      <th>2</th>\n",
       "      <td>2017-12-12 11-54-15_SIM</td>\n",
       "      <td>1</td>\n",
       "    </tr>\n",
       "    <tr>\n",
       "      <th>3</th>\n",
       "      <td>2017-12-12 11-55-28_SIM</td>\n",
       "      <td>1</td>\n",
       "    </tr>\n",
       "    <tr>\n",
       "      <th>4</th>\n",
       "      <td>2017-12-12 11-56-30_NAO</td>\n",
       "      <td>0</td>\n",
       "    </tr>\n",
       "    <tr>\n",
       "      <th>...</th>\n",
       "      <td>...</td>\n",
       "      <td>...</td>\n",
       "    </tr>\n",
       "    <tr>\n",
       "      <th>6320</th>\n",
       "      <td>2019-09-23 07-26-55_SIM</td>\n",
       "      <td>1</td>\n",
       "    </tr>\n",
       "    <tr>\n",
       "      <th>6321</th>\n",
       "      <td>2019-09-23 07-26-57_SIM</td>\n",
       "      <td>1</td>\n",
       "    </tr>\n",
       "    <tr>\n",
       "      <th>6322</th>\n",
       "      <td>2019-09-23 07-28-24_SIM</td>\n",
       "      <td>1</td>\n",
       "    </tr>\n",
       "    <tr>\n",
       "      <th>6323</th>\n",
       "      <td>2019-09-23 07-35-16_SIM</td>\n",
       "      <td>1</td>\n",
       "    </tr>\n",
       "    <tr>\n",
       "      <th>6324</th>\n",
       "      <td>2019-09-23 07-36-19_SIM</td>\n",
       "      <td>1</td>\n",
       "    </tr>\n",
       "  </tbody>\n",
       "</table>\n",
       "<p>6325 rows × 2 columns</p>\n",
       "</div>"
      ],
      "text/plain": [
       "                   image_name  label\n",
       "0     2017-12-12 11-53-41_SIM      1\n",
       "1     2017-12-12 11-54-05_NAO      0\n",
       "2     2017-12-12 11-54-15_SIM      1\n",
       "3     2017-12-12 11-55-28_SIM      1\n",
       "4     2017-12-12 11-56-30_NAO      0\n",
       "...                       ...    ...\n",
       "6320  2019-09-23 07-26-55_SIM      1\n",
       "6321  2019-09-23 07-26-57_SIM      1\n",
       "6322  2019-09-23 07-28-24_SIM      1\n",
       "6323  2019-09-23 07-35-16_SIM      1\n",
       "6324  2019-09-23 07-36-19_SIM      1\n",
       "\n",
       "[6325 rows x 2 columns]"
      ]
     },
     "execution_count": 6,
     "metadata": {},
     "output_type": "execute_result"
    }
   ],
   "source": [
    "# creating a dataframe with daytime images and labels based on the name of the files, i.e. 'SIM'=1 and 'NAO'=0 \n",
    "# which indicate firebreak\n",
    "\n",
    "create_dataframe_morning_images(output_folder, images_folder = images_folder)"
   ]
  },
  {
   "cell_type": "code",
   "execution_count": 8,
   "metadata": {
    "ExecuteTime": {
     "end_time": "2019-12-14T12:54:53.068020Z",
     "start_time": "2019-12-14T12:54:53.040094Z"
    }
   },
   "outputs": [
    {
     "data": {
      "text/html": [
       "<div>\n",
       "<style scoped>\n",
       "    .dataframe tbody tr th:only-of-type {\n",
       "        vertical-align: middle;\n",
       "    }\n",
       "\n",
       "    .dataframe tbody tr th {\n",
       "        vertical-align: top;\n",
       "    }\n",
       "\n",
       "    .dataframe thead th {\n",
       "        text-align: right;\n",
       "    }\n",
       "</style>\n",
       "<table border=\"1\" class=\"dataframe\">\n",
       "  <thead>\n",
       "    <tr style=\"text-align: right;\">\n",
       "      <th></th>\n",
       "      <th>image_name</th>\n",
       "      <th>label</th>\n",
       "    </tr>\n",
       "  </thead>\n",
       "  <tbody>\n",
       "    <tr>\n",
       "      <th>0</th>\n",
       "      <td>2017-12-12 11-53-41_SIM</td>\n",
       "      <td>1</td>\n",
       "    </tr>\n",
       "    <tr>\n",
       "      <th>1</th>\n",
       "      <td>2017-12-12 11-54-05_NAO</td>\n",
       "      <td>0</td>\n",
       "    </tr>\n",
       "    <tr>\n",
       "      <th>2</th>\n",
       "      <td>2017-12-12 11-54-15_SIM</td>\n",
       "      <td>1</td>\n",
       "    </tr>\n",
       "    <tr>\n",
       "      <th>3</th>\n",
       "      <td>2017-12-12 11-55-28_SIM</td>\n",
       "      <td>1</td>\n",
       "    </tr>\n",
       "    <tr>\n",
       "      <th>4</th>\n",
       "      <td>2017-12-12 11-56-30_NAO</td>\n",
       "      <td>0</td>\n",
       "    </tr>\n",
       "    <tr>\n",
       "      <th>...</th>\n",
       "      <td>...</td>\n",
       "      <td>...</td>\n",
       "    </tr>\n",
       "    <tr>\n",
       "      <th>6320</th>\n",
       "      <td>2019-09-23 07-26-55_SIM</td>\n",
       "      <td>1</td>\n",
       "    </tr>\n",
       "    <tr>\n",
       "      <th>6321</th>\n",
       "      <td>2019-09-23 07-26-57_SIM</td>\n",
       "      <td>1</td>\n",
       "    </tr>\n",
       "    <tr>\n",
       "      <th>6322</th>\n",
       "      <td>2019-09-23 07-28-24_SIM</td>\n",
       "      <td>1</td>\n",
       "    </tr>\n",
       "    <tr>\n",
       "      <th>6323</th>\n",
       "      <td>2019-09-23 07-35-16_SIM</td>\n",
       "      <td>1</td>\n",
       "    </tr>\n",
       "    <tr>\n",
       "      <th>6324</th>\n",
       "      <td>2019-09-23 07-36-19_SIM</td>\n",
       "      <td>1</td>\n",
       "    </tr>\n",
       "  </tbody>\n",
       "</table>\n",
       "<p>6325 rows × 2 columns</p>\n",
       "</div>"
      ],
      "text/plain": [
       "                   image_name  label\n",
       "0     2017-12-12 11-53-41_SIM      1\n",
       "1     2017-12-12 11-54-05_NAO      0\n",
       "2     2017-12-12 11-54-15_SIM      1\n",
       "3     2017-12-12 11-55-28_SIM      1\n",
       "4     2017-12-12 11-56-30_NAO      0\n",
       "...                       ...    ...\n",
       "6320  2019-09-23 07-26-55_SIM      1\n",
       "6321  2019-09-23 07-26-57_SIM      1\n",
       "6322  2019-09-23 07-28-24_SIM      1\n",
       "6323  2019-09-23 07-35-16_SIM      1\n",
       "6324  2019-09-23 07-36-19_SIM      1\n",
       "\n",
       "[6325 rows x 2 columns]"
      ]
     },
     "execution_count": 8,
     "metadata": {},
     "output_type": "execute_result"
    }
   ],
   "source": [
    "# testing opening df\n",
    "\n",
    "df = pd.read_csv(output_folder+\"info_day_images.csv\")\n",
    "df"
   ]
  },
  {
   "cell_type": "code",
   "execution_count": 9,
   "metadata": {
    "ExecuteTime": {
     "end_time": "2019-12-14T12:54:54.264749Z",
     "start_time": "2019-12-14T12:54:54.256971Z"
    }
   },
   "outputs": [],
   "source": [
    "import os\n",
    "import glob\n",
    "import shutil\n",
    "\n",
    "def split_SIM_NAO_images(images_folder = os.getcwd()):\n",
    "\n",
    "    \"\"\" Move files from image_folder to subfolders based on the name of the files.\n",
    "    \n",
    "    Input: \n",
    "        - images_folder: Path of image files. If not especified is saved in current directory.\n",
    "    \n",
    "    \"\"\"\n",
    "\n",
    "    for file_path in glob.glob(images_folder + '*.jpeg'):\n",
    "    \n",
    "        dir_name = file_path.split('.')[-2].split('\\\\')[-1].split('_')[-1]\n",
    "        filename = file_path.split('\\\\')[-1]\n",
    "    \n",
    "        if not os.path.exists(images_folder+'/'+dir_name):\n",
    "            os.mkdir(images_folder+'/'+dir_name)\n",
    "    \n",
    "        shutil.move(images_folder+'/'+filename, images_folder+'/'+dir_name+'/'+filename)"
   ]
  },
  {
   "cell_type": "code",
   "execution_count": 10,
   "metadata": {
    "ExecuteTime": {
     "end_time": "2019-12-14T12:55:03.811321Z",
     "start_time": "2019-12-14T12:54:55.542531Z"
    }
   },
   "outputs": [],
   "source": [
    "# split daytime images in folders SIM and NAO based on the name of the file\n",
    "split_SIM_NAO_images(images_folder)"
   ]
  }
 ],
 "metadata": {
  "hide_input": false,
  "kernelspec": {
   "display_name": "Python 3",
   "language": "python",
   "name": "python3"
  },
  "language_info": {
   "codemirror_mode": {
    "name": "ipython",
    "version": 3
   },
   "file_extension": ".py",
   "mimetype": "text/x-python",
   "name": "python",
   "nbconvert_exporter": "python",
   "pygments_lexer": "ipython3",
   "version": "3.7.2"
  },
  "toc": {
   "base_numbering": 1,
   "nav_menu": {},
   "number_sections": true,
   "sideBar": true,
   "skip_h1_title": false,
   "title_cell": "Table of Contents",
   "title_sidebar": "Contents",
   "toc_cell": false,
   "toc_position": {},
   "toc_section_display": true,
   "toc_window_display": false
  },
  "varInspector": {
   "cols": {
    "lenName": 16,
    "lenType": 16,
    "lenVar": 40
   },
   "kernels_config": {
    "python": {
     "delete_cmd_postfix": "",
     "delete_cmd_prefix": "del ",
     "library": "var_list.py",
     "varRefreshCmd": "print(var_dic_list())"
    },
    "r": {
     "delete_cmd_postfix": ") ",
     "delete_cmd_prefix": "rm(",
     "library": "var_list.r",
     "varRefreshCmd": "cat(var_dic_list()) "
    }
   },
   "types_to_exclude": [
    "module",
    "function",
    "builtin_function_or_method",
    "instance",
    "_Feature"
   ],
   "window_display": false
  }
 },
 "nbformat": 4,
 "nbformat_minor": 2
}
