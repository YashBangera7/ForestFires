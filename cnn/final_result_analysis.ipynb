{
 "cells": [
  {
   "cell_type": "markdown",
   "metadata": {},
   "source": [
    "# Import history models"
   ]
  },
  {
   "cell_type": "code",
   "execution_count": 1,
   "metadata": {
    "ExecuteTime": {
     "end_time": "2019-11-30T18:43:54.175850Z",
     "start_time": "2019-11-30T18:43:54.169566Z"
    }
   },
   "outputs": [],
   "source": [
    "folder = '../history/'"
   ]
  },
  {
   "cell_type": "code",
   "execution_count": 2,
   "metadata": {
    "ExecuteTime": {
     "end_time": "2019-11-30T18:43:54.946710Z",
     "start_time": "2019-11-30T18:43:54.178534Z"
    }
   },
   "outputs": [],
   "source": [
    "import pandas as pd\n",
    "import time\n",
    "import os\n",
    "import glob\n",
    "\n",
    "def add_info(df,csv_file):\n",
    "    \n",
    "    df['diff_loss'] = abs(df['loss']-df['val_loss'])\n",
    "    df['diff_acc'] = abs(df['acc']-df['val_acc'])\n",
    "    df.rename(columns={'acc':'train_acc','loss':'train_loss'},inplace = True)\n",
    "    df['model'] = csv_file.split('\\\\')[-1].split('_')[0]\n",
    "    df['approach'] = ' '.join(csv_file.split('\\\\')[-1].split('_')[3:-1])\n",
    "    df = df[['model','approach','train_acc', 'train_loss', 'val_acc', 'val_loss', 'diff_loss', 'diff_acc']]\n",
    "    \n",
    "    return df\n",
    "\n",
    "def concatenate_csv(files_folder = os.getcwd()):\n",
    "\n",
    "    # finding all .csv files in files_folder\n",
    "\n",
    "    csv_files = glob.glob(files_folder + '*.csv')\n",
    "\n",
    "    # reading csv and making a list of files to concatenate\n",
    "\n",
    "    list_csv_files = []\n",
    "\n",
    "    for csv_file in csv_files:\n",
    "    \n",
    "        df = pd.read_csv(csv_file,error_bad_lines=False,low_memory = False)\n",
    "        \n",
    "        df = add_info(df,csv_file)\n",
    "        \n",
    "        list_csv_files.append(df)\n",
    "        \n",
    "    # concatenating dataframes\n",
    "\n",
    "    df_concat = pd.concat(list_csv_files,axis=0,ignore_index=True)\n",
    "        \n",
    "    # Saving the dataframe of concatenated dataframes \n",
    "    \n",
    "    folder_result = files_folder + '/result/'\n",
    "\n",
    "    if not os.path.exists(folder_result):\n",
    "        os.mkdir(folder_result)\n",
    "\n",
    "    TodaysDate = time.strftime(\"%d-%m-%Y\")\n",
    "    filename = \"results_\"+TodaysDate +\".csv\"\n",
    "    df_concat.to_csv(folder_result+filename,index = False)\n",
    "    \n",
    "    return df_concat"
   ]
  },
  {
   "cell_type": "code",
   "execution_count": 3,
   "metadata": {
    "ExecuteTime": {
     "end_time": "2019-11-30T18:43:55.326010Z",
     "start_time": "2019-11-30T18:43:54.947707Z"
    }
   },
   "outputs": [],
   "source": [
    "df_results = concatenate_csv(folder)"
   ]
  },
  {
   "cell_type": "markdown",
   "metadata": {},
   "source": [
    "# Analyse results"
   ]
  },
  {
   "cell_type": "code",
   "execution_count": 4,
   "metadata": {
    "ExecuteTime": {
     "end_time": "2019-11-30T18:43:55.352927Z",
     "start_time": "2019-11-30T18:43:55.326010Z"
    }
   },
   "outputs": [
    {
     "name": "stdout",
     "output_type": "stream",
     "text": [
      "<class 'pandas.core.frame.DataFrame'>\n",
      "RangeIndex: 303 entries, 0 to 302\n",
      "Data columns (total 8 columns):\n",
      "model         303 non-null object\n",
      "approach      303 non-null object\n",
      "train_acc     303 non-null float64\n",
      "train_loss    303 non-null float64\n",
      "val_acc       303 non-null float64\n",
      "val_loss      303 non-null float64\n",
      "diff_loss     303 non-null float64\n",
      "diff_acc      303 non-null float64\n",
      "dtypes: float64(6), object(2)\n",
      "memory usage: 19.0+ KB\n"
     ]
    }
   ],
   "source": [
    "df_results.info(null_counts=True)"
   ]
  },
  {
   "cell_type": "code",
   "execution_count": 5,
   "metadata": {
    "ExecuteTime": {
     "end_time": "2019-11-30T18:43:55.375522Z",
     "start_time": "2019-11-30T18:43:55.357383Z"
    }
   },
   "outputs": [
    {
     "name": "stdout",
     "output_type": "stream",
     "text": [
      "model \n",
      "\n",
      "VGG16          76\n",
      "VGG19          67\n",
      "MobileNetV2    50\n",
      "ResNet152V2    41\n",
      "InceptionV3    39\n",
      "Baseline       30\n",
      "Name: model, dtype: int64 \n",
      "\n",
      "approach \n",
      "\n",
      "feature extraction without data augmentation GAP    89\n",
      "feature extraction without data augmentation FC     49\n",
      "feature extraction data augmentation GAP            48\n",
      "class weight auto                                   30\n",
      "feature extraction data augmentation FC             29\n",
      "fine tuning GAP                                     27\n",
      "fine tuning FC                                      24\n",
      "FC fine tuning                                       7\n",
      "Name: approach, dtype: int64 \n",
      "\n"
     ]
    }
   ],
   "source": [
    "for col in df_results.select_dtypes(include=['object']).columns:\n",
    "    print(col,'\\n')\n",
    "    print(df_results[col].value_counts(),'\\n')"
   ]
  },
  {
   "cell_type": "markdown",
   "metadata": {},
   "source": [
    "All models besides 'Baseline' used early stopping which explain why there are different number of entries for each model.\n",
    "\n",
    "For each model we used class_weight = 'auto' which helps to deal with the imbalanced of the considered data. The data used in these experiment consisted in day images that we obtained from the folder TTG TUR. After applying some filtering based on time 6,325 images were selected where 1504 were labeled as 'SIM'(fire break) and 4821 as 'NAO' (No fire break).\n",
    "\n",
    "To evaluate the performance of the model in relation to this metrics as FRR, FAR etc should be considered. These are not covered in this notebook.\n",
    "\n",
    "For each pre-trained model the following approaches were used:\n",
    "\n",
    "- feature extraction without data augmentation \n",
    "- feature extraction with data augmentation    \n",
    "- fine tuning: Here part of the layers are unfrozen to be trained with the new data. Data augmentation is also used.\n",
    "\n",
    "Pre-trained models on Imagenet from Keras were used (https://keras.io/applications/).\n",
    "\n",
    "Two different classifiers were used:\n",
    "\n",
    "- FC (Fully-Connected) : This classifier adds a stack of fully-connected layers that is fed by the features extracted from the convolutional base.\n",
    "\n",
    "- GAP (Gloabal Average Pooling) :  This classifier adds a global average pooling layer and fed its output into a sigmoid activated layer. \n"
   ]
  },
  {
   "cell_type": "markdown",
   "metadata": {},
   "source": [
    "## Which model presented the highest (train) accuracy?"
   ]
  },
  {
   "cell_type": "code",
   "execution_count": 6,
   "metadata": {
    "ExecuteTime": {
     "end_time": "2019-11-30T18:43:55.402110Z",
     "start_time": "2019-11-30T18:43:55.376519Z"
    }
   },
   "outputs": [
    {
     "data": {
      "text/plain": [
       "Index(['model', 'approach', 'train_acc', 'train_loss', 'val_acc', 'val_loss',\n",
       "       'diff_loss', 'diff_acc'],\n",
       "      dtype='object')"
      ]
     },
     "execution_count": 6,
     "metadata": {},
     "output_type": "execute_result"
    }
   ],
   "source": [
    "df_results.columns"
   ]
  },
  {
   "cell_type": "code",
   "execution_count": 7,
   "metadata": {
    "ExecuteTime": {
     "end_time": "2019-11-30T18:43:55.438464Z",
     "start_time": "2019-11-30T18:43:55.403108Z"
    }
   },
   "outputs": [
    {
     "data": {
      "text/html": [
       "<div>\n",
       "<style scoped>\n",
       "    .dataframe tbody tr th:only-of-type {\n",
       "        vertical-align: middle;\n",
       "    }\n",
       "\n",
       "    .dataframe tbody tr th {\n",
       "        vertical-align: top;\n",
       "    }\n",
       "\n",
       "    .dataframe thead th {\n",
       "        text-align: right;\n",
       "    }\n",
       "</style>\n",
       "<table border=\"1\" class=\"dataframe\">\n",
       "  <thead>\n",
       "    <tr style=\"text-align: right;\">\n",
       "      <th></th>\n",
       "      <th>model</th>\n",
       "      <th>approach</th>\n",
       "      <th>train_acc</th>\n",
       "      <th>train_loss</th>\n",
       "      <th>val_acc</th>\n",
       "      <th>val_loss</th>\n",
       "      <th>diff_loss</th>\n",
       "      <th>diff_acc</th>\n",
       "    </tr>\n",
       "  </thead>\n",
       "  <tbody>\n",
       "    <tr>\n",
       "      <th>20</th>\n",
       "      <td>Baseline</td>\n",
       "      <td>class weight auto</td>\n",
       "      <td>0.873000</td>\n",
       "      <td>0.352127</td>\n",
       "      <td>0.827621</td>\n",
       "      <td>1.748369</td>\n",
       "      <td>1.396242</td>\n",
       "      <td>0.045379</td>\n",
       "    </tr>\n",
       "    <tr>\n",
       "      <th>104</th>\n",
       "      <td>MobileNetV2</td>\n",
       "      <td>feature extraction without data augmentation FC</td>\n",
       "      <td>0.862478</td>\n",
       "      <td>0.330303</td>\n",
       "      <td>0.802215</td>\n",
       "      <td>0.541360</td>\n",
       "      <td>0.211057</td>\n",
       "      <td>0.060263</td>\n",
       "    </tr>\n",
       "    <tr>\n",
       "      <th>5</th>\n",
       "      <td>Baseline</td>\n",
       "      <td>class weight auto</td>\n",
       "      <td>0.862000</td>\n",
       "      <td>0.367919</td>\n",
       "      <td>0.751016</td>\n",
       "      <td>0.018841</td>\n",
       "      <td>0.349078</td>\n",
       "      <td>0.110984</td>\n",
       "    </tr>\n",
       "    <tr>\n",
       "      <th>61</th>\n",
       "      <td>InceptionV3</td>\n",
       "      <td>feature extraction without data augmentation FC</td>\n",
       "      <td>0.857736</td>\n",
       "      <td>0.327100</td>\n",
       "      <td>0.792722</td>\n",
       "      <td>0.492490</td>\n",
       "      <td>0.165391</td>\n",
       "      <td>0.065014</td>\n",
       "    </tr>\n",
       "    <tr>\n",
       "      <th>29</th>\n",
       "      <td>Baseline</td>\n",
       "      <td>class weight auto</td>\n",
       "      <td>0.857000</td>\n",
       "      <td>0.362196</td>\n",
       "      <td>0.785282</td>\n",
       "      <td>1.455268</td>\n",
       "      <td>1.093072</td>\n",
       "      <td>0.071718</td>\n",
       "    </tr>\n",
       "    <tr>\n",
       "      <th>103</th>\n",
       "      <td>MobileNetV2</td>\n",
       "      <td>feature extraction without data augmentation FC</td>\n",
       "      <td>0.856550</td>\n",
       "      <td>0.347916</td>\n",
       "      <td>0.799051</td>\n",
       "      <td>0.518565</td>\n",
       "      <td>0.170649</td>\n",
       "      <td>0.057499</td>\n",
       "    </tr>\n",
       "    <tr>\n",
       "      <th>60</th>\n",
       "      <td>InceptionV3</td>\n",
       "      <td>feature extraction without data augmentation FC</td>\n",
       "      <td>0.856155</td>\n",
       "      <td>0.335528</td>\n",
       "      <td>0.786392</td>\n",
       "      <td>0.532702</td>\n",
       "      <td>0.197174</td>\n",
       "      <td>0.069763</td>\n",
       "    </tr>\n",
       "    <tr>\n",
       "      <th>59</th>\n",
       "      <td>InceptionV3</td>\n",
       "      <td>feature extraction without data augmentation FC</td>\n",
       "      <td>0.848054</td>\n",
       "      <td>0.350319</td>\n",
       "      <td>0.783228</td>\n",
       "      <td>0.483956</td>\n",
       "      <td>0.133637</td>\n",
       "      <td>0.064826</td>\n",
       "    </tr>\n",
       "    <tr>\n",
       "      <th>118</th>\n",
       "      <td>MobileNetV2</td>\n",
       "      <td>feature extraction without data augmentation GAP</td>\n",
       "      <td>0.845485</td>\n",
       "      <td>0.370127</td>\n",
       "      <td>0.805380</td>\n",
       "      <td>0.452934</td>\n",
       "      <td>0.082807</td>\n",
       "      <td>0.040105</td>\n",
       "    </tr>\n",
       "    <tr>\n",
       "      <th>8</th>\n",
       "      <td>Baseline</td>\n",
       "      <td>class weight auto</td>\n",
       "      <td>0.844500</td>\n",
       "      <td>0.381493</td>\n",
       "      <td>0.745935</td>\n",
       "      <td>0.200384</td>\n",
       "      <td>0.181109</td>\n",
       "      <td>0.098565</td>\n",
       "    </tr>\n",
       "  </tbody>\n",
       "</table>\n",
       "</div>"
      ],
      "text/plain": [
       "           model                                          approach  train_acc  \\\n",
       "20      Baseline                                 class weight auto   0.873000   \n",
       "104  MobileNetV2   feature extraction without data augmentation FC   0.862478   \n",
       "5       Baseline                                 class weight auto   0.862000   \n",
       "61   InceptionV3   feature extraction without data augmentation FC   0.857736   \n",
       "29      Baseline                                 class weight auto   0.857000   \n",
       "103  MobileNetV2   feature extraction without data augmentation FC   0.856550   \n",
       "60   InceptionV3   feature extraction without data augmentation FC   0.856155   \n",
       "59   InceptionV3   feature extraction without data augmentation FC   0.848054   \n",
       "118  MobileNetV2  feature extraction without data augmentation GAP   0.845485   \n",
       "8       Baseline                                 class weight auto   0.844500   \n",
       "\n",
       "     train_loss   val_acc  val_loss  diff_loss  diff_acc  \n",
       "20     0.352127  0.827621  1.748369   1.396242  0.045379  \n",
       "104    0.330303  0.802215  0.541360   0.211057  0.060263  \n",
       "5      0.367919  0.751016  0.018841   0.349078  0.110984  \n",
       "61     0.327100  0.792722  0.492490   0.165391  0.065014  \n",
       "29     0.362196  0.785282  1.455268   1.093072  0.071718  \n",
       "103    0.347916  0.799051  0.518565   0.170649  0.057499  \n",
       "60     0.335528  0.786392  0.532702   0.197174  0.069763  \n",
       "59     0.350319  0.783228  0.483956   0.133637  0.064826  \n",
       "118    0.370127  0.805380  0.452934   0.082807  0.040105  \n",
       "8      0.381493  0.745935  0.200384   0.181109  0.098565  "
      ]
     },
     "execution_count": 7,
     "metadata": {},
     "output_type": "execute_result"
    }
   ],
   "source": [
    "# Top 10 in accuracy\n",
    "\n",
    "df_results.sort_values('train_acc', ascending=False).head(10)"
   ]
  },
  {
   "cell_type": "markdown",
   "metadata": {},
   "source": [
    "## Which models presented the smallest absolute difference between accuracy and loss of train and validation data?"
   ]
  },
  {
   "cell_type": "code",
   "execution_count": 8,
   "metadata": {
    "ExecuteTime": {
     "end_time": "2019-11-30T18:43:55.465979Z",
     "start_time": "2019-11-30T18:43:55.440166Z"
    }
   },
   "outputs": [
    {
     "data": {
      "text/html": [
       "<div>\n",
       "<style scoped>\n",
       "    .dataframe tbody tr th:only-of-type {\n",
       "        vertical-align: middle;\n",
       "    }\n",
       "\n",
       "    .dataframe tbody tr th {\n",
       "        vertical-align: top;\n",
       "    }\n",
       "\n",
       "    .dataframe thead th {\n",
       "        text-align: right;\n",
       "    }\n",
       "</style>\n",
       "<table border=\"1\" class=\"dataframe\">\n",
       "  <thead>\n",
       "    <tr style=\"text-align: right;\">\n",
       "      <th></th>\n",
       "      <th>model</th>\n",
       "      <th>approach</th>\n",
       "      <th>train_acc</th>\n",
       "      <th>train_loss</th>\n",
       "      <th>val_acc</th>\n",
       "      <th>val_loss</th>\n",
       "      <th>diff_loss</th>\n",
       "      <th>diff_acc</th>\n",
       "    </tr>\n",
       "  </thead>\n",
       "  <tbody>\n",
       "    <tr>\n",
       "      <th>177</th>\n",
       "      <td>VGG16</td>\n",
       "      <td>feature extraction data augmentation GAP</td>\n",
       "      <td>0.673397</td>\n",
       "      <td>0.659382</td>\n",
       "      <td>0.630081</td>\n",
       "      <td>0.659142</td>\n",
       "      <td>0.000240</td>\n",
       "      <td>0.043316</td>\n",
       "    </tr>\n",
       "    <tr>\n",
       "      <th>208</th>\n",
       "      <td>VGG16</td>\n",
       "      <td>feature extraction without data augmentation GAP</td>\n",
       "      <td>0.783244</td>\n",
       "      <td>0.500356</td>\n",
       "      <td>0.786392</td>\n",
       "      <td>0.501287</td>\n",
       "      <td>0.000931</td>\n",
       "      <td>0.003148</td>\n",
       "    </tr>\n",
       "    <tr>\n",
       "      <th>261</th>\n",
       "      <td>VGG19</td>\n",
       "      <td>feature extraction without data augmentation FC</td>\n",
       "      <td>0.791148</td>\n",
       "      <td>0.476221</td>\n",
       "      <td>0.802215</td>\n",
       "      <td>0.477666</td>\n",
       "      <td>0.001445</td>\n",
       "      <td>0.011067</td>\n",
       "    </tr>\n",
       "    <tr>\n",
       "      <th>28</th>\n",
       "      <td>Baseline</td>\n",
       "      <td>class weight auto</td>\n",
       "      <td>0.821000</td>\n",
       "      <td>0.437272</td>\n",
       "      <td>0.770325</td>\n",
       "      <td>0.438946</td>\n",
       "      <td>0.001674</td>\n",
       "      <td>0.050675</td>\n",
       "    </tr>\n",
       "    <tr>\n",
       "      <th>165</th>\n",
       "      <td>VGG16</td>\n",
       "      <td>feature extraction data augmentation GAP</td>\n",
       "      <td>0.231701</td>\n",
       "      <td>0.876492</td>\n",
       "      <td>0.225806</td>\n",
       "      <td>0.878177</td>\n",
       "      <td>0.001684</td>\n",
       "      <td>0.005895</td>\n",
       "    </tr>\n",
       "    <tr>\n",
       "      <th>166</th>\n",
       "      <td>VGG16</td>\n",
       "      <td>feature extraction data augmentation GAP</td>\n",
       "      <td>0.245500</td>\n",
       "      <td>0.847807</td>\n",
       "      <td>0.250000</td>\n",
       "      <td>0.849532</td>\n",
       "      <td>0.001725</td>\n",
       "      <td>0.004500</td>\n",
       "    </tr>\n",
       "    <tr>\n",
       "      <th>209</th>\n",
       "      <td>VGG16</td>\n",
       "      <td>feature extraction without data augmentation GAP</td>\n",
       "      <td>0.785418</td>\n",
       "      <td>0.493848</td>\n",
       "      <td>0.783228</td>\n",
       "      <td>0.496221</td>\n",
       "      <td>0.002373</td>\n",
       "      <td>0.002190</td>\n",
       "    </tr>\n",
       "    <tr>\n",
       "      <th>260</th>\n",
       "      <td>VGG19</td>\n",
       "      <td>feature extraction without data augmentation FC</td>\n",
       "      <td>0.787789</td>\n",
       "      <td>0.483086</td>\n",
       "      <td>0.789557</td>\n",
       "      <td>0.485572</td>\n",
       "      <td>0.002486</td>\n",
       "      <td>0.001768</td>\n",
       "    </tr>\n",
       "    <tr>\n",
       "      <th>198</th>\n",
       "      <td>VGG16</td>\n",
       "      <td>feature extraction without data augmentation FC</td>\n",
       "      <td>0.793717</td>\n",
       "      <td>0.478043</td>\n",
       "      <td>0.794304</td>\n",
       "      <td>0.475372</td>\n",
       "      <td>0.002671</td>\n",
       "      <td>0.000587</td>\n",
       "    </tr>\n",
       "    <tr>\n",
       "      <th>168</th>\n",
       "      <td>VGG16</td>\n",
       "      <td>feature extraction data augmentation GAP</td>\n",
       "      <td>0.252903</td>\n",
       "      <td>0.801243</td>\n",
       "      <td>0.256098</td>\n",
       "      <td>0.804071</td>\n",
       "      <td>0.002827</td>\n",
       "      <td>0.003195</td>\n",
       "    </tr>\n",
       "  </tbody>\n",
       "</table>\n",
       "</div>"
      ],
      "text/plain": [
       "        model                                          approach  train_acc  \\\n",
       "177     VGG16          feature extraction data augmentation GAP   0.673397   \n",
       "208     VGG16  feature extraction without data augmentation GAP   0.783244   \n",
       "261     VGG19   feature extraction without data augmentation FC   0.791148   \n",
       "28   Baseline                                 class weight auto   0.821000   \n",
       "165     VGG16          feature extraction data augmentation GAP   0.231701   \n",
       "166     VGG16          feature extraction data augmentation GAP   0.245500   \n",
       "209     VGG16  feature extraction without data augmentation GAP   0.785418   \n",
       "260     VGG19   feature extraction without data augmentation FC   0.787789   \n",
       "198     VGG16   feature extraction without data augmentation FC   0.793717   \n",
       "168     VGG16          feature extraction data augmentation GAP   0.252903   \n",
       "\n",
       "     train_loss   val_acc  val_loss  diff_loss  diff_acc  \n",
       "177    0.659382  0.630081  0.659142   0.000240  0.043316  \n",
       "208    0.500356  0.786392  0.501287   0.000931  0.003148  \n",
       "261    0.476221  0.802215  0.477666   0.001445  0.011067  \n",
       "28     0.437272  0.770325  0.438946   0.001674  0.050675  \n",
       "165    0.876492  0.225806  0.878177   0.001684  0.005895  \n",
       "166    0.847807  0.250000  0.849532   0.001725  0.004500  \n",
       "209    0.493848  0.783228  0.496221   0.002373  0.002190  \n",
       "260    0.483086  0.789557  0.485572   0.002486  0.001768  \n",
       "198    0.478043  0.794304  0.475372   0.002671  0.000587  \n",
       "168    0.801243  0.256098  0.804071   0.002827  0.003195  "
      ]
     },
     "execution_count": 8,
     "metadata": {},
     "output_type": "execute_result"
    }
   ],
   "source": [
    "df_results.sort_values(['diff_loss','diff_acc']).head(10)"
   ]
  },
  {
   "cell_type": "markdown",
   "metadata": {},
   "source": [
    "When observing the TOP10 considering difference in loss and accuracy, the baseline model with class weight = 'auto' showed highest accuracy both in train and validation.\n",
    "\n",
    "train_acc = 0.82\n",
    "\n",
    "val_acc = 0.77\n",
    "\n",
    "diff_loss = 0.0017\n",
    "\n",
    "diff_acc = 0.0507"
   ]
  },
  {
   "cell_type": "markdown",
   "metadata": {},
   "source": [
    "### Baseline"
   ]
  },
  {
   "cell_type": "code",
   "execution_count": 9,
   "metadata": {
    "ExecuteTime": {
     "end_time": "2019-11-30T18:44:00.456242Z",
     "start_time": "2019-11-30T18:43:55.467974Z"
    }
   },
   "outputs": [
    {
     "name": "stderr",
     "output_type": "stream",
     "text": [
      "Using TensorFlow backend.\n"
     ]
    },
    {
     "name": "stdout",
     "output_type": "stream",
     "text": [
      "Model: \"sequential_1\"\n",
      "_________________________________________________________________\n",
      "Layer (type)                 Output Shape              Param #   \n",
      "=================================================================\n",
      "conv2d_1 (Conv2D)            (None, 126, 126, 32)      896       \n",
      "_________________________________________________________________\n",
      "max_pooling2d_1 (MaxPooling2 (None, 63, 63, 32)        0         \n",
      "_________________________________________________________________\n",
      "conv2d_2 (Conv2D)            (None, 61, 61, 64)        18496     \n",
      "_________________________________________________________________\n",
      "max_pooling2d_2 (MaxPooling2 (None, 30, 30, 64)        0         \n",
      "_________________________________________________________________\n",
      "conv2d_3 (Conv2D)            (None, 28, 28, 128)       73856     \n",
      "_________________________________________________________________\n",
      "max_pooling2d_3 (MaxPooling2 (None, 14, 14, 128)       0         \n",
      "_________________________________________________________________\n",
      "conv2d_4 (Conv2D)            (None, 12, 12, 128)       147584    \n",
      "_________________________________________________________________\n",
      "max_pooling2d_4 (MaxPooling2 (None, 6, 6, 128)         0         \n",
      "_________________________________________________________________\n",
      "flatten_1 (Flatten)          (None, 4608)              0         \n",
      "_________________________________________________________________\n",
      "dropout_1 (Dropout)          (None, 4608)              0         \n",
      "_________________________________________________________________\n",
      "dense_1 (Dense)              (None, 512)               2359808   \n",
      "_________________________________________________________________\n",
      "dense_2 (Dense)              (None, 1)                 513       \n",
      "=================================================================\n",
      "Total params: 2,601,153\n",
      "Trainable params: 2,601,153\n",
      "Non-trainable params: 0\n",
      "_________________________________________________________________\n"
     ]
    },
    {
     "name": "stderr",
     "output_type": "stream",
     "text": [
      "c:\\program files\\python37\\lib\\site-packages\\keras\\engine\\saving.py:341: UserWarning: No training configuration found in save file: the model was *not* compiled. Compile it manually.\n",
      "  warnings.warn('No training configuration found in save file: '\n"
     ]
    }
   ],
   "source": [
    "# load model\n",
    "\n",
    "from keras.models import load_model\n",
    "\n",
    "load_model(\"../models/baseline_model_omdena_plus_dropout_v011119.h5\").summary()"
   ]
  },
  {
   "cell_type": "code",
   "execution_count": 10,
   "metadata": {
    "ExecuteTime": {
     "end_time": "2019-11-30T18:44:00.515228Z",
     "start_time": "2019-11-30T18:44:00.458374Z"
    }
   },
   "outputs": [
    {
     "data": {
      "text/html": [
       "<div>\n",
       "<style scoped>\n",
       "    .dataframe tbody tr th:only-of-type {\n",
       "        vertical-align: middle;\n",
       "    }\n",
       "\n",
       "    .dataframe tbody tr th {\n",
       "        vertical-align: top;\n",
       "    }\n",
       "\n",
       "    .dataframe thead th {\n",
       "        text-align: right;\n",
       "    }\n",
       "</style>\n",
       "<table border=\"1\" class=\"dataframe\">\n",
       "  <thead>\n",
       "    <tr style=\"text-align: right;\">\n",
       "      <th></th>\n",
       "      <th>model</th>\n",
       "      <th>approach</th>\n",
       "      <th>train_acc</th>\n",
       "      <th>train_loss</th>\n",
       "      <th>val_acc</th>\n",
       "      <th>val_loss</th>\n",
       "      <th>diff_loss</th>\n",
       "      <th>diff_acc</th>\n",
       "    </tr>\n",
       "  </thead>\n",
       "  <tbody>\n",
       "    <tr>\n",
       "      <th>1</th>\n",
       "      <td>../history/Baseline</td>\n",
       "      <td>class weight auto</td>\n",
       "      <td>0.820000</td>\n",
       "      <td>0.446085</td>\n",
       "      <td>0.735772</td>\n",
       "      <td>0.135317</td>\n",
       "      <td>0.310768</td>\n",
       "      <td>0.084228</td>\n",
       "    </tr>\n",
       "    <tr>\n",
       "      <th>2</th>\n",
       "      <td>../history/Baseline</td>\n",
       "      <td>class weight auto</td>\n",
       "      <td>0.811000</td>\n",
       "      <td>0.439737</td>\n",
       "      <td>0.860887</td>\n",
       "      <td>0.076626</td>\n",
       "      <td>0.363111</td>\n",
       "      <td>0.049887</td>\n",
       "    </tr>\n",
       "    <tr>\n",
       "      <th>3</th>\n",
       "      <td>../history/Baseline</td>\n",
       "      <td>class weight auto</td>\n",
       "      <td>0.803130</td>\n",
       "      <td>0.456330</td>\n",
       "      <td>0.748984</td>\n",
       "      <td>0.159631</td>\n",
       "      <td>0.296699</td>\n",
       "      <td>0.054146</td>\n",
       "    </tr>\n",
       "    <tr>\n",
       "      <th>4</th>\n",
       "      <td>../history/Baseline</td>\n",
       "      <td>class weight auto</td>\n",
       "      <td>0.799000</td>\n",
       "      <td>0.446050</td>\n",
       "      <td>0.806452</td>\n",
       "      <td>1.088683</td>\n",
       "      <td>0.642633</td>\n",
       "      <td>0.007452</td>\n",
       "    </tr>\n",
       "    <tr>\n",
       "      <th>0</th>\n",
       "      <td>../history/Baseline</td>\n",
       "      <td>class weight auto</td>\n",
       "      <td>0.767289</td>\n",
       "      <td>0.502773</td>\n",
       "      <td>0.850806</td>\n",
       "      <td>0.066831</td>\n",
       "      <td>0.435942</td>\n",
       "      <td>0.083517</td>\n",
       "    </tr>\n",
       "  </tbody>\n",
       "</table>\n",
       "</div>"
      ],
      "text/plain": [
       "                 model           approach  train_acc  train_loss   val_acc  \\\n",
       "1  ../history/Baseline  class weight auto   0.820000    0.446085  0.735772   \n",
       "2  ../history/Baseline  class weight auto   0.811000    0.439737  0.860887   \n",
       "3  ../history/Baseline  class weight auto   0.803130    0.456330  0.748984   \n",
       "4  ../history/Baseline  class weight auto   0.799000    0.446050  0.806452   \n",
       "0  ../history/Baseline  class weight auto   0.767289    0.502773  0.850806   \n",
       "\n",
       "   val_loss  diff_loss  diff_acc  \n",
       "1  0.135317   0.310768  0.084228  \n",
       "2  0.076626   0.363111  0.049887  \n",
       "3  0.159631   0.296699  0.054146  \n",
       "4  1.088683   0.642633  0.007452  \n",
       "0  0.066831   0.435942  0.083517  "
      ]
     },
     "execution_count": 10,
     "metadata": {},
     "output_type": "execute_result"
    }
   ],
   "source": [
    "file = 'Baseline_fire_break_class_weight_auto_history.csv'\n",
    "df_baseline = pd.read_csv(folder+file)\n",
    "\n",
    "df_baseline = add_info(df_baseline,folder+file)\n",
    "df_baseline.head().sort_values('train_acc', ascending=False)"
   ]
  },
  {
   "cell_type": "code",
   "execution_count": 11,
   "metadata": {
    "ExecuteTime": {
     "end_time": "2019-11-30T18:44:00.910641Z",
     "start_time": "2019-11-30T18:44:00.517225Z"
    }
   },
   "outputs": [
    {
     "data": {
      "text/plain": [
       "<Figure size 640x480 with 1 Axes>"
      ]
     },
     "metadata": {},
     "output_type": "display_data"
    },
    {
     "data": {
      "text/plain": [
       "<Figure size 640x480 with 1 Axes>"
      ]
     },
     "metadata": {},
     "output_type": "display_data"
    }
   ],
   "source": [
    "import matplotlib.pyplot as plt\n",
    "\n",
    "acc = df_baseline['train_acc']\n",
    "val_acc = df_baseline['val_acc']\n",
    "loss = df_baseline['train_loss']\n",
    "val_loss = df_baseline['val_loss']\n",
    "\n",
    "epochs = range(len(acc))\n",
    "\n",
    "plt.plot(epochs, acc, 'r', label='Training acc')\n",
    "plt.plot(epochs, val_acc, 'b', label='Validation acc')\n",
    "plt.title('Training and validation accuracy')\n",
    "plt.legend()\n",
    "\n",
    "plt.figure()\n",
    "\n",
    "plt.plot(epochs, loss, 'r', label='Training loss')\n",
    "plt.plot(epochs, val_loss, 'b', label='Validation loss')\n",
    "plt.title('Training and validation loss')\n",
    "plt.legend()\n",
    "\n",
    "plt.show()"
   ]
  },
  {
   "cell_type": "code",
   "execution_count": 12,
   "metadata": {
    "ExecuteTime": {
     "end_time": "2019-11-30T18:44:00.926806Z",
     "start_time": "2019-11-30T18:44:00.915428Z"
    }
   },
   "outputs": [],
   "source": [
    "def smooth_curve(points, factor=0.8):\n",
    "    smoothed_points = []\n",
    "    for point in points:\n",
    "        if smoothed_points:\n",
    "            previous = smoothed_points[-1]\n",
    "            smoothed_points.append(previous * factor + point * (1 - factor))\n",
    "        else:\n",
    "            smoothed_points.append(point)\n",
    "    return smoothed_points"
   ]
  },
  {
   "cell_type": "code",
   "execution_count": 13,
   "metadata": {
    "ExecuteTime": {
     "end_time": "2019-11-30T18:44:01.570720Z",
     "start_time": "2019-11-30T18:44:00.935087Z"
    }
   },
   "outputs": [
    {
     "data": {
      "image/png": "[encoded data removed]",
      "text/plain": [
       "<Figure size 432x288 with 1 Axes>"
      ]
     },
     "metadata": {
      "needs_background": "light"
     },
     "output_type": "display_data"
    },
    {
     "data": {
      "image/png": "[encoded data removed]",
      "text/plain": [
       "<Figure size 432x288 with 1 Axes>"
      ]
     },
     "metadata": {
      "needs_background": "light"
     },
     "output_type": "display_data"
    }
   ],
   "source": [
    "plt.plot(epochs,\n",
    "         smooth_curve(acc), 'r', label='Smoothed training acc')\n",
    "plt.plot(epochs,\n",
    "         smooth_curve(val_acc), 'b', label='Smoothed validation acc')\n",
    "plt.title('Training and validation accuracy')\n",
    "plt.legend()\n",
    "\n",
    "plt.figure()\n",
    "\n",
    "plt.plot(epochs,\n",
    "         smooth_curve(loss), 'r', label='Smoothed training loss')\n",
    "plt.plot(epochs,\n",
    "         smooth_curve(val_loss), 'b', label='Smoothed validation loss')\n",
    "plt.title('Training and validation loss')\n",
    "plt.legend()\n",
    "\n",
    "plt.show()"
   ]
  },
  {
   "cell_type": "markdown",
   "metadata": {},
   "source": [
    "## Which models presented the smallest absolute difference between accuracy and loss of train and validation data?"
   ]
  },
  {
   "cell_type": "code",
   "execution_count": 14,
   "metadata": {
    "ExecuteTime": {
     "end_time": "2019-11-30T18:44:01.592559Z",
     "start_time": "2019-11-30T18:44:01.580488Z"
    }
   },
   "outputs": [],
   "source": [
    "df_results_highest_top10 = df_results.sort_values('train_acc', ascending=False).head(10)"
   ]
  },
  {
   "cell_type": "code",
   "execution_count": 15,
   "metadata": {
    "ExecuteTime": {
     "end_time": "2019-11-30T18:44:01.655753Z",
     "start_time": "2019-11-30T18:44:01.605452Z"
    }
   },
   "outputs": [
    {
     "data": {
      "text/html": [
       "<div>\n",
       "<style scoped>\n",
       "    .dataframe tbody tr th:only-of-type {\n",
       "        vertical-align: middle;\n",
       "    }\n",
       "\n",
       "    .dataframe tbody tr th {\n",
       "        vertical-align: top;\n",
       "    }\n",
       "\n",
       "    .dataframe thead th {\n",
       "        text-align: right;\n",
       "    }\n",
       "</style>\n",
       "<table border=\"1\" class=\"dataframe\">\n",
       "  <thead>\n",
       "    <tr style=\"text-align: right;\">\n",
       "      <th></th>\n",
       "      <th>model</th>\n",
       "      <th>approach</th>\n",
       "      <th>train_acc</th>\n",
       "      <th>train_loss</th>\n",
       "      <th>val_acc</th>\n",
       "      <th>val_loss</th>\n",
       "      <th>diff_loss</th>\n",
       "      <th>diff_acc</th>\n",
       "    </tr>\n",
       "  </thead>\n",
       "  <tbody>\n",
       "    <tr>\n",
       "      <th>118</th>\n",
       "      <td>MobileNetV2</td>\n",
       "      <td>feature extraction without data augmentation GAP</td>\n",
       "      <td>0.845485</td>\n",
       "      <td>0.370127</td>\n",
       "      <td>0.805380</td>\n",
       "      <td>0.452934</td>\n",
       "      <td>0.082807</td>\n",
       "      <td>0.040105</td>\n",
       "    </tr>\n",
       "    <tr>\n",
       "      <th>59</th>\n",
       "      <td>InceptionV3</td>\n",
       "      <td>feature extraction without data augmentation FC</td>\n",
       "      <td>0.848054</td>\n",
       "      <td>0.350319</td>\n",
       "      <td>0.783228</td>\n",
       "      <td>0.483956</td>\n",
       "      <td>0.133637</td>\n",
       "      <td>0.064826</td>\n",
       "    </tr>\n",
       "    <tr>\n",
       "      <th>61</th>\n",
       "      <td>InceptionV3</td>\n",
       "      <td>feature extraction without data augmentation FC</td>\n",
       "      <td>0.857736</td>\n",
       "      <td>0.327100</td>\n",
       "      <td>0.792722</td>\n",
       "      <td>0.492490</td>\n",
       "      <td>0.165391</td>\n",
       "      <td>0.065014</td>\n",
       "    </tr>\n",
       "    <tr>\n",
       "      <th>103</th>\n",
       "      <td>MobileNetV2</td>\n",
       "      <td>feature extraction without data augmentation FC</td>\n",
       "      <td>0.856550</td>\n",
       "      <td>0.347916</td>\n",
       "      <td>0.799051</td>\n",
       "      <td>0.518565</td>\n",
       "      <td>0.170649</td>\n",
       "      <td>0.057499</td>\n",
       "    </tr>\n",
       "    <tr>\n",
       "      <th>8</th>\n",
       "      <td>Baseline</td>\n",
       "      <td>class weight auto</td>\n",
       "      <td>0.844500</td>\n",
       "      <td>0.381493</td>\n",
       "      <td>0.745935</td>\n",
       "      <td>0.200384</td>\n",
       "      <td>0.181109</td>\n",
       "      <td>0.098565</td>\n",
       "    </tr>\n",
       "    <tr>\n",
       "      <th>60</th>\n",
       "      <td>InceptionV3</td>\n",
       "      <td>feature extraction without data augmentation FC</td>\n",
       "      <td>0.856155</td>\n",
       "      <td>0.335528</td>\n",
       "      <td>0.786392</td>\n",
       "      <td>0.532702</td>\n",
       "      <td>0.197174</td>\n",
       "      <td>0.069763</td>\n",
       "    </tr>\n",
       "    <tr>\n",
       "      <th>104</th>\n",
       "      <td>MobileNetV2</td>\n",
       "      <td>feature extraction without data augmentation FC</td>\n",
       "      <td>0.862478</td>\n",
       "      <td>0.330303</td>\n",
       "      <td>0.802215</td>\n",
       "      <td>0.541360</td>\n",
       "      <td>0.211057</td>\n",
       "      <td>0.060263</td>\n",
       "    </tr>\n",
       "    <tr>\n",
       "      <th>5</th>\n",
       "      <td>Baseline</td>\n",
       "      <td>class weight auto</td>\n",
       "      <td>0.862000</td>\n",
       "      <td>0.367919</td>\n",
       "      <td>0.751016</td>\n",
       "      <td>0.018841</td>\n",
       "      <td>0.349078</td>\n",
       "      <td>0.110984</td>\n",
       "    </tr>\n",
       "    <tr>\n",
       "      <th>29</th>\n",
       "      <td>Baseline</td>\n",
       "      <td>class weight auto</td>\n",
       "      <td>0.857000</td>\n",
       "      <td>0.362196</td>\n",
       "      <td>0.785282</td>\n",
       "      <td>1.455268</td>\n",
       "      <td>1.093072</td>\n",
       "      <td>0.071718</td>\n",
       "    </tr>\n",
       "    <tr>\n",
       "      <th>20</th>\n",
       "      <td>Baseline</td>\n",
       "      <td>class weight auto</td>\n",
       "      <td>0.873000</td>\n",
       "      <td>0.352127</td>\n",
       "      <td>0.827621</td>\n",
       "      <td>1.748369</td>\n",
       "      <td>1.396242</td>\n",
       "      <td>0.045379</td>\n",
       "    </tr>\n",
       "  </tbody>\n",
       "</table>\n",
       "</div>"
      ],
      "text/plain": [
       "           model                                          approach  train_acc  \\\n",
       "118  MobileNetV2  feature extraction without data augmentation GAP   0.845485   \n",
       "59   InceptionV3   feature extraction without data augmentation FC   0.848054   \n",
       "61   InceptionV3   feature extraction without data augmentation FC   0.857736   \n",
       "103  MobileNetV2   feature extraction without data augmentation FC   0.856550   \n",
       "8       Baseline                                 class weight auto   0.844500   \n",
       "60   InceptionV3   feature extraction without data augmentation FC   0.856155   \n",
       "104  MobileNetV2   feature extraction without data augmentation FC   0.862478   \n",
       "5       Baseline                                 class weight auto   0.862000   \n",
       "29      Baseline                                 class weight auto   0.857000   \n",
       "20      Baseline                                 class weight auto   0.873000   \n",
       "\n",
       "     train_loss   val_acc  val_loss  diff_loss  diff_acc  \n",
       "118    0.370127  0.805380  0.452934   0.082807  0.040105  \n",
       "59     0.350319  0.783228  0.483956   0.133637  0.064826  \n",
       "61     0.327100  0.792722  0.492490   0.165391  0.065014  \n",
       "103    0.347916  0.799051  0.518565   0.170649  0.057499  \n",
       "8      0.381493  0.745935  0.200384   0.181109  0.098565  \n",
       "60     0.335528  0.786392  0.532702   0.197174  0.069763  \n",
       "104    0.330303  0.802215  0.541360   0.211057  0.060263  \n",
       "5      0.367919  0.751016  0.018841   0.349078  0.110984  \n",
       "29     0.362196  0.785282  1.455268   1.093072  0.071718  \n",
       "20     0.352127  0.827621  1.748369   1.396242  0.045379  "
      ]
     },
     "execution_count": 15,
     "metadata": {},
     "output_type": "execute_result"
    }
   ],
   "source": [
    "df_results_highest_top10.sort_values(['diff_loss','diff_acc'])"
   ]
  },
  {
   "cell_type": "markdown",
   "metadata": {},
   "source": [
    "MobileNetV2 using feature extraction without data augmentation with a GAP classifier was the best result taking into account train and validation accuracy and smallest absolute difference in loss and accuracy between validation and train data."
   ]
  },
  {
   "cell_type": "markdown",
   "metadata": {},
   "source": [
    "### MobileNetV2\tfeature extraction without data augmentation GAP\t"
   ]
  },
  {
   "cell_type": "code",
   "execution_count": 16,
   "metadata": {
    "ExecuteTime": {
     "end_time": "2019-11-30T18:44:18.368894Z",
     "start_time": "2019-11-30T18:44:01.656750Z"
    }
   },
   "outputs": [
    {
     "name": "stdout",
     "output_type": "stream",
     "text": [
      "Model: \"sequential_2\"\n",
      "_________________________________________________________________\n",
      "Layer (type)                 Output Shape              Param #   \n",
      "=================================================================\n",
      "mobilenetv2_1.00_128 (Model) (None, 4, 4, 1280)        2257984   \n",
      "_________________________________________________________________\n",
      "global_average_pooling2d_1 ( (None, 1280)              0         \n",
      "_________________________________________________________________\n",
      "dense_3 (Dense)              (None, 1)                 1281      \n",
      "=================================================================\n",
      "Total params: 2,259,265\n",
      "Trainable params: 887,361\n",
      "Non-trainable params: 1,371,904\n",
      "_________________________________________________________________\n"
     ]
    }
   ],
   "source": [
    "# load model\n",
    "\n",
    "from keras.models import load_model\n",
    "\n",
    "load_model(\"../models/MobileNetV2_model_firebreak_detection_GAP_fine_tuning.h5\").summary()"
   ]
  },
  {
   "cell_type": "code",
   "execution_count": 17,
   "metadata": {
    "ExecuteTime": {
     "end_time": "2019-11-30T18:44:18.432384Z",
     "start_time": "2019-11-30T18:44:18.373107Z"
    }
   },
   "outputs": [
    {
     "data": {
      "text/html": [
       "<div>\n",
       "<style scoped>\n",
       "    .dataframe tbody tr th:only-of-type {\n",
       "        vertical-align: middle;\n",
       "    }\n",
       "\n",
       "    .dataframe tbody tr th {\n",
       "        vertical-align: top;\n",
       "    }\n",
       "\n",
       "    .dataframe thead th {\n",
       "        text-align: right;\n",
       "    }\n",
       "</style>\n",
       "<table border=\"1\" class=\"dataframe\">\n",
       "  <thead>\n",
       "    <tr style=\"text-align: right;\">\n",
       "      <th></th>\n",
       "      <th>model</th>\n",
       "      <th>approach</th>\n",
       "      <th>train_acc</th>\n",
       "      <th>train_loss</th>\n",
       "      <th>val_acc</th>\n",
       "      <th>val_loss</th>\n",
       "      <th>diff_loss</th>\n",
       "      <th>diff_acc</th>\n",
       "    </tr>\n",
       "  </thead>\n",
       "  <tbody>\n",
       "    <tr>\n",
       "      <th>4</th>\n",
       "      <td>../history/MobileNetV2</td>\n",
       "      <td>feature extraction without data augmentation GAP</td>\n",
       "      <td>0.822960</td>\n",
       "      <td>0.420610</td>\n",
       "      <td>0.797468</td>\n",
       "      <td>0.460860</td>\n",
       "      <td>0.040250</td>\n",
       "      <td>0.025492</td>\n",
       "    </tr>\n",
       "    <tr>\n",
       "      <th>3</th>\n",
       "      <td>../history/MobileNetV2</td>\n",
       "      <td>feature extraction without data augmentation GAP</td>\n",
       "      <td>0.819206</td>\n",
       "      <td>0.424893</td>\n",
       "      <td>0.802215</td>\n",
       "      <td>0.461608</td>\n",
       "      <td>0.036715</td>\n",
       "      <td>0.016990</td>\n",
       "    </tr>\n",
       "    <tr>\n",
       "      <th>2</th>\n",
       "      <td>../history/MobileNetV2</td>\n",
       "      <td>feature extraction without data augmentation GAP</td>\n",
       "      <td>0.811697</td>\n",
       "      <td>0.436588</td>\n",
       "      <td>0.797468</td>\n",
       "      <td>0.464961</td>\n",
       "      <td>0.028373</td>\n",
       "      <td>0.014229</td>\n",
       "    </tr>\n",
       "    <tr>\n",
       "      <th>1</th>\n",
       "      <td>../history/MobileNetV2</td>\n",
       "      <td>feature extraction without data augmentation GAP</td>\n",
       "      <td>0.799842</td>\n",
       "      <td>0.460437</td>\n",
       "      <td>0.803797</td>\n",
       "      <td>0.465906</td>\n",
       "      <td>0.005469</td>\n",
       "      <td>0.003956</td>\n",
       "    </tr>\n",
       "    <tr>\n",
       "      <th>0</th>\n",
       "      <td>../history/MobileNetV2</td>\n",
       "      <td>feature extraction without data augmentation GAP</td>\n",
       "      <td>0.769413</td>\n",
       "      <td>0.530410</td>\n",
       "      <td>0.799051</td>\n",
       "      <td>0.485410</td>\n",
       "      <td>0.044999</td>\n",
       "      <td>0.029637</td>\n",
       "    </tr>\n",
       "  </tbody>\n",
       "</table>\n",
       "</div>"
      ],
      "text/plain": [
       "                    model                                          approach  \\\n",
       "4  ../history/MobileNetV2  feature extraction without data augmentation GAP   \n",
       "3  ../history/MobileNetV2  feature extraction without data augmentation GAP   \n",
       "2  ../history/MobileNetV2  feature extraction without data augmentation GAP   \n",
       "1  ../history/MobileNetV2  feature extraction without data augmentation GAP   \n",
       "0  ../history/MobileNetV2  feature extraction without data augmentation GAP   \n",
       "\n",
       "   train_acc  train_loss   val_acc  val_loss  diff_loss  diff_acc  \n",
       "4   0.822960    0.420610  0.797468  0.460860   0.040250  0.025492  \n",
       "3   0.819206    0.424893  0.802215  0.461608   0.036715  0.016990  \n",
       "2   0.811697    0.436588  0.797468  0.464961   0.028373  0.014229  \n",
       "1   0.799842    0.460437  0.803797  0.465906   0.005469  0.003956  \n",
       "0   0.769413    0.530410  0.799051  0.485410   0.044999  0.029637  "
      ]
     },
     "execution_count": 17,
     "metadata": {},
     "output_type": "execute_result"
    }
   ],
   "source": [
    "file = 'MobileNetV2_fire_break_feature_extraction_without_data_augmentation_GAP_history.csv'\n",
    "df_MobileNetV2 = pd.read_csv(folder+file)\n",
    "\n",
    "df_MobileNetV2 = add_info(df_MobileNetV2,folder+file)\n",
    "df_MobileNetV2.head().sort_values('train_acc', ascending=False)"
   ]
  },
  {
   "cell_type": "code",
   "execution_count": 18,
   "metadata": {
    "ExecuteTime": {
     "end_time": "2019-11-30T18:44:19.130808Z",
     "start_time": "2019-11-30T18:44:18.436840Z"
    }
   },
   "outputs": [
    {
     "data": {
      "image/png": "[encoded data removed]",
      "text/plain": [
       "<Figure size 432x288 with 1 Axes>"
      ]
     },
     "metadata": {
      "needs_background": "light"
     },
     "output_type": "display_data"
    },
    {
     "data": {
      "image/png": "[encoded data removed]",
      "text/plain": [
       "<Figure size 432x288 with 1 Axes>"
      ]
     },
     "metadata": {
      "needs_background": "light"
     },
     "output_type": "display_data"
    }
   ],
   "source": [
    "import matplotlib.pyplot as plt\n",
    "\n",
    "acc = df_MobileNetV2['train_acc']\n",
    "val_acc = df_MobileNetV2['val_acc']\n",
    "loss = df_MobileNetV2['train_loss']\n",
    "val_loss = df_MobileNetV2['val_loss']\n",
    "\n",
    "epochs = range(len(acc))\n",
    "\n",
    "plt.plot(epochs, acc, 'r', label='Training acc')\n",
    "plt.plot(epochs, val_acc, 'b', label='Validation acc')\n",
    "plt.title('Training and validation accuracy')\n",
    "plt.legend()\n",
    "\n",
    "plt.figure()\n",
    "\n",
    "plt.plot(epochs, loss, 'r', label='Training loss')\n",
    "plt.plot(epochs, val_loss, 'b', label='Validation loss')\n",
    "plt.title('Training and validation loss')\n",
    "plt.legend()\n",
    "\n",
    "plt.show()"
   ]
  },
  {
   "cell_type": "code",
   "execution_count": 19,
   "metadata": {
    "ExecuteTime": {
     "end_time": "2019-11-30T18:44:19.774774Z",
     "start_time": "2019-11-30T18:44:19.133525Z"
    }
   },
   "outputs": [
    {
     "data": {
      "image/png": "[encoded data removed]",
      "text/plain": [
       "<Figure size 432x288 with 1 Axes>"
      ]
     },
     "metadata": {
      "needs_background": "light"
     },
     "output_type": "display_data"
    },
    {
     "data": {
      "image/png": "[encoded data removed]",
      "text/plain": [
       "<Figure size 432x288 with 1 Axes>"
      ]
     },
     "metadata": {
      "needs_background": "light"
     },
     "output_type": "display_data"
    }
   ],
   "source": [
    "plt.plot(epochs,\n",
    "         smooth_curve(acc), 'r', label='Smoothed training acc')\n",
    "plt.plot(epochs,\n",
    "         smooth_curve(val_acc), 'b', label='Smoothed validation acc')\n",
    "plt.title('Training and validation accuracy')\n",
    "plt.legend()\n",
    "\n",
    "plt.figure()\n",
    "\n",
    "plt.plot(epochs,\n",
    "         smooth_curve(loss), 'r', label='Smoothed training loss')\n",
    "plt.plot(epochs,\n",
    "         smooth_curve(val_loss), 'b', label='Smoothed validation loss')\n",
    "plt.title('Training and validation loss')\n",
    "plt.legend()\n",
    "\n",
    "plt.show()"
   ]
  }
 ],
 "metadata": {
  "hide_input": false,
  "kernelspec": {
   "display_name": "Python 3",
   "language": "python",
   "name": "python3"
  },
  "language_info": {
   "codemirror_mode": {
    "name": "ipython",
    "version": 3
   },
   "file_extension": ".py",
   "mimetype": "text/x-python",
   "name": "python",
   "nbconvert_exporter": "python",
   "pygments_lexer": "ipython3",
   "version": "3.7.2"
  },
  "toc": {
   "base_numbering": 1,
   "nav_menu": {},
   "number_sections": true,
   "sideBar": true,
   "skip_h1_title": false,
   "title_cell": "Table of Contents",
   "title_sidebar": "Contents",
   "toc_cell": false,
   "toc_position": {},
   "toc_section_display": true,
   "toc_window_display": true
  },
  "varInspector": {
   "cols": {
    "lenName": 16,
    "lenType": 16,
    "lenVar": 40
   },
   "kernels_config": {
    "python": {
     "delete_cmd_postfix": "",
     "delete_cmd_prefix": "del ",
     "library": "var_list.py",
     "varRefreshCmd": "print(var_dic_list())"
    },
    "r": {
     "delete_cmd_postfix": ") ",
     "delete_cmd_prefix": "rm(",
     "library": "var_list.r",
     "varRefreshCmd": "cat(var_dic_list()) "
    }
   },
   "types_to_exclude": [
    "module",
    "function",
    "builtin_function_or_method",
    "instance",
    "_Feature"
   ],
   "window_display": false
  }
 },
 "nbformat": 4,
 "nbformat_minor": 2
}
