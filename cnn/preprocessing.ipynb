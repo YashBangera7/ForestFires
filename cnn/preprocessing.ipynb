{
 "cells": [
  {
   "cell_type": "code",
   "execution_count": 1,
   "metadata": {},
   "outputs": [
    {
     "name": "stderr",
     "output_type": "stream",
     "text": [
      "C:\\Users\\Leonardo\\Anaconda3\\lib\\site-packages\\h5py\\__init__.py:36: FutureWarning: Conversion of the second argument of issubdtype from `float` to `np.floating` is deprecated. In future, it will be treated as `np.float64 == np.dtype(float).type`.\n",
      "  from ._conv import register_converters as _register_converters\n",
      "Using TensorFlow backend.\n"
     ]
    }
   ],
   "source": [
    "from PIL import Image\n",
    "from shutil import copy\n",
    "\n",
    "import numpy as np\n",
    "import os\n",
    "from io import BytesIO\n",
    "from keras.preprocessing.image import img_to_array\n",
    "\n",
    "Image.MAX_IMAGE_PIXELS = None\n",
    "\n",
    "os.chdir('..')\n"
   ]
  },
  {
   "cell_type": "code",
   "execution_count": 2,
   "metadata": {},
   "outputs": [],
   "source": [
    "input_dir = os.path.join(os.getcwd(), 'images2')"
   ]
  },
  {
   "cell_type": "code",
   "execution_count": 3,
   "metadata": {},
   "outputs": [
    {
     "data": {
      "text/plain": [
       "'C:\\\\Users\\\\Leonardo\\\\forestfire'"
      ]
     },
     "execution_count": 3,
     "metadata": {},
     "output_type": "execute_result"
    }
   ],
   "source": [
    "os.getcwd()"
   ]
  },
  {
   "cell_type": "code",
   "execution_count": 4,
   "metadata": {},
   "outputs": [],
   "source": [
    "def patch_maker(file, patch_size=64):\n",
    "    #Function receives a file and creates the patches of 64 x 64 as a list of numpy arrays\n",
    "    patches = []\n",
    "    size_0 = 1920\n",
    "    size_1 = 1088\n",
    "    x_pos = 0\n",
    "    y_pos = 0\n",
    "    img = Image.open(file)\n",
    "    #Applies a 8 pixels border on top to have exactly 510 patches of size 64 x 64 on the 1920 x 1088 images\n",
    "    temp = Image.new(img.mode, (img.size[0], img.size[1] + 8), color=0)\n",
    "    temp.paste(img, (0, 8))\n",
    "    \n",
    "    for i in range(int(size_0 / patch_size) * int(size_1 / patch_size)):\n",
    "        if x_pos == size_0:\n",
    "            x_pos = 0\n",
    "            y_pos += patch_size\n",
    "\n",
    "        patches.append(temp.crop(box=(x_pos, y_pos, x_pos + patch_size, y_pos + patch_size)).copy())\n",
    "\n",
    "        x_pos += patch_size\n",
    "            \n",
    "    return patches"
   ]
  },
  {
   "cell_type": "code",
   "execution_count": 5,
   "metadata": {},
   "outputs": [],
   "source": [
    "def patch_unmaker(patches, patch_size=64):\n",
    "    #Function receives a list of 510 patches of size 64 x 64 and creates an 1920 x 1080 image again\n",
    "    size_0 = 1920\n",
    "    size_1 = 1088\n",
    "    img = Image.new('RGB', (size_0, size_1), color=0)\n",
    "    x_pos = 0\n",
    "    y_pos = 0\n",
    "    \n",
    "    for i in range(len(patches)):\n",
    "        if x_pos == size_0:\n",
    "            x_pos = 0\n",
    "            y_pos += patch_size\n",
    "            img.paste(patches[i], (x_pos, y_pos))\n",
    "            x_pos += patch_size\n",
    "        else:\n",
    "            img.paste(patches[i], (x_pos, y_pos))\n",
    "            x_pos += patch_size\n",
    "\n",
    "    \n",
    "    img = img.crop(box=(0,8, size_0, size_1))\n",
    "    \n",
    "    return img"
   ]
  },
  {
   "cell_type": "code",
   "execution_count": 6,
   "metadata": {},
   "outputs": [],
   "source": [
    "os.mkdir(os.path.join(input_dir, 'smoke'))\n",
    "os.mkdir(os.path.join(input_dir, 'not_smoke'))"
   ]
  },
  {
   "cell_type": "code",
   "execution_count": 9,
   "metadata": {},
   "outputs": [
    {
     "name": "stdout",
     "output_type": "stream",
     "text": [
      "0\n",
      "500\n",
      "1000\n",
      "1500\n",
      "2000\n",
      "2500\n",
      "3000\n",
      "3500\n",
      "4000\n",
      "4500\n",
      "5000\n",
      "5500\n",
      "6000\n"
     ]
    }
   ],
   "source": [
    "count = 0\n",
    "count_smoke = 0\n",
    "count_not_smoke = 0\n",
    "\n",
    "threshold = 0.25\n",
    "numberpixels = 64*64\n",
    "pixels_threshold = threshold * numberpixels\n",
    "\n",
    "for i in sorted(os.listdir(input_dir)):\n",
    "    if 'mask' in str(i):\n",
    "        number = i.split('.')[0].split('_')[0]\n",
    "        mask_patches = patch_maker(os.path.join(input_dir,i))\n",
    "        correspondent_image = \"%s_original.png\" %number\n",
    "        image_patches = patch_maker(os.path.join(input_dir, correspondent_image))\n",
    "        \n",
    "        for j, k in enumerate(mask_patches):\n",
    "            if (img_to_array(k).sum() / 255) > pixels_threshold:\n",
    "                newfileimgname = \"%s_%s.png\" %(correspondent_image.split('.')[0], j)\n",
    "                image_patches[j].save(os.path.join(input_dir, 'smoke', newfileimgname))\n",
    "                count_smoke += 1\n",
    "            else:\n",
    "                newfileimgname = \"%s_%s.png\" %(correspondent_image.split('.')[0], j)\n",
    "                image_patches[j].save(os.path.join(input_dir, 'not_smoke', newfileimgname))\n",
    "                count_not_smoke += 1\n",
    "                    \n",
    "        if count % 500 == 0:\n",
    "            print(count)\n",
    "        \n",
    "        count += 1\n",
    "\n",
    "print('%s smoke 64 x 64 patches were created' %count_smoke)\n",
    "print(' and %s not_smoke 64 x 64 patches were created' %count_not_smoke)"
   ]
  },
  {
   "cell_type": "code",
   "execution_count": 6,
   "metadata": {},
   "outputs": [],
   "source": [
    "os.mkdir(os.path.join(input_dir, 'train'))\n",
    "os.mkdir(os.path.join(input_dir, 'val'))\n",
    "os.mkdir(os.path.join(input_dir, 'train/smoke'))\n",
    "os.mkdir(os.path.join(input_dir, 'train/not_smoke'))\n",
    "os.mkdir(os.path.join(input_dir, 'val/smoke'))\n",
    "os.mkdir(os.path.join(input_dir, 'val/not_smoke'))"
   ]
  },
  {
   "cell_type": "code",
   "execution_count": 7,
   "metadata": {},
   "outputs": [],
   "source": [
    "def val_generator(category, percentage_images_used, train_split):\n",
    "    path = os.path.join(input_dir, category)\n",
    "    for i in sorted(os.listdir(path)):\n",
    "        random = np.random.random()\n",
    "        if random > percentage_images_used:\n",
    "            pass\n",
    "        else:\n",
    "            random2 = np.random.random()\n",
    "            if random2 > train_split:\n",
    "                copy(os.path.join(path, i), (os.path.join(input_dir,'val', category)), follow_symlinks=True)\n",
    "            else:\n",
    "                copy(os.path.join(path, i), (os.path.join(input_dir,'train', category)), follow_symlinks=True)"
   ]
  },
  {
   "cell_type": "code",
   "execution_count": 8,
   "metadata": {},
   "outputs": [],
   "source": [
    "# to replicate the work done on paper, percentage_images_used needs to be equal to 0,053\n",
    "val_generator('smoke', 0.3, 0.85)"
   ]
  },
  {
   "cell_type": "code",
   "execution_count": 9,
   "metadata": {},
   "outputs": [],
   "source": [
    "val_generator('not_smoke', 0.03, 0.85)"
   ]
  },
  {
   "cell_type": "code",
   "execution_count": null,
   "metadata": {},
   "outputs": [],
   "source": []
  }
 ],
 "metadata": {
  "kernelspec": {
   "display_name": "Python 3",
   "language": "python",
   "name": "python3"
  },
  "language_info": {
   "codemirror_mode": {
    "name": "ipython",
    "version": 3
   },
   "file_extension": ".py",
   "mimetype": "text/x-python",
   "name": "python",
   "nbconvert_exporter": "python",
   "pygments_lexer": "ipython3",
   "version": "3.6.4"
  }
 },
 "nbformat": 4,
 "nbformat_minor": 2
}
